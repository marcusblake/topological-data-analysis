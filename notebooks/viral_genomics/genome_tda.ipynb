{
 "cells": [
  {
   "cell_type": "code",
   "execution_count": 1,
   "metadata": {},
   "outputs": [],
   "source": [
    "import gudhi as gd\n",
    "import pandas as pd\n",
    "from scipy.spatial import distance\n",
    "import numpy as np\n",
    "from sklearn.manifold import TSNE, Isomap\n",
    "import matplotlib.pyplot as plt\n",
    "import kmapper as km\n",
    "from sklearn.cluster import KMeans\n",
    "from kmapper.jupyter import display\n",
    "from sklearn.decomposition import PCA\n",
    "import umap\n",
    "from kmapper.plotlyviz import plotlyviz\n",
    "from sklearn.manifold import MDS\n"
   ]
  },
  {
   "cell_type": "code",
   "execution_count": 2,
   "metadata": {},
   "outputs": [],
   "source": [
    "ebola_genome_data = pd.read_feather(\"data/ebola_obs.feather\")\n",
    "ebola_genome_lab_data = pd.read_feather(\"data/ebola_lab.feather\")"
   ]
  },
  {
   "cell_type": "code",
   "execution_count": 3,
   "metadata": {},
   "outputs": [
    {
     "data": {
      "text/html": [
       "<div>\n",
       "<style scoped>\n",
       "    .dataframe tbody tr th:only-of-type {\n",
       "        vertical-align: middle;\n",
       "    }\n",
       "\n",
       "    .dataframe tbody tr th {\n",
       "        vertical-align: top;\n",
       "    }\n",
       "\n",
       "    .dataframe thead th {\n",
       "        text-align: right;\n",
       "    }\n",
       "</style>\n",
       "<table border=\"1\" class=\"dataframe\">\n",
       "  <thead>\n",
       "    <tr style=\"text-align: right;\">\n",
       "      <th></th>\n",
       "      <th>X1</th>\n",
       "      <th>X2</th>\n",
       "      <th>X3</th>\n",
       "      <th>X4</th>\n",
       "      <th>X5</th>\n",
       "      <th>X6</th>\n",
       "      <th>X7</th>\n",
       "      <th>X8</th>\n",
       "      <th>X9</th>\n",
       "      <th>X10</th>\n",
       "      <th>...</th>\n",
       "      <th>X26436</th>\n",
       "      <th>X26437</th>\n",
       "      <th>X26438</th>\n",
       "      <th>X26439</th>\n",
       "      <th>X26440</th>\n",
       "      <th>X26441</th>\n",
       "      <th>X26442</th>\n",
       "      <th>X26443</th>\n",
       "      <th>X26444</th>\n",
       "      <th>X26445</th>\n",
       "    </tr>\n",
       "  </thead>\n",
       "  <tbody>\n",
       "    <tr>\n",
       "      <th>0</th>\n",
       "      <td>NaN</td>\n",
       "      <td>NaN</td>\n",
       "      <td>NaN</td>\n",
       "      <td>NaN</td>\n",
       "      <td>3.0</td>\n",
       "      <td>1.0</td>\n",
       "      <td>3.0</td>\n",
       "      <td>1.0</td>\n",
       "      <td>3.0</td>\n",
       "      <td>1.0</td>\n",
       "      <td>...</td>\n",
       "      <td>NaN</td>\n",
       "      <td>NaN</td>\n",
       "      <td>NaN</td>\n",
       "      <td>NaN</td>\n",
       "      <td>NaN</td>\n",
       "      <td>NaN</td>\n",
       "      <td>NaN</td>\n",
       "      <td>NaN</td>\n",
       "      <td>NaN</td>\n",
       "      <td>NaN</td>\n",
       "    </tr>\n",
       "    <tr>\n",
       "      <th>1</th>\n",
       "      <td>3.0</td>\n",
       "      <td>4.0</td>\n",
       "      <td>4.0</td>\n",
       "      <td>1.0</td>\n",
       "      <td>3.0</td>\n",
       "      <td>1.0</td>\n",
       "      <td>3.0</td>\n",
       "      <td>1.0</td>\n",
       "      <td>3.0</td>\n",
       "      <td>1.0</td>\n",
       "      <td>...</td>\n",
       "      <td>2.0</td>\n",
       "      <td>4.0</td>\n",
       "      <td>2.0</td>\n",
       "      <td>4.0</td>\n",
       "      <td>2.0</td>\n",
       "      <td>4.0</td>\n",
       "      <td>2.0</td>\n",
       "      <td>3.0</td>\n",
       "      <td>3.0</td>\n",
       "      <td>1.0</td>\n",
       "    </tr>\n",
       "    <tr>\n",
       "      <th>2</th>\n",
       "      <td>3.0</td>\n",
       "      <td>4.0</td>\n",
       "      <td>4.0</td>\n",
       "      <td>1.0</td>\n",
       "      <td>3.0</td>\n",
       "      <td>1.0</td>\n",
       "      <td>3.0</td>\n",
       "      <td>1.0</td>\n",
       "      <td>3.0</td>\n",
       "      <td>1.0</td>\n",
       "      <td>...</td>\n",
       "      <td>2.0</td>\n",
       "      <td>4.0</td>\n",
       "      <td>2.0</td>\n",
       "      <td>4.0</td>\n",
       "      <td>2.0</td>\n",
       "      <td>4.0</td>\n",
       "      <td>2.0</td>\n",
       "      <td>3.0</td>\n",
       "      <td>3.0</td>\n",
       "      <td>1.0</td>\n",
       "    </tr>\n",
       "    <tr>\n",
       "      <th>3</th>\n",
       "      <td>3.0</td>\n",
       "      <td>4.0</td>\n",
       "      <td>4.0</td>\n",
       "      <td>1.0</td>\n",
       "      <td>3.0</td>\n",
       "      <td>1.0</td>\n",
       "      <td>3.0</td>\n",
       "      <td>1.0</td>\n",
       "      <td>3.0</td>\n",
       "      <td>1.0</td>\n",
       "      <td>...</td>\n",
       "      <td>2.0</td>\n",
       "      <td>4.0</td>\n",
       "      <td>2.0</td>\n",
       "      <td>4.0</td>\n",
       "      <td>2.0</td>\n",
       "      <td>4.0</td>\n",
       "      <td>2.0</td>\n",
       "      <td>3.0</td>\n",
       "      <td>3.0</td>\n",
       "      <td>NaN</td>\n",
       "    </tr>\n",
       "    <tr>\n",
       "      <th>4</th>\n",
       "      <td>3.0</td>\n",
       "      <td>4.0</td>\n",
       "      <td>4.0</td>\n",
       "      <td>1.0</td>\n",
       "      <td>3.0</td>\n",
       "      <td>1.0</td>\n",
       "      <td>3.0</td>\n",
       "      <td>1.0</td>\n",
       "      <td>3.0</td>\n",
       "      <td>1.0</td>\n",
       "      <td>...</td>\n",
       "      <td>2.0</td>\n",
       "      <td>4.0</td>\n",
       "      <td>2.0</td>\n",
       "      <td>4.0</td>\n",
       "      <td>2.0</td>\n",
       "      <td>4.0</td>\n",
       "      <td>2.0</td>\n",
       "      <td>3.0</td>\n",
       "      <td>3.0</td>\n",
       "      <td>NaN</td>\n",
       "    </tr>\n",
       "  </tbody>\n",
       "</table>\n",
       "<p>5 rows × 26445 columns</p>\n",
       "</div>"
      ],
      "text/plain": [
       "    X1   X2   X3   X4   X5   X6   X7   X8   X9  X10  ...  X26436  X26437  \\\n",
       "0  NaN  NaN  NaN  NaN  3.0  1.0  3.0  1.0  3.0  1.0  ...     NaN     NaN   \n",
       "1  3.0  4.0  4.0  1.0  3.0  1.0  3.0  1.0  3.0  1.0  ...     2.0     4.0   \n",
       "2  3.0  4.0  4.0  1.0  3.0  1.0  3.0  1.0  3.0  1.0  ...     2.0     4.0   \n",
       "3  3.0  4.0  4.0  1.0  3.0  1.0  3.0  1.0  3.0  1.0  ...     2.0     4.0   \n",
       "4  3.0  4.0  4.0  1.0  3.0  1.0  3.0  1.0  3.0  1.0  ...     2.0     4.0   \n",
       "\n",
       "   X26438  X26439  X26440  X26441  X26442  X26443  X26444  X26445  \n",
       "0     NaN     NaN     NaN     NaN     NaN     NaN     NaN     NaN  \n",
       "1     2.0     4.0     2.0     4.0     2.0     3.0     3.0     1.0  \n",
       "2     2.0     4.0     2.0     4.0     2.0     3.0     3.0     1.0  \n",
       "3     2.0     4.0     2.0     4.0     2.0     3.0     3.0     NaN  \n",
       "4     2.0     4.0     2.0     4.0     2.0     3.0     3.0     NaN  \n",
       "\n",
       "[5 rows x 26445 columns]"
      ]
     },
     "execution_count": 3,
     "metadata": {},
     "output_type": "execute_result"
    }
   ],
   "source": [
    "ebola_genome_data.head()"
   ]
  },
  {
   "cell_type": "code",
   "execution_count": 7,
   "metadata": {},
   "outputs": [
    {
     "data": {
      "text/plain": [
       "array([nan,  3.,  1.,  4.,  2.])"
      ]
     },
     "execution_count": 7,
     "metadata": {},
     "output_type": "execute_result"
    }
   ],
   "source": [
    "ebola_genome_data.iloc[0].unique()"
   ]
  },
  {
   "cell_type": "code",
   "execution_count": 96,
   "metadata": {},
   "outputs": [
    {
     "data": {
      "text/html": [
       "<div>\n",
       "<style scoped>\n",
       "    .dataframe tbody tr th:only-of-type {\n",
       "        vertical-align: middle;\n",
       "    }\n",
       "\n",
       "    .dataframe tbody tr th {\n",
       "        vertical-align: top;\n",
       "    }\n",
       "\n",
       "    .dataframe thead th {\n",
       "        text-align: right;\n",
       "    }\n",
       "</style>\n",
       "<table border=\"1\" class=\"dataframe\">\n",
       "  <thead>\n",
       "    <tr style=\"text-align: right;\">\n",
       "      <th></th>\n",
       "      <th>ebola.lab</th>\n",
       "    </tr>\n",
       "  </thead>\n",
       "  <tbody>\n",
       "    <tr>\n",
       "      <th>0</th>\n",
       "      <td>Cue-bat</td>\n",
       "    </tr>\n",
       "    <tr>\n",
       "      <th>1</th>\n",
       "      <td>Bun-hum</td>\n",
       "    </tr>\n",
       "    <tr>\n",
       "      <th>2</th>\n",
       "      <td>Bun-hum</td>\n",
       "    </tr>\n",
       "    <tr>\n",
       "      <th>3</th>\n",
       "      <td>Bun-hum</td>\n",
       "    </tr>\n",
       "    <tr>\n",
       "      <th>4</th>\n",
       "      <td>Res-mon</td>\n",
       "    </tr>\n",
       "  </tbody>\n",
       "</table>\n",
       "</div>"
      ],
      "text/plain": [
       "  ebola.lab\n",
       "0   Cue-bat\n",
       "1   Bun-hum\n",
       "2   Bun-hum\n",
       "3   Bun-hum\n",
       "4   Res-mon"
      ]
     },
     "execution_count": 96,
     "metadata": {},
     "output_type": "execute_result"
    }
   ],
   "source": [
    "ebola_genome_lab_data.head()"
   ]
  },
  {
   "cell_type": "code",
   "execution_count": 8,
   "metadata": {},
   "outputs": [],
   "source": [
    "virus_types = {'bun': 0, 'sud': 1, 'tai': 2, 'zai': 3, 'res':4, 'cue': 5, 'mar': 6}\n",
    "virus_display = ['Bundibugyo virus', 'Sudan ebolavirus', 'Tai Forest ebolavirus', 'Zaire ebolavirus', 'Reston ebolavirus', 'Cuevavirus', 'Marburgvirus']"
   ]
  },
  {
   "cell_type": "code",
   "execution_count": 9,
   "metadata": {},
   "outputs": [],
   "source": [
    "def virus_type_to_class(type_and_species):\n",
    "    type_and_species = type_and_species.lower()\n",
    "    for virus, class_num in virus_types.items():\n",
    "        if virus in type_and_species:\n",
    "            return class_num\n",
    "    print(type_and_species)\n",
    "    raise ValueError()"
   ]
  },
  {
   "cell_type": "code",
   "execution_count": 10,
   "metadata": {},
   "outputs": [
    {
     "data": {
      "text/html": [
       "<div>\n",
       "<style scoped>\n",
       "    .dataframe tbody tr th:only-of-type {\n",
       "        vertical-align: middle;\n",
       "    }\n",
       "\n",
       "    .dataframe tbody tr th {\n",
       "        vertical-align: top;\n",
       "    }\n",
       "\n",
       "    .dataframe thead th {\n",
       "        text-align: right;\n",
       "    }\n",
       "</style>\n",
       "<table border=\"1\" class=\"dataframe\">\n",
       "  <thead>\n",
       "    <tr style=\"text-align: right;\">\n",
       "      <th></th>\n",
       "      <th>ebola.lab</th>\n",
       "    </tr>\n",
       "  </thead>\n",
       "  <tbody>\n",
       "    <tr>\n",
       "      <th>0</th>\n",
       "      <td>5</td>\n",
       "    </tr>\n",
       "    <tr>\n",
       "      <th>1</th>\n",
       "      <td>0</td>\n",
       "    </tr>\n",
       "    <tr>\n",
       "      <th>2</th>\n",
       "      <td>0</td>\n",
       "    </tr>\n",
       "    <tr>\n",
       "      <th>3</th>\n",
       "      <td>0</td>\n",
       "    </tr>\n",
       "    <tr>\n",
       "      <th>4</th>\n",
       "      <td>4</td>\n",
       "    </tr>\n",
       "  </tbody>\n",
       "</table>\n",
       "</div>"
      ],
      "text/plain": [
       "   ebola.lab\n",
       "0          5\n",
       "1          0\n",
       "2          0\n",
       "3          0\n",
       "4          4"
      ]
     },
     "execution_count": 10,
     "metadata": {},
     "output_type": "execute_result"
    }
   ],
   "source": [
    "ebola_genome_lab_data = ebola_genome_lab_data.applymap(virus_type_to_class)\n",
    "ebola_genome_lab_data.head()"
   ]
  },
  {
   "cell_type": "code",
   "execution_count": 11,
   "metadata": {},
   "outputs": [
    {
     "data": {
      "text/plain": [
       "ebola.lab\n",
       "3            64\n",
       "6            22\n",
       "1             6\n",
       "4             5\n",
       "0             3\n",
       "2             2\n",
       "5             1\n",
       "dtype: int64"
      ]
     },
     "execution_count": 11,
     "metadata": {},
     "output_type": "execute_result"
    }
   ],
   "source": [
    "ebola_genome_lab_data.value_counts()"
   ]
  },
  {
   "cell_type": "code",
   "execution_count": 12,
   "metadata": {},
   "outputs": [],
   "source": [
    "def calculate_distance_matrix(data, metric):\n",
    "    n = len(data)\n",
    "    distances = np.zeros((n,n))\n",
    "\n",
    "    for i in range(n):\n",
    "        for j in range(i,n):\n",
    "            distance = metric(data[i], data[j])\n",
    "            distances[i][j], distances[j][i] = distance, distance\n",
    "    \n",
    "    return distances"
   ]
  },
  {
   "cell_type": "code",
   "execution_count": 13,
   "metadata": {},
   "outputs": [
    {
     "data": {
      "text/plain": [
       "array([[nan, nan, nan, ..., nan, nan, nan],\n",
       "       [ 3.,  4.,  4., ...,  3.,  3.,  1.],\n",
       "       [ 3.,  4.,  4., ...,  3.,  3.,  1.],\n",
       "       ...,\n",
       "       [nan, nan,  4., ...,  3.,  3.,  1.],\n",
       "       [nan, nan,  4., ...,  3.,  3.,  1.],\n",
       "       [nan,  1.,  4., ...,  3.,  3., nan]])"
      ]
     },
     "execution_count": 13,
     "metadata": {},
     "output_type": "execute_result"
    }
   ],
   "source": [
    "ebola_genome_data_np = ebola_genome_data.to_numpy()\n",
    "ebola_genome_data_np"
   ]
  },
  {
   "cell_type": "code",
   "execution_count": 14,
   "metadata": {},
   "outputs": [
    {
     "data": {
      "text/plain": [
       "array([[0.28428815, 0.67517489, 0.67517489, ..., 0.73091322, 0.73095103,\n",
       "        0.73189639],\n",
       "       [0.67517489, 0.28379656, 0.28379656, ..., 0.71695973, 0.71699754,\n",
       "        0.71745131],\n",
       "       [0.67517489, 0.28379656, 0.28379656, ..., 0.71695973, 0.71699754,\n",
       "        0.71745131],\n",
       "       ...,\n",
       "       [0.73091322, 0.71695973, 0.71695973, ..., 0.27725468, 0.27789752,\n",
       "        0.32055209],\n",
       "       [0.73095103, 0.71699754, 0.71699754, ..., 0.27789752, 0.27729249,\n",
       "        0.32021176],\n",
       "       [0.73189639, 0.71745131, 0.71745131, ..., 0.32055209, 0.32021176,\n",
       "        0.27733031]])"
      ]
     },
     "execution_count": 14,
     "metadata": {},
     "output_type": "execute_result"
    }
   ],
   "source": [
    "X = calculate_distance_matrix(ebola_genome_data_np, distance.hamming)\n",
    "X"
   ]
  },
  {
   "cell_type": "code",
   "execution_count": 77,
   "metadata": {},
   "outputs": [
    {
     "name": "stdout",
     "output_type": "stream",
     "text": [
      "KL Divergence: 0.18096281588077545\n",
      "[[ 0.31883144  0.37137914]\n",
      " [ 0.8577513  -0.08645966]\n",
      " [ 0.85861284 -0.08428638]\n",
      " [ 0.8631785  -0.08845893]\n",
      " [ 0.39335173  2.1171193 ]]\n"
     ]
    }
   ],
   "source": [
    "tsne_solver = TSNE(n_components=2, metric='precomputed', init='random')\n",
    "tsne_embeddings = tsne_solver.fit_transform(X)\n",
    "print('KL Divergence:', tsne_solver.kl_divergence_)\n",
    "print(tsne_embeddings[:5])"
   ]
  },
  {
   "cell_type": "code",
   "execution_count": 78,
   "metadata": {},
   "outputs": [
    {
     "name": "stderr",
     "output_type": "stream",
     "text": [
      "/var/folders/vp/7cb3bs4171vd6ywq0xgznpbh0000gn/T/ipykernel_51211/1677630674.py:6: UserWarning:\n",
      "\n",
      "Matplotlib is currently using module://matplotlib_inline.backend_inline, which is a non-GUI backend, so cannot show the figure.\n",
      "\n"
     ]
    },
    {
     "data": {
      "image/png": "[encoded data removed]",
      "text/plain": [
       "<Figure size 640x480 with 1 Axes>"
      ]
     },
     "metadata": {},
     "output_type": "display_data"
    }
   ],
   "source": [
    "fig = plt.figure()\n",
    "ax = fig.add_subplot()\n",
    "scatter = ax.scatter(tsne_embeddings[:,0], tsne_embeddings[:,1], c=ebola_genome_lab_data.to_numpy())\n",
    "ax.legend(handles=scatter.legend_elements()[0], labels=virus_display)\n",
    "ax.set_title(\"t-SNE\")\n",
    "fig.show()"
   ]
  },
  {
   "cell_type": "code",
   "execution_count": 16,
   "metadata": {},
   "outputs": [],
   "source": [
    "classes = ebola_genome_lab_data.to_numpy().flatten()"
   ]
  },
  {
   "cell_type": "code",
   "execution_count": 40,
   "metadata": {},
   "outputs": [],
   "source": [
    "mapper = km.KeplerMapper()\n",
    "projected_X = mapper.fit_transform(X, projection=[TSNE(random_state=1)])\n",
    "simplicial_complex = mapper.map(projected_X, X, cover=km.Cover(n_cubes=15, perc_overlap=0.5))\n",
    "_ = mapper.visualize(simplicial_complex, path_html='viral_genome_graph_tsne.html', custom_tooltips=classes)\n"
   ]
  },
  {
   "cell_type": "code",
   "execution_count": 41,
   "metadata": {},
   "outputs": [
    {
     "ename": "AttributeError",
     "evalue": "type object 'DOMWidget' has no attribute '_ipython_display_'",
     "output_type": "error",
     "traceback": [
      "\u001b[0;31m---------------------------------------------------------------------------\u001b[0m",
      "\u001b[0;31mAttributeError\u001b[0m                            Traceback (most recent call last)",
      "File \u001b[0;32m~/Library/Python/3.9/lib/python/site-packages/IPython/core/formatters.py:920\u001b[0m, in \u001b[0;36mIPythonDisplayFormatter.__call__\u001b[0;34m(self, obj)\u001b[0m\n\u001b[1;32m    918\u001b[0m method \u001b[39m=\u001b[39m get_real_method(obj, \u001b[39mself\u001b[39m\u001b[39m.\u001b[39mprint_method)\n\u001b[1;32m    919\u001b[0m \u001b[39mif\u001b[39;00m method \u001b[39mis\u001b[39;00m \u001b[39mnot\u001b[39;00m \u001b[39mNone\u001b[39;00m:\n\u001b[0;32m--> 920\u001b[0m     method()\n\u001b[1;32m    921\u001b[0m     \u001b[39mreturn\u001b[39;00m \u001b[39mTrue\u001b[39;00m\n",
      "File \u001b[0;32m/usr/local/lib/python3.9/site-packages/plotly/basewidget.py:741\u001b[0m, in \u001b[0;36mBaseFigureWidget._ipython_display_\u001b[0;34m(self)\u001b[0m\n\u001b[1;32m    737\u001b[0m \u001b[39m\"\"\"\u001b[39;00m\n\u001b[1;32m    738\u001b[0m \u001b[39mHandle rich display of figures in ipython contexts\u001b[39;00m\n\u001b[1;32m    739\u001b[0m \u001b[39m\"\"\"\u001b[39;00m\n\u001b[1;32m    740\u001b[0m \u001b[39m# Override BaseFigure's display to make sure we display the widget version\u001b[39;00m\n\u001b[0;32m--> 741\u001b[0m widgets\u001b[39m.\u001b[39;49mDOMWidget\u001b[39m.\u001b[39;49m_ipython_display_(\u001b[39mself\u001b[39m)\n",
      "\u001b[0;31mAttributeError\u001b[0m: type object 'DOMWidget' has no attribute '_ipython_display_'"
     ]
    },
    {
     "data": {
      "application/vnd.plotly.v1+json": {
       "config": {
        "plotlyServerURL": "https://plot.ly"
       },
       "data": [
        {
         "hoverinfo": "none",
         "line": {
          "color": "rgb(180,180,180)",
          "width": 1.5
         },
         "mode": "lines",
         "type": "scatter",
         "uid": "d5cd9dbd-7924-44f0-bfbf-c65cfea9f969",
         "x": [
          2.879539801928139,
          3.333837737146109,
          null,
          2.879539801928139,
          3.585429583152692,
          null,
          2.879539801928139,
          2.469580510824071,
          null,
          3.333837737146109,
          3.387475530134996,
          null,
          3.333837737146109,
          3.585429583152692,
          null,
          3.333837737146109,
          2.469580510824071,
          null,
          3.333837737146109,
          2.3904930255012795,
          null,
          3.387475530134996,
          2.469580510824071,
          null,
          3.387475530134996,
          2.3904930255012795,
          null,
          3.585429583152692,
          2.469580510824071,
          null,
          2.469580510824071,
          2.3904930255012795,
          null,
          2.469580510824071,
          1.1828048811837026,
          null,
          2.469580510824071,
          1.3469760450759354,
          null,
          2.3904930255012795,
          1.1828048811837026,
          null,
          2.3904930255012795,
          1.3469760450759354,
          null,
          1.1828048811837026,
          1.3469760450759354,
          null,
          1.1828048811837026,
          0.16497539123466523,
          null,
          1.1828048811837026,
          0.4210346803118928,
          null,
          1.3469760450759354,
          0.16497539123466523,
          null,
          1.3469760450759354,
          0.4210346803118928,
          null,
          0.16497539123466523,
          0.4210346803118928,
          null,
          0.4210346803118928,
          0.49201052983080384,
          null,
          0.49201052983080384,
          1.4769587832940718,
          null,
          1.4769587832940718,
          2.622202268968104,
          null,
          2.622202268968104,
          3.3373679218759693,
          null,
          2.622202268968104,
          3.6278881165426613,
          null,
          3.3373679218759693,
          3.6278881165426613,
          null,
          -4.330940489564358,
          -4.933108470700456,
          null,
          -4.330940489564358,
          -3.803941583361564,
          null,
          -4.330940489564358,
          -4.4573688270894705,
          null,
          -4.933108470700456,
          -3.803941583361564,
          null,
          -4.933108470700456,
          -4.4573688270894705,
          null,
          -3.803941583361564,
          -4.4573688270894705,
          null,
          0.22437307686502925,
          -0.4412820468664679,
          null,
          0.22437307686502925,
          0.6790090437771229,
          null,
          0.22437307686502925,
          -0.009902240393820207,
          null,
          -2.417520253072692,
          -2.4018166472817284,
          null,
          -2.417520253072692,
          -3.197016799787788,
          null,
          -2.417520253072692,
          -3.16402671273873,
          null,
          -0.4412820468664679,
          0.6790090437771229,
          null,
          -0.4412820468664679,
          -0.009902240393820207,
          null,
          -2.4018166472817284,
          -3.197016799787788,
          null,
          -2.4018166472817284,
          -3.16402671273873,
          null,
          -3.621997675592923,
          -4.3598154506004105,
          null,
          -3.621997675592923,
          -4.02209466075244,
          null,
          -3.621997675592923,
          -3.304350543054961,
          null,
          -2.7131340923680596,
          -2.1764178624847514,
          null,
          -4.3598154506004105,
          -4.02209466075244,
          null,
          -4.3598154506004105,
          -3.304350543054961,
          null,
          0.6790090437771229,
          -0.009902240393820207,
          null,
          -3.197016799787788,
          -3.16402671273873,
          null,
          0.7124546870011361,
          0.3723470993128543,
          null,
          0.7124546870011361,
          -0.35508628929849223,
          null,
          0.7124546870011361,
          -0.033325498781618175,
          null,
          0.3723470993128543,
          -0.35508628929849223,
          null,
          0.3723470993128543,
          -0.033325498781618175,
          null,
          -4.02209466075244,
          -3.304350543054961,
          null,
          -0.35508628929849223,
          -0.033325498781618175,
          null
         ],
         "y": [
          2.1795294839634343,
          1.1068011237670308,
          null,
          2.1795294839634343,
          1.8823680842567714,
          null,
          2.1795294839634343,
          1.1236388847184944,
          null,
          1.1068011237670308,
          0.20663608660619956,
          null,
          1.1068011237670308,
          1.8823680842567714,
          null,
          1.1068011237670308,
          1.1236388847184944,
          null,
          1.1068011237670308,
          0.3464551364682597,
          null,
          0.20663608660619956,
          1.1236388847184944,
          null,
          0.20663608660619956,
          0.3464551364682597,
          null,
          1.8823680842567714,
          1.1236388847184944,
          null,
          1.1236388847184944,
          0.3464551364682597,
          null,
          1.1236388847184944,
          0.7795571667850156,
          null,
          1.1236388847184944,
          0.20461849270105312,
          null,
          0.3464551364682597,
          0.7795571667850156,
          null,
          0.3464551364682597,
          0.20461849270105312,
          null,
          0.7795571667850156,
          0.20461849270105312,
          null,
          0.7795571667850156,
          0.5350203581397455,
          null,
          0.7795571667850156,
          -0.3532552943586782,
          null,
          0.20461849270105312,
          0.5350203581397455,
          null,
          0.20461849270105312,
          -0.3532552943586782,
          null,
          0.5350203581397455,
          -0.3532552943586782,
          null,
          -0.3532552943586782,
          -1.653154667902914,
          null,
          -1.653154667902914,
          -2.4101104821724193,
          null,
          -2.4101104821724193,
          -2.7629036350977354,
          null,
          -2.7629036350977354,
          -3.358017380970861,
          null,
          -2.7629036350977354,
          -2.523000342164167,
          null,
          -3.358017380970861,
          -2.523000342164167,
          null,
          -0.6504989332370573,
          -1.102784847106754,
          null,
          -0.6504989332370573,
          -1.205845170772767,
          null,
          -0.6504989332370573,
          -1.7019680120089011,
          null,
          -1.102784847106754,
          -1.205845170772767,
          null,
          -1.102784847106754,
          -1.7019680120089011,
          null,
          -1.205845170772767,
          -1.7019680120089011,
          null,
          4.397103552702447,
          4.006416473712198,
          null,
          4.397103552702447,
          3.8020541033133033,
          null,
          4.397103552702447,
          3.3712233364080273,
          null,
          -3.1548925759602775,
          -3.958121970994324,
          null,
          -3.1548925759602775,
          -3.2523861911251695,
          null,
          -3.1548925759602775,
          -4.002705994761845,
          null,
          4.006416473712198,
          3.8020541033133033,
          null,
          4.006416473712198,
          3.3712233364080273,
          null,
          -3.958121970994324,
          -3.2523861911251695,
          null,
          -3.958121970994324,
          -4.002705994761845,
          null,
          1.1361680054013135,
          1.4684795604795096,
          null,
          1.1361680054013135,
          2.156805812571982,
          null,
          1.1361680054013135,
          1.7962075762626581,
          null,
          3.8529507233268694,
          3.1673679478844052,
          null,
          1.4684795604795096,
          2.156805812571982,
          null,
          1.4684795604795096,
          1.7962075762626581,
          null,
          3.8020541033133033,
          3.3712233364080273,
          null,
          -3.2523861911251695,
          -4.002705994761845,
          null,
          -4.422906574680753,
          -5.078924063363425,
          null,
          -4.422906574680753,
          -4.801611631073474,
          null,
          -4.422906574680753,
          -4.098152160130317,
          null,
          -5.078924063363425,
          -4.801611631073474,
          null,
          -5.078924063363425,
          -4.098152160130317,
          null,
          2.156805812571982,
          1.7962075762626581,
          null,
          -4.801611631073474,
          -4.098152160130317,
          null
         ]
        },
        {
         "hoverinfo": "text",
         "marker": {
          "color": [
           0.32798573975044565,
           0.34544405997693195,
           0.37745098039215685,
           0.4235294117647059,
           0.4478844169246646,
           0.4565826330532213,
           0.4859943977591036,
           0.4859943977591036,
           0.5392156862745098,
           0.5698529411764706,
           0.607843137254902,
           0.6568627450980392,
           0.7058823529411764,
           0.7647058823529411,
           0.7436974789915967,
           0.30800653594771243,
           0.30800653594771243,
           0.30800653594771243,
           0.30800653594771243,
           0.0196078431372549,
           0.0588235294117647,
           0.0196078431372549,
           0.0588235294117647,
           0.8398692810457516,
           0.8986928104575163,
           0.8398692810457516,
           0.0196078431372549,
           0.0588235294117647,
           0.11274509803921569,
           0.0196078431372549,
           0.0588235294117647,
           0.11274509803921569,
           0.8294117647058824,
           0.916955017301038,
           0.8294117647058824,
           0.11274509803921569,
           0.11274509803921569
          ],
          "colorbar": {
           "thickness": 20,
           "tickfont": {
            "size": 10
           },
           "ticklen": 4,
           "x": 1.01
          },
          "colorscale": [
           [
            0,
            "rgb(68, 1, 84)"
           ],
           [
            0.1,
            "rgb(72, 35, 116)"
           ],
           [
            0.2,
            "rgb(64, 67, 135)"
           ],
           [
            0.3,
            "rgb(52, 94, 141)"
           ],
           [
            0.4,
            "rgb(41, 120, 142)"
           ],
           [
            0.5,
            "rgb(32, 144, 140)"
           ],
           [
            0.6,
            "rgb(34, 167, 132)"
           ],
           [
            0.7,
            "rgb(68, 190, 112)"
           ],
           [
            0.8,
            "rgb(121, 209, 81)"
           ],
           [
            0.9,
            "rgb(189, 222, 38)"
           ],
           [
            1,
            "rgb(253, 231, 36)"
           ]
          ],
          "line": {
           "color": "rgb(200,200,200)",
           "width": 1
          },
          "opacity": 1,
          "showscale": true,
          "size": [
           9,
           9,
           6,
           6,
           9,
           9,
           9,
           9,
           6,
           9,
           9,
           9,
           9,
           6,
           9,
           9,
           9,
           9,
           9,
           6,
           6,
           6,
           6,
           6,
           9,
           6,
           6,
           6,
           6,
           6,
           6,
           6,
           6,
           9,
           6,
           6,
           6
          ]
         },
         "mode": "markers",
         "text": [
          "cube0_cluster0",
          "cube1_cluster0",
          "cube2_cluster0",
          "cube3_cluster0",
          "cube4_cluster0",
          "cube5_cluster0",
          "cube6_cluster0",
          "cube7_cluster0",
          "cube8_cluster0",
          "cube9_cluster0",
          "cube10_cluster0",
          "cube11_cluster0",
          "cube13_cluster0",
          "cube14_cluster0",
          "cube15_cluster0",
          "cube16_cluster0",
          "cube17_cluster0",
          "cube20_cluster0",
          "cube21_cluster0",
          "cube22_cluster0",
          "cube22_cluster1",
          "cube23_cluster0",
          "cube23_cluster1",
          "cube24_cluster0",
          "cube24_cluster1",
          "cube25_cluster0",
          "cube26_cluster0",
          "cube26_cluster1",
          "cube26_cluster2",
          "cube27_cluster0",
          "cube27_cluster1",
          "cube27_cluster2",
          "cube28_cluster0",
          "cube28_cluster1",
          "cube29_cluster0",
          "cube30_cluster0",
          "cube31_cluster0"
         ],
         "type": "scatter",
         "uid": "ccb1f3c9-d4af-498e-b4b3-f8873daf194b",
         "x": [
          2.879539801928139,
          3.333837737146109,
          3.387475530134996,
          3.585429583152692,
          2.469580510824071,
          2.3904930255012795,
          1.1828048811837026,
          1.3469760450759354,
          0.16497539123466523,
          0.4210346803118928,
          0.49201052983080384,
          1.4769587832940718,
          2.622202268968104,
          3.3373679218759693,
          3.6278881165426613,
          -4.330940489564358,
          -4.933108470700456,
          -3.803941583361564,
          -4.4573688270894705,
          0.22437307686502925,
          -2.417520253072692,
          -0.4412820468664679,
          -2.4018166472817284,
          -3.621997675592923,
          -2.7131340923680596,
          -4.3598154506004105,
          0.6790090437771229,
          -3.197016799787788,
          0.7124546870011361,
          -0.009902240393820207,
          -3.16402671273873,
          0.3723470993128543,
          -4.02209466075244,
          -2.1764178624847514,
          -3.304350543054961,
          -0.35508628929849223,
          -0.033325498781618175
         ],
         "y": [
          2.1795294839634343,
          1.1068011237670308,
          0.20663608660619956,
          1.8823680842567714,
          1.1236388847184944,
          0.3464551364682597,
          0.7795571667850156,
          0.20461849270105312,
          0.5350203581397455,
          -0.3532552943586782,
          -1.653154667902914,
          -2.4101104821724193,
          -2.7629036350977354,
          -3.358017380970861,
          -2.523000342164167,
          -0.6504989332370573,
          -1.102784847106754,
          -1.205845170772767,
          -1.7019680120089011,
          4.397103552702447,
          -3.1548925759602775,
          4.006416473712198,
          -3.958121970994324,
          1.1361680054013135,
          3.8529507233268694,
          1.4684795604795096,
          3.8020541033133033,
          -3.2523861911251695,
          -4.422906574680753,
          3.3712233364080273,
          -4.002705994761845,
          -5.078924063363425,
          2.156805812571982,
          3.1673679478844052,
          1.7962075762626581,
          -4.801611631073474,
          -4.098152160130317
         ]
        }
       ],
       "layout": {
        "annotations": [
         {
          "align": "left",
          "font": {
           "size": 12
          },
          "showarrow": false,
          "text": "<b>N_cubes:</b> 15 <b>Perc_overlap:</b> 0.5<br><b>Nodes:</b> 37 <b>Edges:</b> 58 <b>Total samples:</b> 295 <b>Unique_samples:</b> 100",
          "x": 0,
          "xanchor": "left",
          "xref": "paper",
          "y": -0.01,
          "yanchor": "top",
          "yref": "paper"
         }
        ],
        "autosize": false,
        "font": {
         "size": 12
        },
        "height": 500,
        "hovermode": "closest",
        "margin": {
         "b": 35,
         "l": 10,
         "r": 60,
         "t": 100
        },
        "plot_bgcolor": "rgba(240, 240, 240, 0.95)",
        "showlegend": false,
        "template": {
         "data": {
          "bar": [
           {
            "error_x": {
             "color": "#2a3f5f"
            },
            "error_y": {
             "color": "#2a3f5f"
            },
            "marker": {
             "line": {
              "color": "#E5ECF6",
              "width": 0.5
             },
             "pattern": {
              "fillmode": "overlay",
              "size": 10,
              "solidity": 0.2
             }
            },
            "type": "bar"
           }
          ],
          "barpolar": [
           {
            "marker": {
             "line": {
              "color": "#E5ECF6",
              "width": 0.5
             },
             "pattern": {
              "fillmode": "overlay",
              "size": 10,
              "solidity": 0.2
             }
            },
            "type": "barpolar"
           }
          ],
          "carpet": [
           {
            "aaxis": {
             "endlinecolor": "#2a3f5f",
             "gridcolor": "white",
             "linecolor": "white",
             "minorgridcolor": "white",
             "startlinecolor": "#2a3f5f"
            },
            "baxis": {
             "endlinecolor": "#2a3f5f",
             "gridcolor": "white",
             "linecolor": "white",
             "minorgridcolor": "white",
             "startlinecolor": "#2a3f5f"
            },
            "type": "carpet"
           }
          ],
          "choropleth": [
           {
            "colorbar": {
             "outlinewidth": 0,
             "ticks": ""
            },
            "type": "choropleth"
           }
          ],
          "contour": [
           {
            "colorbar": {
             "outlinewidth": 0,
             "ticks": ""
            },
            "colorscale": [
             [
              0,
              "#0d0887"
             ],
             [
              0.1111111111111111,
              "#46039f"
             ],
             [
              0.2222222222222222,
              "#7201a8"
             ],
             [
              0.3333333333333333,
              "#9c179e"
             ],
             [
              0.4444444444444444,
              "#bd3786"
             ],
             [
              0.5555555555555556,
              "#d8576b"
             ],
             [
              0.6666666666666666,
              "#ed7953"
             ],
             [
              0.7777777777777778,
              "#fb9f3a"
             ],
             [
              0.8888888888888888,
              "#fdca26"
             ],
             [
              1,
              "#f0f921"
             ]
            ],
            "type": "contour"
           }
          ],
          "contourcarpet": [
           {
            "colorbar": {
             "outlinewidth": 0,
             "ticks": ""
            },
            "type": "contourcarpet"
           }
          ],
          "heatmap": [
           {
            "colorbar": {
             "outlinewidth": 0,
             "ticks": ""
            },
            "colorscale": [
             [
              0,
              "#0d0887"
             ],
             [
              0.1111111111111111,
              "#46039f"
             ],
             [
              0.2222222222222222,
              "#7201a8"
             ],
             [
              0.3333333333333333,
              "#9c179e"
             ],
             [
              0.4444444444444444,
              "#bd3786"
             ],
             [
              0.5555555555555556,
              "#d8576b"
             ],
             [
              0.6666666666666666,
              "#ed7953"
             ],
             [
              0.7777777777777778,
              "#fb9f3a"
             ],
             [
              0.8888888888888888,
              "#fdca26"
             ],
             [
              1,
              "#f0f921"
             ]
            ],
            "type": "heatmap"
           }
          ],
          "heatmapgl": [
           {
            "colorbar": {
             "outlinewidth": 0,
             "ticks": ""
            },
            "colorscale": [
             [
              0,
              "#0d0887"
             ],
             [
              0.1111111111111111,
              "#46039f"
             ],
             [
              0.2222222222222222,
              "#7201a8"
             ],
             [
              0.3333333333333333,
              "#9c179e"
             ],
             [
              0.4444444444444444,
              "#bd3786"
             ],
             [
              0.5555555555555556,
              "#d8576b"
             ],
             [
              0.6666666666666666,
              "#ed7953"
             ],
             [
              0.7777777777777778,
              "#fb9f3a"
             ],
             [
              0.8888888888888888,
              "#fdca26"
             ],
             [
              1,
              "#f0f921"
             ]
            ],
            "type": "heatmapgl"
           }
          ],
          "histogram": [
           {
            "marker": {
             "pattern": {
              "fillmode": "overlay",
              "size": 10,
              "solidity": 0.2
             }
            },
            "type": "histogram"
           }
          ],
          "histogram2d": [
           {
            "colorbar": {
             "outlinewidth": 0,
             "ticks": ""
            },
            "colorscale": [
             [
              0,
              "#0d0887"
             ],
             [
              0.1111111111111111,
              "#46039f"
             ],
             [
              0.2222222222222222,
              "#7201a8"
             ],
             [
              0.3333333333333333,
              "#9c179e"
             ],
             [
              0.4444444444444444,
              "#bd3786"
             ],
             [
              0.5555555555555556,
              "#d8576b"
             ],
             [
              0.6666666666666666,
              "#ed7953"
             ],
             [
              0.7777777777777778,
              "#fb9f3a"
             ],
             [
              0.8888888888888888,
              "#fdca26"
             ],
             [
              1,
              "#f0f921"
             ]
            ],
            "type": "histogram2d"
           }
          ],
          "histogram2dcontour": [
           {
            "colorbar": {
             "outlinewidth": 0,
             "ticks": ""
            },
            "colorscale": [
             [
              0,
              "#0d0887"
             ],
             [
              0.1111111111111111,
              "#46039f"
             ],
             [
              0.2222222222222222,
              "#7201a8"
             ],
             [
              0.3333333333333333,
              "#9c179e"
             ],
             [
              0.4444444444444444,
              "#bd3786"
             ],
             [
              0.5555555555555556,
              "#d8576b"
             ],
             [
              0.6666666666666666,
              "#ed7953"
             ],
             [
              0.7777777777777778,
              "#fb9f3a"
             ],
             [
              0.8888888888888888,
              "#fdca26"
             ],
             [
              1,
              "#f0f921"
             ]
            ],
            "type": "histogram2dcontour"
           }
          ],
          "mesh3d": [
           {
            "colorbar": {
             "outlinewidth": 0,
             "ticks": ""
            },
            "type": "mesh3d"
           }
          ],
          "parcoords": [
           {
            "line": {
             "colorbar": {
              "outlinewidth": 0,
              "ticks": ""
             }
            },
            "type": "parcoords"
           }
          ],
          "pie": [
           {
            "automargin": true,
            "type": "pie"
           }
          ],
          "scatter": [
           {
            "fillpattern": {
             "fillmode": "overlay",
             "size": 10,
             "solidity": 0.2
            },
            "type": "scatter"
           }
          ],
          "scatter3d": [
           {
            "line": {
             "colorbar": {
              "outlinewidth": 0,
              "ticks": ""
             }
            },
            "marker": {
             "colorbar": {
              "outlinewidth": 0,
              "ticks": ""
             }
            },
            "type": "scatter3d"
           }
          ],
          "scattercarpet": [
           {
            "marker": {
             "colorbar": {
              "outlinewidth": 0,
              "ticks": ""
             }
            },
            "type": "scattercarpet"
           }
          ],
          "scattergeo": [
           {
            "marker": {
             "colorbar": {
              "outlinewidth": 0,
              "ticks": ""
             }
            },
            "type": "scattergeo"
           }
          ],
          "scattergl": [
           {
            "marker": {
             "colorbar": {
              "outlinewidth": 0,
              "ticks": ""
             }
            },
            "type": "scattergl"
           }
          ],
          "scattermapbox": [
           {
            "marker": {
             "colorbar": {
              "outlinewidth": 0,
              "ticks": ""
             }
            },
            "type": "scattermapbox"
           }
          ],
          "scatterpolar": [
           {
            "marker": {
             "colorbar": {
              "outlinewidth": 0,
              "ticks": ""
             }
            },
            "type": "scatterpolar"
           }
          ],
          "scatterpolargl": [
           {
            "marker": {
             "colorbar": {
              "outlinewidth": 0,
              "ticks": ""
             }
            },
            "type": "scatterpolargl"
           }
          ],
          "scatterternary": [
           {
            "marker": {
             "colorbar": {
              "outlinewidth": 0,
              "ticks": ""
             }
            },
            "type": "scatterternary"
           }
          ],
          "surface": [
           {
            "colorbar": {
             "outlinewidth": 0,
             "ticks": ""
            },
            "colorscale": [
             [
              0,
              "#0d0887"
             ],
             [
              0.1111111111111111,
              "#46039f"
             ],
             [
              0.2222222222222222,
              "#7201a8"
             ],
             [
              0.3333333333333333,
              "#9c179e"
             ],
             [
              0.4444444444444444,
              "#bd3786"
             ],
             [
              0.5555555555555556,
              "#d8576b"
             ],
             [
              0.6666666666666666,
              "#ed7953"
             ],
             [
              0.7777777777777778,
              "#fb9f3a"
             ],
             [
              0.8888888888888888,
              "#fdca26"
             ],
             [
              1,
              "#f0f921"
             ]
            ],
            "type": "surface"
           }
          ],
          "table": [
           {
            "cells": {
             "fill": {
              "color": "#EBF0F8"
             },
             "line": {
              "color": "white"
             }
            },
            "header": {
             "fill": {
              "color": "#C8D4E3"
             },
             "line": {
              "color": "white"
             }
            },
            "type": "table"
           }
          ]
         },
         "layout": {
          "annotationdefaults": {
           "arrowcolor": "#2a3f5f",
           "arrowhead": 0,
           "arrowwidth": 1
          },
          "autotypenumbers": "strict",
          "coloraxis": {
           "colorbar": {
            "outlinewidth": 0,
            "ticks": ""
           }
          },
          "colorscale": {
           "diverging": [
            [
             0,
             "#8e0152"
            ],
            [
             0.1,
             "#c51b7d"
            ],
            [
             0.2,
             "#de77ae"
            ],
            [
             0.3,
             "#f1b6da"
            ],
            [
             0.4,
             "#fde0ef"
            ],
            [
             0.5,
             "#f7f7f7"
            ],
            [
             0.6,
             "#e6f5d0"
            ],
            [
             0.7,
             "#b8e186"
            ],
            [
             0.8,
             "#7fbc41"
            ],
            [
             0.9,
             "#4d9221"
            ],
            [
             1,
             "#276419"
            ]
           ],
           "sequential": [
            [
             0,
             "#0d0887"
            ],
            [
             0.1111111111111111,
             "#46039f"
            ],
            [
             0.2222222222222222,
             "#7201a8"
            ],
            [
             0.3333333333333333,
             "#9c179e"
            ],
            [
             0.4444444444444444,
             "#bd3786"
            ],
            [
             0.5555555555555556,
             "#d8576b"
            ],
            [
             0.6666666666666666,
             "#ed7953"
            ],
            [
             0.7777777777777778,
             "#fb9f3a"
            ],
            [
             0.8888888888888888,
             "#fdca26"
            ],
            [
             1,
             "#f0f921"
            ]
           ],
           "sequentialminus": [
            [
             0,
             "#0d0887"
            ],
            [
             0.1111111111111111,
             "#46039f"
            ],
            [
             0.2222222222222222,
             "#7201a8"
            ],
            [
             0.3333333333333333,
             "#9c179e"
            ],
            [
             0.4444444444444444,
             "#bd3786"
            ],
            [
             0.5555555555555556,
             "#d8576b"
            ],
            [
             0.6666666666666666,
             "#ed7953"
            ],
            [
             0.7777777777777778,
             "#fb9f3a"
            ],
            [
             0.8888888888888888,
             "#fdca26"
            ],
            [
             1,
             "#f0f921"
            ]
           ]
          },
          "colorway": [
           "#636efa",
           "#EF553B",
           "#00cc96",
           "#ab63fa",
           "#FFA15A",
           "#19d3f3",
           "#FF6692",
           "#B6E880",
           "#FF97FF",
           "#FECB52"
          ],
          "font": {
           "color": "#2a3f5f"
          },
          "geo": {
           "bgcolor": "white",
           "lakecolor": "white",
           "landcolor": "#E5ECF6",
           "showlakes": true,
           "showland": true,
           "subunitcolor": "white"
          },
          "hoverlabel": {
           "align": "left"
          },
          "hovermode": "closest",
          "mapbox": {
           "style": "light"
          },
          "paper_bgcolor": "white",
          "plot_bgcolor": "#E5ECF6",
          "polar": {
           "angularaxis": {
            "gridcolor": "white",
            "linecolor": "white",
            "ticks": ""
           },
           "bgcolor": "#E5ECF6",
           "radialaxis": {
            "gridcolor": "white",
            "linecolor": "white",
            "ticks": ""
           }
          },
          "scene": {
           "xaxis": {
            "backgroundcolor": "#E5ECF6",
            "gridcolor": "white",
            "gridwidth": 2,
            "linecolor": "white",
            "showbackground": true,
            "ticks": "",
            "zerolinecolor": "white"
           },
           "yaxis": {
            "backgroundcolor": "#E5ECF6",
            "gridcolor": "white",
            "gridwidth": 2,
            "linecolor": "white",
            "showbackground": true,
            "ticks": "",
            "zerolinecolor": "white"
           },
           "zaxis": {
            "backgroundcolor": "#E5ECF6",
            "gridcolor": "white",
            "gridwidth": 2,
            "linecolor": "white",
            "showbackground": true,
            "ticks": "",
            "zerolinecolor": "white"
           }
          },
          "shapedefaults": {
           "line": {
            "color": "#2a3f5f"
           }
          },
          "ternary": {
           "aaxis": {
            "gridcolor": "white",
            "linecolor": "white",
            "ticks": ""
           },
           "baxis": {
            "gridcolor": "white",
            "linecolor": "white",
            "ticks": ""
           },
           "bgcolor": "#E5ECF6",
           "caxis": {
            "gridcolor": "white",
            "linecolor": "white",
            "ticks": ""
           }
          },
          "title": {
           "x": 0.05
          },
          "xaxis": {
           "automargin": true,
           "gridcolor": "white",
           "linecolor": "white",
           "ticks": "",
           "title": {
            "standoff": 15
           },
           "zerolinecolor": "white",
           "zerolinewidth": 2
          },
          "yaxis": {
           "automargin": true,
           "gridcolor": "white",
           "linecolor": "white",
           "ticks": "",
           "title": {
            "standoff": 15
           },
           "zerolinecolor": "white",
           "zerolinewidth": 2
          }
         }
        },
        "title": {
         "text": "Topological Network Representing Ebola Genome Data"
        },
        "width": 600,
        "xaxis": {
         "visible": false
        },
        "yaxis": {
         "visible": false
        }
       }
      },
      "text/html": [
       "<div>                        <script type=\"text/javascript\">window.PlotlyConfig = {MathJaxConfig: 'local'};</script>\n",
       "        <script src=\"https://cdn.plot.ly/plotly-2.16.1.min.js\"></script>                <div id=\"078a5d03-8f87-4444-a9fa-26b221f24049\" class=\"plotly-graph-div\" style=\"height:500px; width:600px;\"></div>            <script type=\"text/javascript\">                                    window.PLOTLYENV=window.PLOTLYENV || {};                                    if (document.getElementById(\"078a5d03-8f87-4444-a9fa-26b221f24049\")) {                    Plotly.newPlot(                        \"078a5d03-8f87-4444-a9fa-26b221f24049\",                        [{\"hoverinfo\":\"none\",\"line\":{\"color\":\"rgb(180,180,180)\",\"width\":1.5},\"mode\":\"lines\",\"x\":[2.879539801928139,3.333837737146109,null,2.879539801928139,3.585429583152692,null,2.879539801928139,2.469580510824071,null,3.333837737146109,3.387475530134996,null,3.333837737146109,3.585429583152692,null,3.333837737146109,2.469580510824071,null,3.333837737146109,2.3904930255012795,null,3.387475530134996,2.469580510824071,null,3.387475530134996,2.3904930255012795,null,3.585429583152692,2.469580510824071,null,2.469580510824071,2.3904930255012795,null,2.469580510824071,1.1828048811837026,null,2.469580510824071,1.3469760450759354,null,2.3904930255012795,1.1828048811837026,null,2.3904930255012795,1.3469760450759354,null,1.1828048811837026,1.3469760450759354,null,1.1828048811837026,0.16497539123466523,null,1.1828048811837026,0.4210346803118928,null,1.3469760450759354,0.16497539123466523,null,1.3469760450759354,0.4210346803118928,null,0.16497539123466523,0.4210346803118928,null,0.4210346803118928,0.49201052983080384,null,0.49201052983080384,1.4769587832940718,null,1.4769587832940718,2.622202268968104,null,2.622202268968104,3.3373679218759693,null,2.622202268968104,3.6278881165426613,null,3.3373679218759693,3.6278881165426613,null,-4.330940489564358,-4.933108470700456,null,-4.330940489564358,-3.803941583361564,null,-4.330940489564358,-4.4573688270894705,null,-4.933108470700456,-3.803941583361564,null,-4.933108470700456,-4.4573688270894705,null,-3.803941583361564,-4.4573688270894705,null,0.22437307686502925,-0.4412820468664679,null,0.22437307686502925,0.6790090437771229,null,0.22437307686502925,-0.009902240393820207,null,-2.417520253072692,-2.4018166472817284,null,-2.417520253072692,-3.197016799787788,null,-2.417520253072692,-3.16402671273873,null,-0.4412820468664679,0.6790090437771229,null,-0.4412820468664679,-0.009902240393820207,null,-2.4018166472817284,-3.197016799787788,null,-2.4018166472817284,-3.16402671273873,null,-3.621997675592923,-4.3598154506004105,null,-3.621997675592923,-4.02209466075244,null,-3.621997675592923,-3.304350543054961,null,-2.7131340923680596,-2.1764178624847514,null,-4.3598154506004105,-4.02209466075244,null,-4.3598154506004105,-3.304350543054961,null,0.6790090437771229,-0.009902240393820207,null,-3.197016799787788,-3.16402671273873,null,0.7124546870011361,0.3723470993128543,null,0.7124546870011361,-0.35508628929849223,null,0.7124546870011361,-0.033325498781618175,null,0.3723470993128543,-0.35508628929849223,null,0.3723470993128543,-0.033325498781618175,null,-4.02209466075244,-3.304350543054961,null,-0.35508628929849223,-0.033325498781618175,null],\"y\":[2.1795294839634343,1.1068011237670308,null,2.1795294839634343,1.8823680842567714,null,2.1795294839634343,1.1236388847184944,null,1.1068011237670308,0.20663608660619956,null,1.1068011237670308,1.8823680842567714,null,1.1068011237670308,1.1236388847184944,null,1.1068011237670308,0.3464551364682597,null,0.20663608660619956,1.1236388847184944,null,0.20663608660619956,0.3464551364682597,null,1.8823680842567714,1.1236388847184944,null,1.1236388847184944,0.3464551364682597,null,1.1236388847184944,0.7795571667850156,null,1.1236388847184944,0.20461849270105312,null,0.3464551364682597,0.7795571667850156,null,0.3464551364682597,0.20461849270105312,null,0.7795571667850156,0.20461849270105312,null,0.7795571667850156,0.5350203581397455,null,0.7795571667850156,-0.3532552943586782,null,0.20461849270105312,0.5350203581397455,null,0.20461849270105312,-0.3532552943586782,null,0.5350203581397455,-0.3532552943586782,null,-0.3532552943586782,-1.653154667902914,null,-1.653154667902914,-2.4101104821724193,null,-2.4101104821724193,-2.7629036350977354,null,-2.7629036350977354,-3.358017380970861,null,-2.7629036350977354,-2.523000342164167,null,-3.358017380970861,-2.523000342164167,null,-0.6504989332370573,-1.102784847106754,null,-0.6504989332370573,-1.205845170772767,null,-0.6504989332370573,-1.7019680120089011,null,-1.102784847106754,-1.205845170772767,null,-1.102784847106754,-1.7019680120089011,null,-1.205845170772767,-1.7019680120089011,null,4.397103552702447,4.006416473712198,null,4.397103552702447,3.8020541033133033,null,4.397103552702447,3.3712233364080273,null,-3.1548925759602775,-3.958121970994324,null,-3.1548925759602775,-3.2523861911251695,null,-3.1548925759602775,-4.002705994761845,null,4.006416473712198,3.8020541033133033,null,4.006416473712198,3.3712233364080273,null,-3.958121970994324,-3.2523861911251695,null,-3.958121970994324,-4.002705994761845,null,1.1361680054013135,1.4684795604795096,null,1.1361680054013135,2.156805812571982,null,1.1361680054013135,1.7962075762626581,null,3.8529507233268694,3.1673679478844052,null,1.4684795604795096,2.156805812571982,null,1.4684795604795096,1.7962075762626581,null,3.8020541033133033,3.3712233364080273,null,-3.2523861911251695,-4.002705994761845,null,-4.422906574680753,-5.078924063363425,null,-4.422906574680753,-4.801611631073474,null,-4.422906574680753,-4.098152160130317,null,-5.078924063363425,-4.801611631073474,null,-5.078924063363425,-4.098152160130317,null,2.156805812571982,1.7962075762626581,null,-4.801611631073474,-4.098152160130317,null],\"type\":\"scatter\",\"uid\":\"d5cd9dbd-7924-44f0-bfbf-c65cfea9f969\"},{\"hoverinfo\":\"text\",\"marker\":{\"color\":[0.32798573975044565,0.34544405997693195,0.37745098039215685,0.4235294117647059,0.4478844169246646,0.4565826330532213,0.4859943977591036,0.4859943977591036,0.5392156862745098,0.5698529411764706,0.607843137254902,0.6568627450980392,0.7058823529411764,0.7647058823529411,0.7436974789915967,0.30800653594771243,0.30800653594771243,0.30800653594771243,0.30800653594771243,0.0196078431372549,0.0588235294117647,0.0196078431372549,0.0588235294117647,0.8398692810457516,0.8986928104575163,0.8398692810457516,0.0196078431372549,0.0588235294117647,0.11274509803921569,0.0196078431372549,0.0588235294117647,0.11274509803921569,0.8294117647058824,0.916955017301038,0.8294117647058824,0.11274509803921569,0.11274509803921569],\"colorbar\":{\"thickness\":20,\"tickfont\":{\"size\":10},\"ticklen\":4,\"x\":1.01},\"colorscale\":[[0.0,\"rgb(68, 1, 84)\"],[0.1,\"rgb(72, 35, 116)\"],[0.2,\"rgb(64, 67, 135)\"],[0.3,\"rgb(52, 94, 141)\"],[0.4,\"rgb(41, 120, 142)\"],[0.5,\"rgb(32, 144, 140)\"],[0.6,\"rgb(34, 167, 132)\"],[0.7,\"rgb(68, 190, 112)\"],[0.8,\"rgb(121, 209, 81)\"],[0.9,\"rgb(189, 222, 38)\"],[1.0,\"rgb(253, 231, 36)\"]],\"line\":{\"color\":\"rgb(200,200,200)\",\"width\":1.0},\"opacity\":1.0,\"showscale\":true,\"size\":[9,9,6,6,9,9,9,9,6,9,9,9,9,6,9,9,9,9,9,6,6,6,6,6,9,6,6,6,6,6,6,6,6,9,6,6,6]},\"mode\":\"markers\",\"text\":[\"cube0_cluster0\",\"cube1_cluster0\",\"cube2_cluster0\",\"cube3_cluster0\",\"cube4_cluster0\",\"cube5_cluster0\",\"cube6_cluster0\",\"cube7_cluster0\",\"cube8_cluster0\",\"cube9_cluster0\",\"cube10_cluster0\",\"cube11_cluster0\",\"cube13_cluster0\",\"cube14_cluster0\",\"cube15_cluster0\",\"cube16_cluster0\",\"cube17_cluster0\",\"cube20_cluster0\",\"cube21_cluster0\",\"cube22_cluster0\",\"cube22_cluster1\",\"cube23_cluster0\",\"cube23_cluster1\",\"cube24_cluster0\",\"cube24_cluster1\",\"cube25_cluster0\",\"cube26_cluster0\",\"cube26_cluster1\",\"cube26_cluster2\",\"cube27_cluster0\",\"cube27_cluster1\",\"cube27_cluster2\",\"cube28_cluster0\",\"cube28_cluster1\",\"cube29_cluster0\",\"cube30_cluster0\",\"cube31_cluster0\"],\"x\":[2.879539801928139,3.333837737146109,3.387475530134996,3.585429583152692,2.469580510824071,2.3904930255012795,1.1828048811837026,1.3469760450759354,0.16497539123466523,0.4210346803118928,0.49201052983080384,1.4769587832940718,2.622202268968104,3.3373679218759693,3.6278881165426613,-4.330940489564358,-4.933108470700456,-3.803941583361564,-4.4573688270894705,0.22437307686502925,-2.417520253072692,-0.4412820468664679,-2.4018166472817284,-3.621997675592923,-2.7131340923680596,-4.3598154506004105,0.6790090437771229,-3.197016799787788,0.7124546870011361,-0.009902240393820207,-3.16402671273873,0.3723470993128543,-4.02209466075244,-2.1764178624847514,-3.304350543054961,-0.35508628929849223,-0.033325498781618175],\"y\":[2.1795294839634343,1.1068011237670308,0.20663608660619956,1.8823680842567714,1.1236388847184944,0.3464551364682597,0.7795571667850156,0.20461849270105312,0.5350203581397455,-0.3532552943586782,-1.653154667902914,-2.4101104821724193,-2.7629036350977354,-3.358017380970861,-2.523000342164167,-0.6504989332370573,-1.102784847106754,-1.205845170772767,-1.7019680120089011,4.397103552702447,-3.1548925759602775,4.006416473712198,-3.958121970994324,1.1361680054013135,3.8529507233268694,1.4684795604795096,3.8020541033133033,-3.2523861911251695,-4.422906574680753,3.3712233364080273,-4.002705994761845,-5.078924063363425,2.156805812571982,3.1673679478844052,1.7962075762626581,-4.801611631073474,-4.098152160130317],\"type\":\"scatter\",\"uid\":\"ccb1f3c9-d4af-498e-b4b3-f8873daf194b\"}],                        {\"annotations\":[{\"align\":\"left\",\"font\":{\"size\":12},\"showarrow\":false,\"text\":\"<b>N_cubes:</b> 15 <b>Perc_overlap:</b> 0.5<br><b>Nodes:</b> 37 <b>Edges:</b> 58 <b>Total samples:</b> 295 <b>Unique_samples:</b> 100\",\"x\":0,\"xanchor\":\"left\",\"xref\":\"paper\",\"y\":-0.01,\"yanchor\":\"top\",\"yref\":\"paper\"}],\"autosize\":false,\"font\":{\"size\":12},\"height\":500,\"hovermode\":\"closest\",\"margin\":{\"b\":35,\"l\":10,\"r\":60,\"t\":100},\"plot_bgcolor\":\"rgba(240, 240, 240, 0.95)\",\"showlegend\":false,\"title\":{\"text\":\"Topological Network Representing Ebola Genome Data\"},\"width\":600,\"xaxis\":{\"visible\":false},\"yaxis\":{\"visible\":false},\"template\":{\"data\":{\"barpolar\":[{\"marker\":{\"line\":{\"color\":\"#E5ECF6\",\"width\":0.5},\"pattern\":{\"fillmode\":\"overlay\",\"size\":10,\"solidity\":0.2}},\"type\":\"barpolar\"}],\"bar\":[{\"error_x\":{\"color\":\"#2a3f5f\"},\"error_y\":{\"color\":\"#2a3f5f\"},\"marker\":{\"line\":{\"color\":\"#E5ECF6\",\"width\":0.5},\"pattern\":{\"fillmode\":\"overlay\",\"size\":10,\"solidity\":0.2}},\"type\":\"bar\"}],\"carpet\":[{\"aaxis\":{\"endlinecolor\":\"#2a3f5f\",\"gridcolor\":\"white\",\"linecolor\":\"white\",\"minorgridcolor\":\"white\",\"startlinecolor\":\"#2a3f5f\"},\"baxis\":{\"endlinecolor\":\"#2a3f5f\",\"gridcolor\":\"white\",\"linecolor\":\"white\",\"minorgridcolor\":\"white\",\"startlinecolor\":\"#2a3f5f\"},\"type\":\"carpet\"}],\"choropleth\":[{\"colorbar\":{\"outlinewidth\":0,\"ticks\":\"\"},\"type\":\"choropleth\"}],\"contourcarpet\":[{\"colorbar\":{\"outlinewidth\":0,\"ticks\":\"\"},\"type\":\"contourcarpet\"}],\"contour\":[{\"colorbar\":{\"outlinewidth\":0,\"ticks\":\"\"},\"colorscale\":[[0.0,\"#0d0887\"],[0.1111111111111111,\"#46039f\"],[0.2222222222222222,\"#7201a8\"],[0.3333333333333333,\"#9c179e\"],[0.4444444444444444,\"#bd3786\"],[0.5555555555555556,\"#d8576b\"],[0.6666666666666666,\"#ed7953\"],[0.7777777777777778,\"#fb9f3a\"],[0.8888888888888888,\"#fdca26\"],[1.0,\"#f0f921\"]],\"type\":\"contour\"}],\"heatmapgl\":[{\"colorbar\":{\"outlinewidth\":0,\"ticks\":\"\"},\"colorscale\":[[0.0,\"#0d0887\"],[0.1111111111111111,\"#46039f\"],[0.2222222222222222,\"#7201a8\"],[0.3333333333333333,\"#9c179e\"],[0.4444444444444444,\"#bd3786\"],[0.5555555555555556,\"#d8576b\"],[0.6666666666666666,\"#ed7953\"],[0.7777777777777778,\"#fb9f3a\"],[0.8888888888888888,\"#fdca26\"],[1.0,\"#f0f921\"]],\"type\":\"heatmapgl\"}],\"heatmap\":[{\"colorbar\":{\"outlinewidth\":0,\"ticks\":\"\"},\"colorscale\":[[0.0,\"#0d0887\"],[0.1111111111111111,\"#46039f\"],[0.2222222222222222,\"#7201a8\"],[0.3333333333333333,\"#9c179e\"],[0.4444444444444444,\"#bd3786\"],[0.5555555555555556,\"#d8576b\"],[0.6666666666666666,\"#ed7953\"],[0.7777777777777778,\"#fb9f3a\"],[0.8888888888888888,\"#fdca26\"],[1.0,\"#f0f921\"]],\"type\":\"heatmap\"}],\"histogram2dcontour\":[{\"colorbar\":{\"outlinewidth\":0,\"ticks\":\"\"},\"colorscale\":[[0.0,\"#0d0887\"],[0.1111111111111111,\"#46039f\"],[0.2222222222222222,\"#7201a8\"],[0.3333333333333333,\"#9c179e\"],[0.4444444444444444,\"#bd3786\"],[0.5555555555555556,\"#d8576b\"],[0.6666666666666666,\"#ed7953\"],[0.7777777777777778,\"#fb9f3a\"],[0.8888888888888888,\"#fdca26\"],[1.0,\"#f0f921\"]],\"type\":\"histogram2dcontour\"}],\"histogram2d\":[{\"colorbar\":{\"outlinewidth\":0,\"ticks\":\"\"},\"colorscale\":[[0.0,\"#0d0887\"],[0.1111111111111111,\"#46039f\"],[0.2222222222222222,\"#7201a8\"],[0.3333333333333333,\"#9c179e\"],[0.4444444444444444,\"#bd3786\"],[0.5555555555555556,\"#d8576b\"],[0.6666666666666666,\"#ed7953\"],[0.7777777777777778,\"#fb9f3a\"],[0.8888888888888888,\"#fdca26\"],[1.0,\"#f0f921\"]],\"type\":\"histogram2d\"}],\"histogram\":[{\"marker\":{\"pattern\":{\"fillmode\":\"overlay\",\"size\":10,\"solidity\":0.2}},\"type\":\"histogram\"}],\"mesh3d\":[{\"colorbar\":{\"outlinewidth\":0,\"ticks\":\"\"},\"type\":\"mesh3d\"}],\"parcoords\":[{\"line\":{\"colorbar\":{\"outlinewidth\":0,\"ticks\":\"\"}},\"type\":\"parcoords\"}],\"pie\":[{\"automargin\":true,\"type\":\"pie\"}],\"scatter3d\":[{\"line\":{\"colorbar\":{\"outlinewidth\":0,\"ticks\":\"\"}},\"marker\":{\"colorbar\":{\"outlinewidth\":0,\"ticks\":\"\"}},\"type\":\"scatter3d\"}],\"scattercarpet\":[{\"marker\":{\"colorbar\":{\"outlinewidth\":0,\"ticks\":\"\"}},\"type\":\"scattercarpet\"}],\"scattergeo\":[{\"marker\":{\"colorbar\":{\"outlinewidth\":0,\"ticks\":\"\"}},\"type\":\"scattergeo\"}],\"scattergl\":[{\"marker\":{\"colorbar\":{\"outlinewidth\":0,\"ticks\":\"\"}},\"type\":\"scattergl\"}],\"scattermapbox\":[{\"marker\":{\"colorbar\":{\"outlinewidth\":0,\"ticks\":\"\"}},\"type\":\"scattermapbox\"}],\"scatterpolargl\":[{\"marker\":{\"colorbar\":{\"outlinewidth\":0,\"ticks\":\"\"}},\"type\":\"scatterpolargl\"}],\"scatterpolar\":[{\"marker\":{\"colorbar\":{\"outlinewidth\":0,\"ticks\":\"\"}},\"type\":\"scatterpolar\"}],\"scatter\":[{\"fillpattern\":{\"fillmode\":\"overlay\",\"size\":10,\"solidity\":0.2},\"type\":\"scatter\"}],\"scatterternary\":[{\"marker\":{\"colorbar\":{\"outlinewidth\":0,\"ticks\":\"\"}},\"type\":\"scatterternary\"}],\"surface\":[{\"colorbar\":{\"outlinewidth\":0,\"ticks\":\"\"},\"colorscale\":[[0.0,\"#0d0887\"],[0.1111111111111111,\"#46039f\"],[0.2222222222222222,\"#7201a8\"],[0.3333333333333333,\"#9c179e\"],[0.4444444444444444,\"#bd3786\"],[0.5555555555555556,\"#d8576b\"],[0.6666666666666666,\"#ed7953\"],[0.7777777777777778,\"#fb9f3a\"],[0.8888888888888888,\"#fdca26\"],[1.0,\"#f0f921\"]],\"type\":\"surface\"}],\"table\":[{\"cells\":{\"fill\":{\"color\":\"#EBF0F8\"},\"line\":{\"color\":\"white\"}},\"header\":{\"fill\":{\"color\":\"#C8D4E3\"},\"line\":{\"color\":\"white\"}},\"type\":\"table\"}]},\"layout\":{\"annotationdefaults\":{\"arrowcolor\":\"#2a3f5f\",\"arrowhead\":0,\"arrowwidth\":1},\"autotypenumbers\":\"strict\",\"coloraxis\":{\"colorbar\":{\"outlinewidth\":0,\"ticks\":\"\"}},\"colorscale\":{\"diverging\":[[0,\"#8e0152\"],[0.1,\"#c51b7d\"],[0.2,\"#de77ae\"],[0.3,\"#f1b6da\"],[0.4,\"#fde0ef\"],[0.5,\"#f7f7f7\"],[0.6,\"#e6f5d0\"],[0.7,\"#b8e186\"],[0.8,\"#7fbc41\"],[0.9,\"#4d9221\"],[1,\"#276419\"]],\"sequential\":[[0.0,\"#0d0887\"],[0.1111111111111111,\"#46039f\"],[0.2222222222222222,\"#7201a8\"],[0.3333333333333333,\"#9c179e\"],[0.4444444444444444,\"#bd3786\"],[0.5555555555555556,\"#d8576b\"],[0.6666666666666666,\"#ed7953\"],[0.7777777777777778,\"#fb9f3a\"],[0.8888888888888888,\"#fdca26\"],[1.0,\"#f0f921\"]],\"sequentialminus\":[[0.0,\"#0d0887\"],[0.1111111111111111,\"#46039f\"],[0.2222222222222222,\"#7201a8\"],[0.3333333333333333,\"#9c179e\"],[0.4444444444444444,\"#bd3786\"],[0.5555555555555556,\"#d8576b\"],[0.6666666666666666,\"#ed7953\"],[0.7777777777777778,\"#fb9f3a\"],[0.8888888888888888,\"#fdca26\"],[1.0,\"#f0f921\"]]},\"colorway\":[\"#636efa\",\"#EF553B\",\"#00cc96\",\"#ab63fa\",\"#FFA15A\",\"#19d3f3\",\"#FF6692\",\"#B6E880\",\"#FF97FF\",\"#FECB52\"],\"font\":{\"color\":\"#2a3f5f\"},\"geo\":{\"bgcolor\":\"white\",\"lakecolor\":\"white\",\"landcolor\":\"#E5ECF6\",\"showlakes\":true,\"showland\":true,\"subunitcolor\":\"white\"},\"hoverlabel\":{\"align\":\"left\"},\"hovermode\":\"closest\",\"mapbox\":{\"style\":\"light\"},\"paper_bgcolor\":\"white\",\"plot_bgcolor\":\"#E5ECF6\",\"polar\":{\"angularaxis\":{\"gridcolor\":\"white\",\"linecolor\":\"white\",\"ticks\":\"\"},\"bgcolor\":\"#E5ECF6\",\"radialaxis\":{\"gridcolor\":\"white\",\"linecolor\":\"white\",\"ticks\":\"\"}},\"scene\":{\"xaxis\":{\"backgroundcolor\":\"#E5ECF6\",\"gridcolor\":\"white\",\"gridwidth\":2,\"linecolor\":\"white\",\"showbackground\":true,\"ticks\":\"\",\"zerolinecolor\":\"white\"},\"yaxis\":{\"backgroundcolor\":\"#E5ECF6\",\"gridcolor\":\"white\",\"gridwidth\":2,\"linecolor\":\"white\",\"showbackground\":true,\"ticks\":\"\",\"zerolinecolor\":\"white\"},\"zaxis\":{\"backgroundcolor\":\"#E5ECF6\",\"gridcolor\":\"white\",\"gridwidth\":2,\"linecolor\":\"white\",\"showbackground\":true,\"ticks\":\"\",\"zerolinecolor\":\"white\"}},\"shapedefaults\":{\"line\":{\"color\":\"#2a3f5f\"}},\"ternary\":{\"aaxis\":{\"gridcolor\":\"white\",\"linecolor\":\"white\",\"ticks\":\"\"},\"baxis\":{\"gridcolor\":\"white\",\"linecolor\":\"white\",\"ticks\":\"\"},\"bgcolor\":\"#E5ECF6\",\"caxis\":{\"gridcolor\":\"white\",\"linecolor\":\"white\",\"ticks\":\"\"}},\"title\":{\"x\":0.05},\"xaxis\":{\"automargin\":true,\"gridcolor\":\"white\",\"linecolor\":\"white\",\"ticks\":\"\",\"title\":{\"standoff\":15},\"zerolinecolor\":\"white\",\"zerolinewidth\":2},\"yaxis\":{\"automargin\":true,\"gridcolor\":\"white\",\"linecolor\":\"white\",\"ticks\":\"\",\"title\":{\"standoff\":15},\"zerolinecolor\":\"white\",\"zerolinewidth\":2}}}},                        {\"responsive\": true}                    )                };                            </script>        </div>"
      ],
      "text/plain": [
       "FigureWidget({\n",
       "    'data': [{'hoverinfo': 'none',\n",
       "              'line': {'color': 'rgb(180,180,180)', 'width': 1.5},\n",
       "              'mode': 'lines',\n",
       "              'type': 'scatter',\n",
       "              'uid': 'd5cd9dbd-7924-44f0-bfbf-c65cfea9f969',\n",
       "              'x': [2.879539801928139, 3.333837737146109, None, 2.879539801928139,\n",
       "                    3.585429583152692, None, 2.879539801928139, 2.469580510824071,\n",
       "                    None, 3.333837737146109, 3.387475530134996, None,\n",
       "                    3.333837737146109, 3.585429583152692, None, 3.333837737146109,\n",
       "                    2.469580510824071, None, 3.333837737146109, 2.3904930255012795,\n",
       "                    None, 3.387475530134996, 2.469580510824071, None,\n",
       "                    3.387475530134996, 2.3904930255012795, None, 3.585429583152692,\n",
       "                    2.469580510824071, None, 2.469580510824071, 2.3904930255012795,\n",
       "                    None, 2.469580510824071, 1.1828048811837026, None,\n",
       "                    2.469580510824071, 1.3469760450759354, None,\n",
       "                    2.3904930255012795, 1.1828048811837026, None,\n",
       "                    2.3904930255012795, 1.3469760450759354, None,\n",
       "                    1.1828048811837026, 1.3469760450759354, None,\n",
       "                    1.1828048811837026, 0.16497539123466523, None,\n",
       "                    1.1828048811837026, 0.4210346803118928, None,\n",
       "                    1.3469760450759354, 0.16497539123466523, None,\n",
       "                    1.3469760450759354, 0.4210346803118928, None,\n",
       "                    0.16497539123466523, 0.4210346803118928, None,\n",
       "                    0.4210346803118928, 0.49201052983080384, None,\n",
       "                    0.49201052983080384, 1.4769587832940718, None,\n",
       "                    1.4769587832940718, 2.622202268968104, None, 2.622202268968104,\n",
       "                    3.3373679218759693, None, 2.622202268968104,\n",
       "                    3.6278881165426613, None, 3.3373679218759693,\n",
       "                    3.6278881165426613, None, -4.330940489564358,\n",
       "                    -4.933108470700456, None, -4.330940489564358,\n",
       "                    -3.803941583361564, None, -4.330940489564358,\n",
       "                    -4.4573688270894705, None, -4.933108470700456,\n",
       "                    -3.803941583361564, None, -4.933108470700456,\n",
       "                    -4.4573688270894705, None, -3.803941583361564,\n",
       "                    -4.4573688270894705, None, 0.22437307686502925,\n",
       "                    -0.4412820468664679, None, 0.22437307686502925,\n",
       "                    0.6790090437771229, None, 0.22437307686502925,\n",
       "                    -0.009902240393820207, None, -2.417520253072692,\n",
       "                    -2.4018166472817284, None, -2.417520253072692,\n",
       "                    -3.197016799787788, None, -2.417520253072692,\n",
       "                    -3.16402671273873, None, -0.4412820468664679,\n",
       "                    0.6790090437771229, None, -0.4412820468664679,\n",
       "                    -0.009902240393820207, None, -2.4018166472817284,\n",
       "                    -3.197016799787788, None, -2.4018166472817284,\n",
       "                    -3.16402671273873, None, -3.621997675592923,\n",
       "                    -4.3598154506004105, None, -3.621997675592923,\n",
       "                    -4.02209466075244, None, -3.621997675592923,\n",
       "                    -3.304350543054961, None, -2.7131340923680596,\n",
       "                    -2.1764178624847514, None, -4.3598154506004105,\n",
       "                    -4.02209466075244, None, -4.3598154506004105,\n",
       "                    -3.304350543054961, None, 0.6790090437771229,\n",
       "                    -0.009902240393820207, None, -3.197016799787788,\n",
       "                    -3.16402671273873, None, 0.7124546870011361,\n",
       "                    0.3723470993128543, None, 0.7124546870011361,\n",
       "                    -0.35508628929849223, None, 0.7124546870011361,\n",
       "                    -0.033325498781618175, None, 0.3723470993128543,\n",
       "                    -0.35508628929849223, None, 0.3723470993128543,\n",
       "                    -0.033325498781618175, None, -4.02209466075244,\n",
       "                    -3.304350543054961, None, -0.35508628929849223,\n",
       "                    -0.033325498781618175, None],\n",
       "              'y': [2.1795294839634343, 1.1068011237670308, None,\n",
       "                    2.1795294839634343, 1.8823680842567714, None,\n",
       "                    2.1795294839634343, 1.1236388847184944, None,\n",
       "                    1.1068011237670308, 0.20663608660619956, None,\n",
       "                    1.1068011237670308, 1.8823680842567714, None,\n",
       "                    1.1068011237670308, 1.1236388847184944, None,\n",
       "                    1.1068011237670308, 0.3464551364682597, None,\n",
       "                    0.20663608660619956, 1.1236388847184944, None,\n",
       "                    0.20663608660619956, 0.3464551364682597, None,\n",
       "                    1.8823680842567714, 1.1236388847184944, None,\n",
       "                    1.1236388847184944, 0.3464551364682597, None,\n",
       "                    1.1236388847184944, 0.7795571667850156, None,\n",
       "                    1.1236388847184944, 0.20461849270105312, None,\n",
       "                    0.3464551364682597, 0.7795571667850156, None,\n",
       "                    0.3464551364682597, 0.20461849270105312, None,\n",
       "                    0.7795571667850156, 0.20461849270105312, None,\n",
       "                    0.7795571667850156, 0.5350203581397455, None,\n",
       "                    0.7795571667850156, -0.3532552943586782, None,\n",
       "                    0.20461849270105312, 0.5350203581397455, None,\n",
       "                    0.20461849270105312, -0.3532552943586782, None,\n",
       "                    0.5350203581397455, -0.3532552943586782, None,\n",
       "                    -0.3532552943586782, -1.653154667902914, None,\n",
       "                    -1.653154667902914, -2.4101104821724193, None,\n",
       "                    -2.4101104821724193, -2.7629036350977354, None,\n",
       "                    -2.7629036350977354, -3.358017380970861, None,\n",
       "                    -2.7629036350977354, -2.523000342164167, None,\n",
       "                    -3.358017380970861, -2.523000342164167, None,\n",
       "                    -0.6504989332370573, -1.102784847106754, None,\n",
       "                    -0.6504989332370573, -1.205845170772767, None,\n",
       "                    -0.6504989332370573, -1.7019680120089011, None,\n",
       "                    -1.102784847106754, -1.205845170772767, None,\n",
       "                    -1.102784847106754, -1.7019680120089011, None,\n",
       "                    -1.205845170772767, -1.7019680120089011, None,\n",
       "                    4.397103552702447, 4.006416473712198, None, 4.397103552702447,\n",
       "                    3.8020541033133033, None, 4.397103552702447,\n",
       "                    3.3712233364080273, None, -3.1548925759602775,\n",
       "                    -3.958121970994324, None, -3.1548925759602775,\n",
       "                    -3.2523861911251695, None, -3.1548925759602775,\n",
       "                    -4.002705994761845, None, 4.006416473712198,\n",
       "                    3.8020541033133033, None, 4.006416473712198,\n",
       "                    3.3712233364080273, None, -3.958121970994324,\n",
       "                    -3.2523861911251695, None, -3.958121970994324,\n",
       "                    -4.002705994761845, None, 1.1361680054013135,\n",
       "                    1.4684795604795096, None, 1.1361680054013135,\n",
       "                    2.156805812571982, None, 1.1361680054013135,\n",
       "                    1.7962075762626581, None, 3.8529507233268694,\n",
       "                    3.1673679478844052, None, 1.4684795604795096,\n",
       "                    2.156805812571982, None, 1.4684795604795096,\n",
       "                    1.7962075762626581, None, 3.8020541033133033,\n",
       "                    3.3712233364080273, None, -3.2523861911251695,\n",
       "                    -4.002705994761845, None, -4.422906574680753,\n",
       "                    -5.078924063363425, None, -4.422906574680753,\n",
       "                    -4.801611631073474, None, -4.422906574680753,\n",
       "                    -4.098152160130317, None, -5.078924063363425,\n",
       "                    -4.801611631073474, None, -5.078924063363425,\n",
       "                    -4.098152160130317, None, 2.156805812571982,\n",
       "                    1.7962075762626581, None, -4.801611631073474,\n",
       "                    -4.098152160130317, None]},\n",
       "             {'hoverinfo': 'text',\n",
       "              'marker': {'color': [0.32798573975044565, 0.34544405997693195,\n",
       "                                   0.37745098039215685, 0.4235294117647059,\n",
       "                                   0.4478844169246646, 0.4565826330532213,\n",
       "                                   0.4859943977591036, 0.4859943977591036,\n",
       "                                   0.5392156862745098, 0.5698529411764706,\n",
       "                                   0.607843137254902, 0.6568627450980392,\n",
       "                                   0.7058823529411764, 0.7647058823529411,\n",
       "                                   0.7436974789915967, 0.30800653594771243,\n",
       "                                   0.30800653594771243, 0.30800653594771243,\n",
       "                                   0.30800653594771243, 0.0196078431372549,\n",
       "                                   0.0588235294117647, 0.0196078431372549,\n",
       "                                   0.0588235294117647, 0.8398692810457516,\n",
       "                                   0.8986928104575163, 0.8398692810457516,\n",
       "                                   0.0196078431372549, 0.0588235294117647,\n",
       "                                   0.11274509803921569, 0.0196078431372549,\n",
       "                                   0.0588235294117647, 0.11274509803921569,\n",
       "                                   0.8294117647058824, 0.916955017301038,\n",
       "                                   0.8294117647058824, 0.11274509803921569,\n",
       "                                   0.11274509803921569],\n",
       "                         'colorbar': {'thickness': 20, 'tickfont': {'size': 10}, 'ticklen': 4, 'x': 1.01},\n",
       "                         'colorscale': [[0.0, 'rgb(68, 1, 84)'], [0.1, 'rgb(72,\n",
       "                                        35, 116)'], [0.2, 'rgb(64, 67, 135)'],\n",
       "                                        [0.3, 'rgb(52, 94, 141)'], [0.4, 'rgb(41,\n",
       "                                        120, 142)'], [0.5, 'rgb(32, 144, 140)'],\n",
       "                                        [0.6, 'rgb(34, 167, 132)'], [0.7, 'rgb(68,\n",
       "                                        190, 112)'], [0.8, 'rgb(121, 209, 81)'],\n",
       "                                        [0.9, 'rgb(189, 222, 38)'], [1.0, 'rgb(253,\n",
       "                                        231, 36)']],\n",
       "                         'line': {'color': 'rgb(200,200,200)', 'width': 1.0},\n",
       "                         'opacity': 1.0,\n",
       "                         'showscale': True,\n",
       "                         'size': [9, 9, 6, 6, 9, 9, 9, 9, 6, 9, 9, 9, 9, 6, 9, 9,\n",
       "                                  9, 9, 9, 6, 6, 6, 6, 6, 9, 6, 6, 6, 6, 6, 6, 6,\n",
       "                                  6, 9, 6, 6, 6]},\n",
       "              'mode': 'markers',\n",
       "              'text': [cube0_cluster0, cube1_cluster0, cube2_cluster0,\n",
       "                       cube3_cluster0, cube4_cluster0, cube5_cluster0,\n",
       "                       cube6_cluster0, cube7_cluster0, cube8_cluster0,\n",
       "                       cube9_cluster0, cube10_cluster0, cube11_cluster0,\n",
       "                       cube13_cluster0, cube14_cluster0, cube15_cluster0,\n",
       "                       cube16_cluster0, cube17_cluster0, cube20_cluster0,\n",
       "                       cube21_cluster0, cube22_cluster0, cube22_cluster1,\n",
       "                       cube23_cluster0, cube23_cluster1, cube24_cluster0,\n",
       "                       cube24_cluster1, cube25_cluster0, cube26_cluster0,\n",
       "                       cube26_cluster1, cube26_cluster2, cube27_cluster0,\n",
       "                       cube27_cluster1, cube27_cluster2, cube28_cluster0,\n",
       "                       cube28_cluster1, cube29_cluster0, cube30_cluster0,\n",
       "                       cube31_cluster0],\n",
       "              'type': 'scatter',\n",
       "              'uid': 'ccb1f3c9-d4af-498e-b4b3-f8873daf194b',\n",
       "              'x': [2.879539801928139, 3.333837737146109, 3.387475530134996,\n",
       "                    3.585429583152692, 2.469580510824071, 2.3904930255012795,\n",
       "                    1.1828048811837026, 1.3469760450759354, 0.16497539123466523,\n",
       "                    0.4210346803118928, 0.49201052983080384, 1.4769587832940718,\n",
       "                    2.622202268968104, 3.3373679218759693, 3.6278881165426613,\n",
       "                    -4.330940489564358, -4.933108470700456, -3.803941583361564,\n",
       "                    -4.4573688270894705, 0.22437307686502925, -2.417520253072692,\n",
       "                    -0.4412820468664679, -2.4018166472817284, -3.621997675592923,\n",
       "                    -2.7131340923680596, -4.3598154506004105, 0.6790090437771229,\n",
       "                    -3.197016799787788, 0.7124546870011361, -0.009902240393820207,\n",
       "                    -3.16402671273873, 0.3723470993128543, -4.02209466075244,\n",
       "                    -2.1764178624847514, -3.304350543054961, -0.35508628929849223,\n",
       "                    -0.033325498781618175],\n",
       "              'y': [2.1795294839634343, 1.1068011237670308, 0.20663608660619956,\n",
       "                    1.8823680842567714, 1.1236388847184944, 0.3464551364682597,\n",
       "                    0.7795571667850156, 0.20461849270105312, 0.5350203581397455,\n",
       "                    -0.3532552943586782, -1.653154667902914, -2.4101104821724193,\n",
       "                    -2.7629036350977354, -3.358017380970861, -2.523000342164167,\n",
       "                    -0.6504989332370573, -1.102784847106754, -1.205845170772767,\n",
       "                    -1.7019680120089011, 4.397103552702447, -3.1548925759602775,\n",
       "                    4.006416473712198, -3.958121970994324, 1.1361680054013135,\n",
       "                    3.8529507233268694, 1.4684795604795096, 3.8020541033133033,\n",
       "                    -3.2523861911251695, -4.422906574680753, 3.3712233364080273,\n",
       "                    -4.002705994761845, -5.078924063363425, 2.156805812571982,\n",
       "                    3.1673679478844052, 1.7962075762626581, -4.801611631073474,\n",
       "                    -4.098152160130317]}],\n",
       "    'layout': {'annotations': [{'align': 'left',\n",
       "                                'font': {'size': 12},\n",
       "                                'showarrow': False,\n",
       "                                'text': ('<b>N_cubes:</b> 15 <b>Perc_ove' ... '295 <b>Unique_samples:</b> 100'),\n",
       "                                'x': 0,\n",
       "                                'xanchor': 'left',\n",
       "                                'xref': 'paper',\n",
       "                                'y': -0.01,\n",
       "                                'yanchor': 'top',\n",
       "                                'yref': 'paper'}],\n",
       "               'autosize': False,\n",
       "               'font': {'size': 12},\n",
       "               'height': 500,\n",
       "               'hovermode': 'closest',\n",
       "               'margin': {'b': 35, 'l': 10, 'r': 60, 't': 100},\n",
       "               'plot_bgcolor': 'rgba(240, 240, 240, 0.95)',\n",
       "               'showlegend': False,\n",
       "               'template': '...',\n",
       "               'title': {'text': 'Topological Network Representing Ebola Genome Data'},\n",
       "               'width': 600,\n",
       "               'xaxis': {'visible': False},\n",
       "               'yaxis': {'visible': False}}\n",
       "})"
      ]
     },
     "execution_count": 41,
     "metadata": {},
     "output_type": "execute_result"
    }
   ],
   "source": [
    "plotlyviz(simplicial_complex, title=\"Topological Network Representing Ebola Genome Data\", graph_layout='fr')"
   ]
  },
  {
   "cell_type": "code",
   "execution_count": 54,
   "metadata": {},
   "outputs": [
    {
     "name": "stderr",
     "output_type": "stream",
     "text": [
      "/usr/local/lib/python3.9/site-packages/sklearn/cluster/_kmeans.py:870: FutureWarning:\n",
      "\n",
      "The default value of `n_init` will change from 10 to 'auto' in 1.4. Set the value of `n_init` explicitly to suppress the warning\n",
      "\n",
      "/usr/local/lib/python3.9/site-packages/sklearn/cluster/_kmeans.py:870: FutureWarning:\n",
      "\n",
      "The default value of `n_init` will change from 10 to 'auto' in 1.4. Set the value of `n_init` explicitly to suppress the warning\n",
      "\n",
      "/usr/local/lib/python3.9/site-packages/sklearn/cluster/_kmeans.py:870: FutureWarning:\n",
      "\n",
      "The default value of `n_init` will change from 10 to 'auto' in 1.4. Set the value of `n_init` explicitly to suppress the warning\n",
      "\n",
      "/usr/local/lib/python3.9/site-packages/sklearn/cluster/_kmeans.py:870: FutureWarning:\n",
      "\n",
      "The default value of `n_init` will change from 10 to 'auto' in 1.4. Set the value of `n_init` explicitly to suppress the warning\n",
      "\n",
      "/usr/local/lib/python3.9/site-packages/sklearn/cluster/_kmeans.py:870: FutureWarning:\n",
      "\n",
      "The default value of `n_init` will change from 10 to 'auto' in 1.4. Set the value of `n_init` explicitly to suppress the warning\n",
      "\n",
      "/usr/local/lib/python3.9/site-packages/sklearn/cluster/_kmeans.py:870: FutureWarning:\n",
      "\n",
      "The default value of `n_init` will change from 10 to 'auto' in 1.4. Set the value of `n_init` explicitly to suppress the warning\n",
      "\n",
      "/usr/local/lib/python3.9/site-packages/sklearn/cluster/_kmeans.py:870: FutureWarning:\n",
      "\n",
      "The default value of `n_init` will change from 10 to 'auto' in 1.4. Set the value of `n_init` explicitly to suppress the warning\n",
      "\n",
      "/usr/local/lib/python3.9/site-packages/sklearn/cluster/_kmeans.py:870: FutureWarning:\n",
      "\n",
      "The default value of `n_init` will change from 10 to 'auto' in 1.4. Set the value of `n_init` explicitly to suppress the warning\n",
      "\n",
      "/usr/local/lib/python3.9/site-packages/sklearn/cluster/_kmeans.py:870: FutureWarning:\n",
      "\n",
      "The default value of `n_init` will change from 10 to 'auto' in 1.4. Set the value of `n_init` explicitly to suppress the warning\n",
      "\n",
      "/usr/local/lib/python3.9/site-packages/sklearn/cluster/_kmeans.py:870: FutureWarning:\n",
      "\n",
      "The default value of `n_init` will change from 10 to 'auto' in 1.4. Set the value of `n_init` explicitly to suppress the warning\n",
      "\n",
      "/usr/local/lib/python3.9/site-packages/sklearn/cluster/_kmeans.py:870: FutureWarning:\n",
      "\n",
      "The default value of `n_init` will change from 10 to 'auto' in 1.4. Set the value of `n_init` explicitly to suppress the warning\n",
      "\n",
      "/usr/local/lib/python3.9/site-packages/sklearn/cluster/_kmeans.py:870: FutureWarning:\n",
      "\n",
      "The default value of `n_init` will change from 10 to 'auto' in 1.4. Set the value of `n_init` explicitly to suppress the warning\n",
      "\n",
      "/usr/local/lib/python3.9/site-packages/sklearn/cluster/_kmeans.py:870: FutureWarning:\n",
      "\n",
      "The default value of `n_init` will change from 10 to 'auto' in 1.4. Set the value of `n_init` explicitly to suppress the warning\n",
      "\n"
     ]
    }
   ],
   "source": [
    "mapper = km.KeplerMapper()\n",
    "projected_X = mapper.fit_transform(X, projection=[TSNE(random_state=1)])\n",
    "simplicial_complex = mapper.map(projected_X, X, cover=km.Cover(n_cubes=7, perc_overlap=0.5), clusterer=KMeans(n_clusters=1))\n",
    "_ = mapper.visualize(simplicial_complex, path_html='viral_genome_graph_tsne_kmeans.html', custom_tooltips=classes)"
   ]
  },
  {
   "cell_type": "code",
   "execution_count": null,
   "metadata": {},
   "outputs": [],
   "source": []
  },
  {
   "cell_type": "code",
   "execution_count": 112,
   "metadata": {},
   "outputs": [
    {
     "name": "stderr",
     "output_type": "stream",
     "text": [
      "/var/folders/vp/7cb3bs4171vd6ywq0xgznpbh0000gn/T/ipykernel_3078/3374276112.py:6: UserWarning:\n",
      "\n",
      "Matplotlib is currently using module://matplotlib_inline.backend_inline, which is a non-GUI backend, so cannot show the figure.\n",
      "\n"
     ]
    },
    {
     "data": {
      "image/png": "[encoded data removed]",
      "text/plain": [
       "<Figure size 640x480 with 1 Axes>"
      ]
     },
     "metadata": {},
     "output_type": "display_data"
    }
   ],
   "source": [
    "fig = plt.figure()\n",
    "ax = fig.add_subplot()\n",
    "scatter = ax.scatter(projected_X[:,0], projected_X[:,1], c=ebola_genome_lab_data.to_numpy())\n",
    "ax.legend(handles=scatter.legend_elements()[0], labels=virus_display)\n",
    "ax.set_title(\"t-SNE Lens\")\n",
    "fig.show()"
   ]
  },
  {
   "cell_type": "code",
   "execution_count": 55,
   "metadata": {},
   "outputs": [
    {
     "ename": "AttributeError",
     "evalue": "type object 'DOMWidget' has no attribute '_ipython_display_'",
     "output_type": "error",
     "traceback": [
      "\u001b[0;31m---------------------------------------------------------------------------\u001b[0m",
      "\u001b[0;31mAttributeError\u001b[0m                            Traceback (most recent call last)",
      "File \u001b[0;32m~/Library/Python/3.9/lib/python/site-packages/IPython/core/formatters.py:920\u001b[0m, in \u001b[0;36mIPythonDisplayFormatter.__call__\u001b[0;34m(self, obj)\u001b[0m\n\u001b[1;32m    918\u001b[0m method \u001b[39m=\u001b[39m get_real_method(obj, \u001b[39mself\u001b[39m\u001b[39m.\u001b[39mprint_method)\n\u001b[1;32m    919\u001b[0m \u001b[39mif\u001b[39;00m method \u001b[39mis\u001b[39;00m \u001b[39mnot\u001b[39;00m \u001b[39mNone\u001b[39;00m:\n\u001b[0;32m--> 920\u001b[0m     method()\n\u001b[1;32m    921\u001b[0m     \u001b[39mreturn\u001b[39;00m \u001b[39mTrue\u001b[39;00m\n",
      "File \u001b[0;32m/usr/local/lib/python3.9/site-packages/plotly/basewidget.py:741\u001b[0m, in \u001b[0;36mBaseFigureWidget._ipython_display_\u001b[0;34m(self)\u001b[0m\n\u001b[1;32m    737\u001b[0m \u001b[39m\"\"\"\u001b[39;00m\n\u001b[1;32m    738\u001b[0m \u001b[39mHandle rich display of figures in ipython contexts\u001b[39;00m\n\u001b[1;32m    739\u001b[0m \u001b[39m\"\"\"\u001b[39;00m\n\u001b[1;32m    740\u001b[0m \u001b[39m# Override BaseFigure's display to make sure we display the widget version\u001b[39;00m\n\u001b[0;32m--> 741\u001b[0m widgets\u001b[39m.\u001b[39;49mDOMWidget\u001b[39m.\u001b[39;49m_ipython_display_(\u001b[39mself\u001b[39m)\n",
      "\u001b[0;31mAttributeError\u001b[0m: type object 'DOMWidget' has no attribute '_ipython_display_'"
     ]
    },
    {
     "data": {
      "application/vnd.plotly.v1+json": {
       "config": {
        "plotlyServerURL": "https://plot.ly"
       },
       "data": [
        {
         "hoverinfo": "none",
         "line": {
          "color": "rgb(180,180,180)",
          "width": 1.5
         },
         "mode": "lines",
         "type": "scatter",
         "uid": "73a12306-114d-41ce-acda-06e5da1256ab",
         "x": [
          0.4670681985988484,
          0.28463950680207045,
          null,
          0.4670681985988484,
          1.2263212176619445,
          null,
          0.4670681985988484,
          1.1731138815120807,
          null,
          0.28463950680207045,
          1.2263212176619445,
          null,
          0.28463950680207045,
          1.1731138815120807,
          null,
          1.2263212176619445,
          1.1731138815120807,
          null,
          1.1731138815120807,
          1.7425748004791999,
          null,
          1.7425748004791999,
          1.4398256773199356,
          null,
          0.6499347776992644,
          1.4398256773199356,
          null,
          0.6499347776992644,
          1.6807192937204458,
          null,
          0.6499347776992644,
          0.9832891635096948,
          null,
          1.4398256773199356,
          1.6807192937204458,
          null,
          1.4398256773199356,
          0.9832891635096948,
          null,
          1.6807192937204458,
          0.9832891635096948,
          null,
          -2.089277443265502,
          -2.5212540129799,
          null,
          -2.089277443265502,
          -1.9642754989403721,
          null,
          -2.089277443265502,
          -1.5265691673069939,
          null,
          -2.5212540129799,
          -1.9642754989403721,
          null,
          -2.5212540129799,
          -1.5265691673069939,
          null,
          -1.9642754989403721,
          -1.5265691673069939,
          null
         ],
         "y": [
          -2.6635174553172885,
          -1.9695076185460414,
          null,
          -2.6635174553172885,
          -2.4720914647665153,
          null,
          -2.6635174553172885,
          -1.6152021436506234,
          null,
          -1.9695076185460414,
          -2.4720914647665153,
          null,
          -1.9695076185460414,
          -1.6152021436506234,
          null,
          -2.4720914647665153,
          -1.6152021436506234,
          null,
          -1.6152021436506234,
          -0.4747799757212752,
          null,
          -0.4747799757212752,
          0.7636159101095152,
          null,
          1.3064942316807129,
          0.7636159101095152,
          null,
          1.3064942316807129,
          1.586666525852198,
          null,
          1.3064942316807129,
          1.9420988780491804,
          null,
          0.7636159101095152,
          1.586666525852198,
          null,
          0.7636159101095152,
          1.9420988780491804,
          null,
          1.586666525852198,
          1.9420988780491804,
          null,
          -0.6667885635645583,
          -0.012088853214585395,
          null,
          -0.6667885635645583,
          0.5439418187591291,
          null,
          -0.6667885635645583,
          -0.11216875067899573,
          null,
          -0.012088853214585395,
          0.5439418187591291,
          null,
          -0.012088853214585395,
          -0.11216875067899573,
          null,
          0.5439418187591291,
          -0.11216875067899573,
          null
         ]
        },
        {
         "hoverinfo": "text",
         "marker": {
          "color": [
           0.36274509803921573,
           0.3992562542258283,
           0.4313725490196078,
           0.5285947712418301,
           0.6489262371615312,
           0.30800653594771243,
           0.5118464052287582,
           0.30800653594771243,
           0.37324929971988796,
           0.18250377073906485,
           0.059714795008912656,
           0.5402212166918048,
           0.07843137254901962
          ],
          "colorbar": {
           "thickness": 20,
           "tickfont": {
            "size": 10
           },
           "ticklen": 4,
           "x": 1.01
          },
          "colorscale": [
           [
            0,
            "rgb(68, 1, 84)"
           ],
           [
            0.1,
            "rgb(72, 35, 116)"
           ],
           [
            0.2,
            "rgb(64, 67, 135)"
           ],
           [
            0.3,
            "rgb(52, 94, 141)"
           ],
           [
            0.4,
            "rgb(41, 120, 142)"
           ],
           [
            0.5,
            "rgb(32, 144, 140)"
           ],
           [
            0.6,
            "rgb(34, 167, 132)"
           ],
           [
            0.7,
            "rgb(68, 190, 112)"
           ],
           [
            0.8,
            "rgb(121, 209, 81)"
           ],
           [
            0.9,
            "rgb(189, 222, 38)"
           ],
           [
            1,
            "rgb(253, 231, 36)"
           ]
          ],
          "line": {
           "color": "rgb(200,200,200)",
           "width": 1
          },
          "opacity": 1,
          "showscale": true,
          "size": [
           12,
           12,
           6,
           12,
           12,
           9,
           12,
           9,
           9,
           9,
           9,
           12,
           9
          ]
         },
         "mode": "markers",
         "text": [
          "cube0_cluster0",
          "cube1_cluster0",
          "cube2_cluster0",
          "cube3_cluster0",
          "cube4_cluster0",
          "cube5_cluster0",
          "cube6_cluster0",
          "cube7_cluster0",
          "cube8_cluster0",
          "cube9_cluster0",
          "cube10_cluster0",
          "cube11_cluster0",
          "cube12_cluster0"
         ],
         "type": "scatter",
         "uid": "2c94a7aa-43d7-452e-b271-2ea5d796b5df",
         "x": [
          0.4670681985988484,
          0.28463950680207045,
          1.2263212176619445,
          1.1731138815120807,
          1.7425748004791999,
          0.6499347776992644,
          1.4398256773199356,
          1.6807192937204458,
          0.9832891635096948,
          -2.089277443265502,
          -2.5212540129799,
          -1.9642754989403721,
          -1.5265691673069939
         ],
         "y": [
          -2.6635174553172885,
          -1.9695076185460414,
          -2.4720914647665153,
          -1.6152021436506234,
          -0.4747799757212752,
          1.3064942316807129,
          0.7636159101095152,
          1.586666525852198,
          1.9420988780491804,
          -0.6667885635645583,
          -0.012088853214585395,
          0.5439418187591291,
          -0.11216875067899573
         ]
        }
       ],
       "layout": {
        "annotations": [
         {
          "align": "left",
          "font": {
           "size": 12
          },
          "showarrow": false,
          "text": "<b>N_cubes:</b> 7 <b>Perc_overlap:</b> 0.5<br><b>Nodes:</b> 13 <b>Edges:</b> 20 <b>Total samples:</b> 242 <b>Unique_samples:</b> 103",
          "x": 0,
          "xanchor": "left",
          "xref": "paper",
          "y": -0.01,
          "yanchor": "top",
          "yref": "paper"
         }
        ],
        "autosize": false,
        "font": {
         "size": 12
        },
        "height": 500,
        "hovermode": "closest",
        "margin": {
         "b": 35,
         "l": 10,
         "r": 60,
         "t": 100
        },
        "plot_bgcolor": "rgba(240, 240, 240, 0.95)",
        "showlegend": false,
        "template": {
         "data": {
          "bar": [
           {
            "error_x": {
             "color": "#2a3f5f"
            },
            "error_y": {
             "color": "#2a3f5f"
            },
            "marker": {
             "line": {
              "color": "#E5ECF6",
              "width": 0.5
             },
             "pattern": {
              "fillmode": "overlay",
              "size": 10,
              "solidity": 0.2
             }
            },
            "type": "bar"
           }
          ],
          "barpolar": [
           {
            "marker": {
             "line": {
              "color": "#E5ECF6",
              "width": 0.5
             },
             "pattern": {
              "fillmode": "overlay",
              "size": 10,
              "solidity": 0.2
             }
            },
            "type": "barpolar"
           }
          ],
          "carpet": [
           {
            "aaxis": {
             "endlinecolor": "#2a3f5f",
             "gridcolor": "white",
             "linecolor": "white",
             "minorgridcolor": "white",
             "startlinecolor": "#2a3f5f"
            },
            "baxis": {
             "endlinecolor": "#2a3f5f",
             "gridcolor": "white",
             "linecolor": "white",
             "minorgridcolor": "white",
             "startlinecolor": "#2a3f5f"
            },
            "type": "carpet"
           }
          ],
          "choropleth": [
           {
            "colorbar": {
             "outlinewidth": 0,
             "ticks": ""
            },
            "type": "choropleth"
           }
          ],
          "contour": [
           {
            "colorbar": {
             "outlinewidth": 0,
             "ticks": ""
            },
            "colorscale": [
             [
              0,
              "#0d0887"
             ],
             [
              0.1111111111111111,
              "#46039f"
             ],
             [
              0.2222222222222222,
              "#7201a8"
             ],
             [
              0.3333333333333333,
              "#9c179e"
             ],
             [
              0.4444444444444444,
              "#bd3786"
             ],
             [
              0.5555555555555556,
              "#d8576b"
             ],
             [
              0.6666666666666666,
              "#ed7953"
             ],
             [
              0.7777777777777778,
              "#fb9f3a"
             ],
             [
              0.8888888888888888,
              "#fdca26"
             ],
             [
              1,
              "#f0f921"
             ]
            ],
            "type": "contour"
           }
          ],
          "contourcarpet": [
           {
            "colorbar": {
             "outlinewidth": 0,
             "ticks": ""
            },
            "type": "contourcarpet"
           }
          ],
          "heatmap": [
           {
            "colorbar": {
             "outlinewidth": 0,
             "ticks": ""
            },
            "colorscale": [
             [
              0,
              "#0d0887"
             ],
             [
              0.1111111111111111,
              "#46039f"
             ],
             [
              0.2222222222222222,
              "#7201a8"
             ],
             [
              0.3333333333333333,
              "#9c179e"
             ],
             [
              0.4444444444444444,
              "#bd3786"
             ],
             [
              0.5555555555555556,
              "#d8576b"
             ],
             [
              0.6666666666666666,
              "#ed7953"
             ],
             [
              0.7777777777777778,
              "#fb9f3a"
             ],
             [
              0.8888888888888888,
              "#fdca26"
             ],
             [
              1,
              "#f0f921"
             ]
            ],
            "type": "heatmap"
           }
          ],
          "heatmapgl": [
           {
            "colorbar": {
             "outlinewidth": 0,
             "ticks": ""
            },
            "colorscale": [
             [
              0,
              "#0d0887"
             ],
             [
              0.1111111111111111,
              "#46039f"
             ],
             [
              0.2222222222222222,
              "#7201a8"
             ],
             [
              0.3333333333333333,
              "#9c179e"
             ],
             [
              0.4444444444444444,
              "#bd3786"
             ],
             [
              0.5555555555555556,
              "#d8576b"
             ],
             [
              0.6666666666666666,
              "#ed7953"
             ],
             [
              0.7777777777777778,
              "#fb9f3a"
             ],
             [
              0.8888888888888888,
              "#fdca26"
             ],
             [
              1,
              "#f0f921"
             ]
            ],
            "type": "heatmapgl"
           }
          ],
          "histogram": [
           {
            "marker": {
             "pattern": {
              "fillmode": "overlay",
              "size": 10,
              "solidity": 0.2
             }
            },
            "type": "histogram"
           }
          ],
          "histogram2d": [
           {
            "colorbar": {
             "outlinewidth": 0,
             "ticks": ""
            },
            "colorscale": [
             [
              0,
              "#0d0887"
             ],
             [
              0.1111111111111111,
              "#46039f"
             ],
             [
              0.2222222222222222,
              "#7201a8"
             ],
             [
              0.3333333333333333,
              "#9c179e"
             ],
             [
              0.4444444444444444,
              "#bd3786"
             ],
             [
              0.5555555555555556,
              "#d8576b"
             ],
             [
              0.6666666666666666,
              "#ed7953"
             ],
             [
              0.7777777777777778,
              "#fb9f3a"
             ],
             [
              0.8888888888888888,
              "#fdca26"
             ],
             [
              1,
              "#f0f921"
             ]
            ],
            "type": "histogram2d"
           }
          ],
          "histogram2dcontour": [
           {
            "colorbar": {
             "outlinewidth": 0,
             "ticks": ""
            },
            "colorscale": [
             [
              0,
              "#0d0887"
             ],
             [
              0.1111111111111111,
              "#46039f"
             ],
             [
              0.2222222222222222,
              "#7201a8"
             ],
             [
              0.3333333333333333,
              "#9c179e"
             ],
             [
              0.4444444444444444,
              "#bd3786"
             ],
             [
              0.5555555555555556,
              "#d8576b"
             ],
             [
              0.6666666666666666,
              "#ed7953"
             ],
             [
              0.7777777777777778,
              "#fb9f3a"
             ],
             [
              0.8888888888888888,
              "#fdca26"
             ],
             [
              1,
              "#f0f921"
             ]
            ],
            "type": "histogram2dcontour"
           }
          ],
          "mesh3d": [
           {
            "colorbar": {
             "outlinewidth": 0,
             "ticks": ""
            },
            "type": "mesh3d"
           }
          ],
          "parcoords": [
           {
            "line": {
             "colorbar": {
              "outlinewidth": 0,
              "ticks": ""
             }
            },
            "type": "parcoords"
           }
          ],
          "pie": [
           {
            "automargin": true,
            "type": "pie"
           }
          ],
          "scatter": [
           {
            "fillpattern": {
             "fillmode": "overlay",
             "size": 10,
             "solidity": 0.2
            },
            "type": "scatter"
           }
          ],
          "scatter3d": [
           {
            "line": {
             "colorbar": {
              "outlinewidth": 0,
              "ticks": ""
             }
            },
            "marker": {
             "colorbar": {
              "outlinewidth": 0,
              "ticks": ""
             }
            },
            "type": "scatter3d"
           }
          ],
          "scattercarpet": [
           {
            "marker": {
             "colorbar": {
              "outlinewidth": 0,
              "ticks": ""
             }
            },
            "type": "scattercarpet"
           }
          ],
          "scattergeo": [
           {
            "marker": {
             "colorbar": {
              "outlinewidth": 0,
              "ticks": ""
             }
            },
            "type": "scattergeo"
           }
          ],
          "scattergl": [
           {
            "marker": {
             "colorbar": {
              "outlinewidth": 0,
              "ticks": ""
             }
            },
            "type": "scattergl"
           }
          ],
          "scattermapbox": [
           {
            "marker": {
             "colorbar": {
              "outlinewidth": 0,
              "ticks": ""
             }
            },
            "type": "scattermapbox"
           }
          ],
          "scatterpolar": [
           {
            "marker": {
             "colorbar": {
              "outlinewidth": 0,
              "ticks": ""
             }
            },
            "type": "scatterpolar"
           }
          ],
          "scatterpolargl": [
           {
            "marker": {
             "colorbar": {
              "outlinewidth": 0,
              "ticks": ""
             }
            },
            "type": "scatterpolargl"
           }
          ],
          "scatterternary": [
           {
            "marker": {
             "colorbar": {
              "outlinewidth": 0,
              "ticks": ""
             }
            },
            "type": "scatterternary"
           }
          ],
          "surface": [
           {
            "colorbar": {
             "outlinewidth": 0,
             "ticks": ""
            },
            "colorscale": [
             [
              0,
              "#0d0887"
             ],
             [
              0.1111111111111111,
              "#46039f"
             ],
             [
              0.2222222222222222,
              "#7201a8"
             ],
             [
              0.3333333333333333,
              "#9c179e"
             ],
             [
              0.4444444444444444,
              "#bd3786"
             ],
             [
              0.5555555555555556,
              "#d8576b"
             ],
             [
              0.6666666666666666,
              "#ed7953"
             ],
             [
              0.7777777777777778,
              "#fb9f3a"
             ],
             [
              0.8888888888888888,
              "#fdca26"
             ],
             [
              1,
              "#f0f921"
             ]
            ],
            "type": "surface"
           }
          ],
          "table": [
           {
            "cells": {
             "fill": {
              "color": "#EBF0F8"
             },
             "line": {
              "color": "white"
             }
            },
            "header": {
             "fill": {
              "color": "#C8D4E3"
             },
             "line": {
              "color": "white"
             }
            },
            "type": "table"
           }
          ]
         },
         "layout": {
          "annotationdefaults": {
           "arrowcolor": "#2a3f5f",
           "arrowhead": 0,
           "arrowwidth": 1
          },
          "autotypenumbers": "strict",
          "coloraxis": {
           "colorbar": {
            "outlinewidth": 0,
            "ticks": ""
           }
          },
          "colorscale": {
           "diverging": [
            [
             0,
             "#8e0152"
            ],
            [
             0.1,
             "#c51b7d"
            ],
            [
             0.2,
             "#de77ae"
            ],
            [
             0.3,
             "#f1b6da"
            ],
            [
             0.4,
             "#fde0ef"
            ],
            [
             0.5,
             "#f7f7f7"
            ],
            [
             0.6,
             "#e6f5d0"
            ],
            [
             0.7,
             "#b8e186"
            ],
            [
             0.8,
             "#7fbc41"
            ],
            [
             0.9,
             "#4d9221"
            ],
            [
             1,
             "#276419"
            ]
           ],
           "sequential": [
            [
             0,
             "#0d0887"
            ],
            [
             0.1111111111111111,
             "#46039f"
            ],
            [
             0.2222222222222222,
             "#7201a8"
            ],
            [
             0.3333333333333333,
             "#9c179e"
            ],
            [
             0.4444444444444444,
             "#bd3786"
            ],
            [
             0.5555555555555556,
             "#d8576b"
            ],
            [
             0.6666666666666666,
             "#ed7953"
            ],
            [
             0.7777777777777778,
             "#fb9f3a"
            ],
            [
             0.8888888888888888,
             "#fdca26"
            ],
            [
             1,
             "#f0f921"
            ]
           ],
           "sequentialminus": [
            [
             0,
             "#0d0887"
            ],
            [
             0.1111111111111111,
             "#46039f"
            ],
            [
             0.2222222222222222,
             "#7201a8"
            ],
            [
             0.3333333333333333,
             "#9c179e"
            ],
            [
             0.4444444444444444,
             "#bd3786"
            ],
            [
             0.5555555555555556,
             "#d8576b"
            ],
            [
             0.6666666666666666,
             "#ed7953"
            ],
            [
             0.7777777777777778,
             "#fb9f3a"
            ],
            [
             0.8888888888888888,
             "#fdca26"
            ],
            [
             1,
             "#f0f921"
            ]
           ]
          },
          "colorway": [
           "#636efa",
           "#EF553B",
           "#00cc96",
           "#ab63fa",
           "#FFA15A",
           "#19d3f3",
           "#FF6692",
           "#B6E880",
           "#FF97FF",
           "#FECB52"
          ],
          "font": {
           "color": "#2a3f5f"
          },
          "geo": {
           "bgcolor": "white",
           "lakecolor": "white",
           "landcolor": "#E5ECF6",
           "showlakes": true,
           "showland": true,
           "subunitcolor": "white"
          },
          "hoverlabel": {
           "align": "left"
          },
          "hovermode": "closest",
          "mapbox": {
           "style": "light"
          },
          "paper_bgcolor": "white",
          "plot_bgcolor": "#E5ECF6",
          "polar": {
           "angularaxis": {
            "gridcolor": "white",
            "linecolor": "white",
            "ticks": ""
           },
           "bgcolor": "#E5ECF6",
           "radialaxis": {
            "gridcolor": "white",
            "linecolor": "white",
            "ticks": ""
           }
          },
          "scene": {
           "xaxis": {
            "backgroundcolor": "#E5ECF6",
            "gridcolor": "white",
            "gridwidth": 2,
            "linecolor": "white",
            "showbackground": true,
            "ticks": "",
            "zerolinecolor": "white"
           },
           "yaxis": {
            "backgroundcolor": "#E5ECF6",
            "gridcolor": "white",
            "gridwidth": 2,
            "linecolor": "white",
            "showbackground": true,
            "ticks": "",
            "zerolinecolor": "white"
           },
           "zaxis": {
            "backgroundcolor": "#E5ECF6",
            "gridcolor": "white",
            "gridwidth": 2,
            "linecolor": "white",
            "showbackground": true,
            "ticks": "",
            "zerolinecolor": "white"
           }
          },
          "shapedefaults": {
           "line": {
            "color": "#2a3f5f"
           }
          },
          "ternary": {
           "aaxis": {
            "gridcolor": "white",
            "linecolor": "white",
            "ticks": ""
           },
           "baxis": {
            "gridcolor": "white",
            "linecolor": "white",
            "ticks": ""
           },
           "bgcolor": "#E5ECF6",
           "caxis": {
            "gridcolor": "white",
            "linecolor": "white",
            "ticks": ""
           }
          },
          "title": {
           "x": 0.05
          },
          "xaxis": {
           "automargin": true,
           "gridcolor": "white",
           "linecolor": "white",
           "ticks": "",
           "title": {
            "standoff": 15
           },
           "zerolinecolor": "white",
           "zerolinewidth": 2
          },
          "yaxis": {
           "automargin": true,
           "gridcolor": "white",
           "linecolor": "white",
           "ticks": "",
           "title": {
            "standoff": 15
           },
           "zerolinecolor": "white",
           "zerolinewidth": 2
          }
         }
        },
        "title": {
         "text": "Topological Network Representing Ebola Genome Data"
        },
        "width": 600,
        "xaxis": {
         "visible": false
        },
        "yaxis": {
         "visible": false
        }
       }
      },
      "text/html": [
       "<div>                        <script type=\"text/javascript\">window.PlotlyConfig = {MathJaxConfig: 'local'};</script>\n",
       "        <script src=\"https://cdn.plot.ly/plotly-2.16.1.min.js\"></script>                <div id=\"6a40b01b-24ed-40fa-bf3b-3aa34af42970\" class=\"plotly-graph-div\" style=\"height:500px; width:600px;\"></div>            <script type=\"text/javascript\">                                    window.PLOTLYENV=window.PLOTLYENV || {};                                    if (document.getElementById(\"6a40b01b-24ed-40fa-bf3b-3aa34af42970\")) {                    Plotly.newPlot(                        \"6a40b01b-24ed-40fa-bf3b-3aa34af42970\",                        [{\"hoverinfo\":\"none\",\"line\":{\"color\":\"rgb(180,180,180)\",\"width\":1.5},\"mode\":\"lines\",\"x\":[0.4670681985988484,0.28463950680207045,null,0.4670681985988484,1.2263212176619445,null,0.4670681985988484,1.1731138815120807,null,0.28463950680207045,1.2263212176619445,null,0.28463950680207045,1.1731138815120807,null,1.2263212176619445,1.1731138815120807,null,1.1731138815120807,1.7425748004791999,null,1.7425748004791999,1.4398256773199356,null,0.6499347776992644,1.4398256773199356,null,0.6499347776992644,1.6807192937204458,null,0.6499347776992644,0.9832891635096948,null,1.4398256773199356,1.6807192937204458,null,1.4398256773199356,0.9832891635096948,null,1.6807192937204458,0.9832891635096948,null,-2.089277443265502,-2.5212540129799,null,-2.089277443265502,-1.9642754989403721,null,-2.089277443265502,-1.5265691673069939,null,-2.5212540129799,-1.9642754989403721,null,-2.5212540129799,-1.5265691673069939,null,-1.9642754989403721,-1.5265691673069939,null],\"y\":[-2.6635174553172885,-1.9695076185460414,null,-2.6635174553172885,-2.4720914647665153,null,-2.6635174553172885,-1.6152021436506234,null,-1.9695076185460414,-2.4720914647665153,null,-1.9695076185460414,-1.6152021436506234,null,-2.4720914647665153,-1.6152021436506234,null,-1.6152021436506234,-0.4747799757212752,null,-0.4747799757212752,0.7636159101095152,null,1.3064942316807129,0.7636159101095152,null,1.3064942316807129,1.586666525852198,null,1.3064942316807129,1.9420988780491804,null,0.7636159101095152,1.586666525852198,null,0.7636159101095152,1.9420988780491804,null,1.586666525852198,1.9420988780491804,null,-0.6667885635645583,-0.012088853214585395,null,-0.6667885635645583,0.5439418187591291,null,-0.6667885635645583,-0.11216875067899573,null,-0.012088853214585395,0.5439418187591291,null,-0.012088853214585395,-0.11216875067899573,null,0.5439418187591291,-0.11216875067899573,null],\"type\":\"scatter\",\"uid\":\"73a12306-114d-41ce-acda-06e5da1256ab\"},{\"hoverinfo\":\"text\",\"marker\":{\"color\":[0.36274509803921573,0.3992562542258283,0.4313725490196078,0.5285947712418301,0.6489262371615312,0.30800653594771243,0.5118464052287582,0.30800653594771243,0.37324929971988796,0.18250377073906485,0.059714795008912656,0.5402212166918048,0.07843137254901962],\"colorbar\":{\"thickness\":20,\"tickfont\":{\"size\":10},\"ticklen\":4,\"x\":1.01},\"colorscale\":[[0.0,\"rgb(68, 1, 84)\"],[0.1,\"rgb(72, 35, 116)\"],[0.2,\"rgb(64, 67, 135)\"],[0.3,\"rgb(52, 94, 141)\"],[0.4,\"rgb(41, 120, 142)\"],[0.5,\"rgb(32, 144, 140)\"],[0.6,\"rgb(34, 167, 132)\"],[0.7,\"rgb(68, 190, 112)\"],[0.8,\"rgb(121, 209, 81)\"],[0.9,\"rgb(189, 222, 38)\"],[1.0,\"rgb(253, 231, 36)\"]],\"line\":{\"color\":\"rgb(200,200,200)\",\"width\":1.0},\"opacity\":1.0,\"showscale\":true,\"size\":[12,12,6,12,12,9,12,9,9,9,9,12,9]},\"mode\":\"markers\",\"text\":[\"cube0_cluster0\",\"cube1_cluster0\",\"cube2_cluster0\",\"cube3_cluster0\",\"cube4_cluster0\",\"cube5_cluster0\",\"cube6_cluster0\",\"cube7_cluster0\",\"cube8_cluster0\",\"cube9_cluster0\",\"cube10_cluster0\",\"cube11_cluster0\",\"cube12_cluster0\"],\"x\":[0.4670681985988484,0.28463950680207045,1.2263212176619445,1.1731138815120807,1.7425748004791999,0.6499347776992644,1.4398256773199356,1.6807192937204458,0.9832891635096948,-2.089277443265502,-2.5212540129799,-1.9642754989403721,-1.5265691673069939],\"y\":[-2.6635174553172885,-1.9695076185460414,-2.4720914647665153,-1.6152021436506234,-0.4747799757212752,1.3064942316807129,0.7636159101095152,1.586666525852198,1.9420988780491804,-0.6667885635645583,-0.012088853214585395,0.5439418187591291,-0.11216875067899573],\"type\":\"scatter\",\"uid\":\"2c94a7aa-43d7-452e-b271-2ea5d796b5df\"}],                        {\"annotations\":[{\"align\":\"left\",\"font\":{\"size\":12},\"showarrow\":false,\"text\":\"<b>N_cubes:</b> 7 <b>Perc_overlap:</b> 0.5<br><b>Nodes:</b> 13 <b>Edges:</b> 20 <b>Total samples:</b> 242 <b>Unique_samples:</b> 103\",\"x\":0,\"xanchor\":\"left\",\"xref\":\"paper\",\"y\":-0.01,\"yanchor\":\"top\",\"yref\":\"paper\"}],\"autosize\":false,\"font\":{\"size\":12},\"height\":500,\"hovermode\":\"closest\",\"margin\":{\"b\":35,\"l\":10,\"r\":60,\"t\":100},\"plot_bgcolor\":\"rgba(240, 240, 240, 0.95)\",\"showlegend\":false,\"title\":{\"text\":\"Topological Network Representing Ebola Genome Data\"},\"width\":600,\"xaxis\":{\"visible\":false},\"yaxis\":{\"visible\":false},\"template\":{\"data\":{\"barpolar\":[{\"marker\":{\"line\":{\"color\":\"#E5ECF6\",\"width\":0.5},\"pattern\":{\"fillmode\":\"overlay\",\"size\":10,\"solidity\":0.2}},\"type\":\"barpolar\"}],\"bar\":[{\"error_x\":{\"color\":\"#2a3f5f\"},\"error_y\":{\"color\":\"#2a3f5f\"},\"marker\":{\"line\":{\"color\":\"#E5ECF6\",\"width\":0.5},\"pattern\":{\"fillmode\":\"overlay\",\"size\":10,\"solidity\":0.2}},\"type\":\"bar\"}],\"carpet\":[{\"aaxis\":{\"endlinecolor\":\"#2a3f5f\",\"gridcolor\":\"white\",\"linecolor\":\"white\",\"minorgridcolor\":\"white\",\"startlinecolor\":\"#2a3f5f\"},\"baxis\":{\"endlinecolor\":\"#2a3f5f\",\"gridcolor\":\"white\",\"linecolor\":\"white\",\"minorgridcolor\":\"white\",\"startlinecolor\":\"#2a3f5f\"},\"type\":\"carpet\"}],\"choropleth\":[{\"colorbar\":{\"outlinewidth\":0,\"ticks\":\"\"},\"type\":\"choropleth\"}],\"contourcarpet\":[{\"colorbar\":{\"outlinewidth\":0,\"ticks\":\"\"},\"type\":\"contourcarpet\"}],\"contour\":[{\"colorbar\":{\"outlinewidth\":0,\"ticks\":\"\"},\"colorscale\":[[0.0,\"#0d0887\"],[0.1111111111111111,\"#46039f\"],[0.2222222222222222,\"#7201a8\"],[0.3333333333333333,\"#9c179e\"],[0.4444444444444444,\"#bd3786\"],[0.5555555555555556,\"#d8576b\"],[0.6666666666666666,\"#ed7953\"],[0.7777777777777778,\"#fb9f3a\"],[0.8888888888888888,\"#fdca26\"],[1.0,\"#f0f921\"]],\"type\":\"contour\"}],\"heatmapgl\":[{\"colorbar\":{\"outlinewidth\":0,\"ticks\":\"\"},\"colorscale\":[[0.0,\"#0d0887\"],[0.1111111111111111,\"#46039f\"],[0.2222222222222222,\"#7201a8\"],[0.3333333333333333,\"#9c179e\"],[0.4444444444444444,\"#bd3786\"],[0.5555555555555556,\"#d8576b\"],[0.6666666666666666,\"#ed7953\"],[0.7777777777777778,\"#fb9f3a\"],[0.8888888888888888,\"#fdca26\"],[1.0,\"#f0f921\"]],\"type\":\"heatmapgl\"}],\"heatmap\":[{\"colorbar\":{\"outlinewidth\":0,\"ticks\":\"\"},\"colorscale\":[[0.0,\"#0d0887\"],[0.1111111111111111,\"#46039f\"],[0.2222222222222222,\"#7201a8\"],[0.3333333333333333,\"#9c179e\"],[0.4444444444444444,\"#bd3786\"],[0.5555555555555556,\"#d8576b\"],[0.6666666666666666,\"#ed7953\"],[0.7777777777777778,\"#fb9f3a\"],[0.8888888888888888,\"#fdca26\"],[1.0,\"#f0f921\"]],\"type\":\"heatmap\"}],\"histogram2dcontour\":[{\"colorbar\":{\"outlinewidth\":0,\"ticks\":\"\"},\"colorscale\":[[0.0,\"#0d0887\"],[0.1111111111111111,\"#46039f\"],[0.2222222222222222,\"#7201a8\"],[0.3333333333333333,\"#9c179e\"],[0.4444444444444444,\"#bd3786\"],[0.5555555555555556,\"#d8576b\"],[0.6666666666666666,\"#ed7953\"],[0.7777777777777778,\"#fb9f3a\"],[0.8888888888888888,\"#fdca26\"],[1.0,\"#f0f921\"]],\"type\":\"histogram2dcontour\"}],\"histogram2d\":[{\"colorbar\":{\"outlinewidth\":0,\"ticks\":\"\"},\"colorscale\":[[0.0,\"#0d0887\"],[0.1111111111111111,\"#46039f\"],[0.2222222222222222,\"#7201a8\"],[0.3333333333333333,\"#9c179e\"],[0.4444444444444444,\"#bd3786\"],[0.5555555555555556,\"#d8576b\"],[0.6666666666666666,\"#ed7953\"],[0.7777777777777778,\"#fb9f3a\"],[0.8888888888888888,\"#fdca26\"],[1.0,\"#f0f921\"]],\"type\":\"histogram2d\"}],\"histogram\":[{\"marker\":{\"pattern\":{\"fillmode\":\"overlay\",\"size\":10,\"solidity\":0.2}},\"type\":\"histogram\"}],\"mesh3d\":[{\"colorbar\":{\"outlinewidth\":0,\"ticks\":\"\"},\"type\":\"mesh3d\"}],\"parcoords\":[{\"line\":{\"colorbar\":{\"outlinewidth\":0,\"ticks\":\"\"}},\"type\":\"parcoords\"}],\"pie\":[{\"automargin\":true,\"type\":\"pie\"}],\"scatter3d\":[{\"line\":{\"colorbar\":{\"outlinewidth\":0,\"ticks\":\"\"}},\"marker\":{\"colorbar\":{\"outlinewidth\":0,\"ticks\":\"\"}},\"type\":\"scatter3d\"}],\"scattercarpet\":[{\"marker\":{\"colorbar\":{\"outlinewidth\":0,\"ticks\":\"\"}},\"type\":\"scattercarpet\"}],\"scattergeo\":[{\"marker\":{\"colorbar\":{\"outlinewidth\":0,\"ticks\":\"\"}},\"type\":\"scattergeo\"}],\"scattergl\":[{\"marker\":{\"colorbar\":{\"outlinewidth\":0,\"ticks\":\"\"}},\"type\":\"scattergl\"}],\"scattermapbox\":[{\"marker\":{\"colorbar\":{\"outlinewidth\":0,\"ticks\":\"\"}},\"type\":\"scattermapbox\"}],\"scatterpolargl\":[{\"marker\":{\"colorbar\":{\"outlinewidth\":0,\"ticks\":\"\"}},\"type\":\"scatterpolargl\"}],\"scatterpolar\":[{\"marker\":{\"colorbar\":{\"outlinewidth\":0,\"ticks\":\"\"}},\"type\":\"scatterpolar\"}],\"scatter\":[{\"fillpattern\":{\"fillmode\":\"overlay\",\"size\":10,\"solidity\":0.2},\"type\":\"scatter\"}],\"scatterternary\":[{\"marker\":{\"colorbar\":{\"outlinewidth\":0,\"ticks\":\"\"}},\"type\":\"scatterternary\"}],\"surface\":[{\"colorbar\":{\"outlinewidth\":0,\"ticks\":\"\"},\"colorscale\":[[0.0,\"#0d0887\"],[0.1111111111111111,\"#46039f\"],[0.2222222222222222,\"#7201a8\"],[0.3333333333333333,\"#9c179e\"],[0.4444444444444444,\"#bd3786\"],[0.5555555555555556,\"#d8576b\"],[0.6666666666666666,\"#ed7953\"],[0.7777777777777778,\"#fb9f3a\"],[0.8888888888888888,\"#fdca26\"],[1.0,\"#f0f921\"]],\"type\":\"surface\"}],\"table\":[{\"cells\":{\"fill\":{\"color\":\"#EBF0F8\"},\"line\":{\"color\":\"white\"}},\"header\":{\"fill\":{\"color\":\"#C8D4E3\"},\"line\":{\"color\":\"white\"}},\"type\":\"table\"}]},\"layout\":{\"annotationdefaults\":{\"arrowcolor\":\"#2a3f5f\",\"arrowhead\":0,\"arrowwidth\":1},\"autotypenumbers\":\"strict\",\"coloraxis\":{\"colorbar\":{\"outlinewidth\":0,\"ticks\":\"\"}},\"colorscale\":{\"diverging\":[[0,\"#8e0152\"],[0.1,\"#c51b7d\"],[0.2,\"#de77ae\"],[0.3,\"#f1b6da\"],[0.4,\"#fde0ef\"],[0.5,\"#f7f7f7\"],[0.6,\"#e6f5d0\"],[0.7,\"#b8e186\"],[0.8,\"#7fbc41\"],[0.9,\"#4d9221\"],[1,\"#276419\"]],\"sequential\":[[0.0,\"#0d0887\"],[0.1111111111111111,\"#46039f\"],[0.2222222222222222,\"#7201a8\"],[0.3333333333333333,\"#9c179e\"],[0.4444444444444444,\"#bd3786\"],[0.5555555555555556,\"#d8576b\"],[0.6666666666666666,\"#ed7953\"],[0.7777777777777778,\"#fb9f3a\"],[0.8888888888888888,\"#fdca26\"],[1.0,\"#f0f921\"]],\"sequentialminus\":[[0.0,\"#0d0887\"],[0.1111111111111111,\"#46039f\"],[0.2222222222222222,\"#7201a8\"],[0.3333333333333333,\"#9c179e\"],[0.4444444444444444,\"#bd3786\"],[0.5555555555555556,\"#d8576b\"],[0.6666666666666666,\"#ed7953\"],[0.7777777777777778,\"#fb9f3a\"],[0.8888888888888888,\"#fdca26\"],[1.0,\"#f0f921\"]]},\"colorway\":[\"#636efa\",\"#EF553B\",\"#00cc96\",\"#ab63fa\",\"#FFA15A\",\"#19d3f3\",\"#FF6692\",\"#B6E880\",\"#FF97FF\",\"#FECB52\"],\"font\":{\"color\":\"#2a3f5f\"},\"geo\":{\"bgcolor\":\"white\",\"lakecolor\":\"white\",\"landcolor\":\"#E5ECF6\",\"showlakes\":true,\"showland\":true,\"subunitcolor\":\"white\"},\"hoverlabel\":{\"align\":\"left\"},\"hovermode\":\"closest\",\"mapbox\":{\"style\":\"light\"},\"paper_bgcolor\":\"white\",\"plot_bgcolor\":\"#E5ECF6\",\"polar\":{\"angularaxis\":{\"gridcolor\":\"white\",\"linecolor\":\"white\",\"ticks\":\"\"},\"bgcolor\":\"#E5ECF6\",\"radialaxis\":{\"gridcolor\":\"white\",\"linecolor\":\"white\",\"ticks\":\"\"}},\"scene\":{\"xaxis\":{\"backgroundcolor\":\"#E5ECF6\",\"gridcolor\":\"white\",\"gridwidth\":2,\"linecolor\":\"white\",\"showbackground\":true,\"ticks\":\"\",\"zerolinecolor\":\"white\"},\"yaxis\":{\"backgroundcolor\":\"#E5ECF6\",\"gridcolor\":\"white\",\"gridwidth\":2,\"linecolor\":\"white\",\"showbackground\":true,\"ticks\":\"\",\"zerolinecolor\":\"white\"},\"zaxis\":{\"backgroundcolor\":\"#E5ECF6\",\"gridcolor\":\"white\",\"gridwidth\":2,\"linecolor\":\"white\",\"showbackground\":true,\"ticks\":\"\",\"zerolinecolor\":\"white\"}},\"shapedefaults\":{\"line\":{\"color\":\"#2a3f5f\"}},\"ternary\":{\"aaxis\":{\"gridcolor\":\"white\",\"linecolor\":\"white\",\"ticks\":\"\"},\"baxis\":{\"gridcolor\":\"white\",\"linecolor\":\"white\",\"ticks\":\"\"},\"bgcolor\":\"#E5ECF6\",\"caxis\":{\"gridcolor\":\"white\",\"linecolor\":\"white\",\"ticks\":\"\"}},\"title\":{\"x\":0.05},\"xaxis\":{\"automargin\":true,\"gridcolor\":\"white\",\"linecolor\":\"white\",\"ticks\":\"\",\"title\":{\"standoff\":15},\"zerolinecolor\":\"white\",\"zerolinewidth\":2},\"yaxis\":{\"automargin\":true,\"gridcolor\":\"white\",\"linecolor\":\"white\",\"ticks\":\"\",\"title\":{\"standoff\":15},\"zerolinecolor\":\"white\",\"zerolinewidth\":2}}}},                        {\"responsive\": true}                    )                };                            </script>        </div>"
      ],
      "text/plain": [
       "FigureWidget({\n",
       "    'data': [{'hoverinfo': 'none',\n",
       "              'line': {'color': 'rgb(180,180,180)', 'width': 1.5},\n",
       "              'mode': 'lines',\n",
       "              'type': 'scatter',\n",
       "              'uid': '73a12306-114d-41ce-acda-06e5da1256ab',\n",
       "              'x': [0.4670681985988484, 0.28463950680207045, None,\n",
       "                    0.4670681985988484, 1.2263212176619445, None,\n",
       "                    0.4670681985988484, 1.1731138815120807, None,\n",
       "                    0.28463950680207045, 1.2263212176619445, None,\n",
       "                    0.28463950680207045, 1.1731138815120807, None,\n",
       "                    1.2263212176619445, 1.1731138815120807, None,\n",
       "                    1.1731138815120807, 1.7425748004791999, None,\n",
       "                    1.7425748004791999, 1.4398256773199356, None,\n",
       "                    0.6499347776992644, 1.4398256773199356, None,\n",
       "                    0.6499347776992644, 1.6807192937204458, None,\n",
       "                    0.6499347776992644, 0.9832891635096948, None,\n",
       "                    1.4398256773199356, 1.6807192937204458, None,\n",
       "                    1.4398256773199356, 0.9832891635096948, None,\n",
       "                    1.6807192937204458, 0.9832891635096948, None,\n",
       "                    -2.089277443265502, -2.5212540129799, None, -2.089277443265502,\n",
       "                    -1.9642754989403721, None, -2.089277443265502,\n",
       "                    -1.5265691673069939, None, -2.5212540129799,\n",
       "                    -1.9642754989403721, None, -2.5212540129799,\n",
       "                    -1.5265691673069939, None, -1.9642754989403721,\n",
       "                    -1.5265691673069939, None],\n",
       "              'y': [-2.6635174553172885, -1.9695076185460414, None,\n",
       "                    -2.6635174553172885, -2.4720914647665153, None,\n",
       "                    -2.6635174553172885, -1.6152021436506234, None,\n",
       "                    -1.9695076185460414, -2.4720914647665153, None,\n",
       "                    -1.9695076185460414, -1.6152021436506234, None,\n",
       "                    -2.4720914647665153, -1.6152021436506234, None,\n",
       "                    -1.6152021436506234, -0.4747799757212752, None,\n",
       "                    -0.4747799757212752, 0.7636159101095152, None,\n",
       "                    1.3064942316807129, 0.7636159101095152, None,\n",
       "                    1.3064942316807129, 1.586666525852198, None,\n",
       "                    1.3064942316807129, 1.9420988780491804, None,\n",
       "                    0.7636159101095152, 1.586666525852198, None,\n",
       "                    0.7636159101095152, 1.9420988780491804, None,\n",
       "                    1.586666525852198, 1.9420988780491804, None,\n",
       "                    -0.6667885635645583, -0.012088853214585395, None,\n",
       "                    -0.6667885635645583, 0.5439418187591291, None,\n",
       "                    -0.6667885635645583, -0.11216875067899573, None,\n",
       "                    -0.012088853214585395, 0.5439418187591291, None,\n",
       "                    -0.012088853214585395, -0.11216875067899573, None,\n",
       "                    0.5439418187591291, -0.11216875067899573, None]},\n",
       "             {'hoverinfo': 'text',\n",
       "              'marker': {'color': [0.36274509803921573, 0.3992562542258283,\n",
       "                                   0.4313725490196078, 0.5285947712418301,\n",
       "                                   0.6489262371615312, 0.30800653594771243,\n",
       "                                   0.5118464052287582, 0.30800653594771243,\n",
       "                                   0.37324929971988796, 0.18250377073906485,\n",
       "                                   0.059714795008912656, 0.5402212166918048,\n",
       "                                   0.07843137254901962],\n",
       "                         'colorbar': {'thickness': 20, 'tickfont': {'size': 10}, 'ticklen': 4, 'x': 1.01},\n",
       "                         'colorscale': [[0.0, 'rgb(68, 1, 84)'], [0.1, 'rgb(72,\n",
       "                                        35, 116)'], [0.2, 'rgb(64, 67, 135)'],\n",
       "                                        [0.3, 'rgb(52, 94, 141)'], [0.4, 'rgb(41,\n",
       "                                        120, 142)'], [0.5, 'rgb(32, 144, 140)'],\n",
       "                                        [0.6, 'rgb(34, 167, 132)'], [0.7, 'rgb(68,\n",
       "                                        190, 112)'], [0.8, 'rgb(121, 209, 81)'],\n",
       "                                        [0.9, 'rgb(189, 222, 38)'], [1.0, 'rgb(253,\n",
       "                                        231, 36)']],\n",
       "                         'line': {'color': 'rgb(200,200,200)', 'width': 1.0},\n",
       "                         'opacity': 1.0,\n",
       "                         'showscale': True,\n",
       "                         'size': [12, 12, 6, 12, 12, 9, 12, 9, 9, 9, 9, 12, 9]},\n",
       "              'mode': 'markers',\n",
       "              'text': [cube0_cluster0, cube1_cluster0, cube2_cluster0,\n",
       "                       cube3_cluster0, cube4_cluster0, cube5_cluster0,\n",
       "                       cube6_cluster0, cube7_cluster0, cube8_cluster0,\n",
       "                       cube9_cluster0, cube10_cluster0, cube11_cluster0,\n",
       "                       cube12_cluster0],\n",
       "              'type': 'scatter',\n",
       "              'uid': '2c94a7aa-43d7-452e-b271-2ea5d796b5df',\n",
       "              'x': [0.4670681985988484, 0.28463950680207045, 1.2263212176619445,\n",
       "                    1.1731138815120807, 1.7425748004791999, 0.6499347776992644,\n",
       "                    1.4398256773199356, 1.6807192937204458, 0.9832891635096948,\n",
       "                    -2.089277443265502, -2.5212540129799, -1.9642754989403721,\n",
       "                    -1.5265691673069939],\n",
       "              'y': [-2.6635174553172885, -1.9695076185460414, -2.4720914647665153,\n",
       "                    -1.6152021436506234, -0.4747799757212752, 1.3064942316807129,\n",
       "                    0.7636159101095152, 1.586666525852198, 1.9420988780491804,\n",
       "                    -0.6667885635645583, -0.012088853214585395, 0.5439418187591291,\n",
       "                    -0.11216875067899573]}],\n",
       "    'layout': {'annotations': [{'align': 'left',\n",
       "                                'font': {'size': 12},\n",
       "                                'showarrow': False,\n",
       "                                'text': ('<b>N_cubes:</b> 7 <b>Perc_over' ... '242 <b>Unique_samples:</b> 103'),\n",
       "                                'x': 0,\n",
       "                                'xanchor': 'left',\n",
       "                                'xref': 'paper',\n",
       "                                'y': -0.01,\n",
       "                                'yanchor': 'top',\n",
       "                                'yref': 'paper'}],\n",
       "               'autosize': False,\n",
       "               'font': {'size': 12},\n",
       "               'height': 500,\n",
       "               'hovermode': 'closest',\n",
       "               'margin': {'b': 35, 'l': 10, 'r': 60, 't': 100},\n",
       "               'plot_bgcolor': 'rgba(240, 240, 240, 0.95)',\n",
       "               'showlegend': False,\n",
       "               'template': '...',\n",
       "               'title': {'text': 'Topological Network Representing Ebola Genome Data'},\n",
       "               'width': 600,\n",
       "               'xaxis': {'visible': False},\n",
       "               'yaxis': {'visible': False}}\n",
       "})"
      ]
     },
     "execution_count": 55,
     "metadata": {},
     "output_type": "execute_result"
    }
   ],
   "source": [
    "plotlyviz(simplicial_complex, title=\"Topological Network Representing Ebola Genome Data\", graph_layout='fr')"
   ]
  },
  {
   "cell_type": "code",
   "execution_count": null,
   "metadata": {},
   "outputs": [
    {
     "name": "stderr",
     "output_type": "stream",
     "text": [
      "OMP: Info #273: omp_set_nested routine deprecated, please use omp_set_max_active_levels instead.\n"
     ]
    },
    {
     "ename": "",
     "evalue": "",
     "output_type": "error",
     "traceback": [
      "\u001b[1;31mCanceled future for execute_request message before replies were done"
     ]
    },
    {
     "ename": "",
     "evalue": "",
     "output_type": "error",
     "traceback": [
      "\u001b[1;31mThe Kernel crashed while executing code in the the current cell or a previous cell. Please review the code in the cell(s) to identify a possible cause of the failure. Click <a href='https://aka.ms/vscodeJupyterKernelCrash'>here</a> for more info. View Jupyter <a href='command:jupyter.viewOutput'>log</a> for further details."
     ]
    }
   ],
   "source": [
    "mapper = km.KeplerMapper()\n",
    "projected_X = mapper.fit_transform(X, projection=[umap.UMAP(n_neighbors=10)])\n",
    "simplicial_complex = mapper.map(projected_X, X)\n",
    "_ = mapper.visualize(simplicial_complex, path_html='viral_genome_graph_umap.html', custom_tooltips=ebola_genome_data_np)"
   ]
  },
  {
   "cell_type": "code",
   "execution_count": null,
   "metadata": {},
   "outputs": [
    {
     "name": "stderr",
     "output_type": "stream",
     "text": [
      "/var/folders/vp/7cb3bs4171vd6ywq0xgznpbh0000gn/T/ipykernel_58952/1763498249.py:6: UserWarning:\n",
      "\n",
      "Matplotlib is currently using module://matplotlib_inline.backend_inline, which is a non-GUI backend, so cannot show the figure.\n",
      "\n"
     ]
    },
    {
     "data": {
      "image/png": "[encoded data removed]",
      "text/plain": [
       "<Figure size 640x480 with 1 Axes>"
      ]
     },
     "metadata": {},
     "output_type": "display_data"
    }
   ],
   "source": [
    "fig = plt.figure()\n",
    "ax = fig.add_subplot()\n",
    "scatter = ax.scatter(projected_X[:,0], projected_X[:,1], c=ebola_genome_lab_data.to_numpy())\n",
    "ax.legend(handles=scatter.legend_elements()[0], labels=virus_display)\n",
    "ax.set_title(\"UMAP Lens\")\n",
    "fig.show()"
   ]
  },
  {
   "cell_type": "code",
   "execution_count": null,
   "metadata": {},
   "outputs": [],
   "source": [
    "mapper = km.KeplerMapper()\n",
    "projected_X = mapper.fit_transform(X, projection=[umap.UMAP(n_neighbors=10)])\n",
    "simplicial_complex = mapper.map(projected_X, X, clusterer=KMeans(n_clusters=2))\n",
    "_ = mapper.visualize(simplicial_complex, path_html='viral_genome_graph_umap_kmeans.html', custom_tooltips=ebola_genome_data_np)"
   ]
  },
  {
   "cell_type": "code",
   "execution_count": null,
   "metadata": {},
   "outputs": [],
   "source": [
    "mapper = km.KeplerMapper()\n",
    "projected_X = mapper.fit_transform(X, projection=[Isomap()])\n",
    "simplicial_complex = mapper.map(projected_X, X)\n",
    "_ = mapper.visualize(simplicial_complex, path_html='viral_genome_graph_isomap.html')"
   ]
  },
  {
   "cell_type": "code",
   "execution_count": null,
   "metadata": {},
   "outputs": [
    {
     "name": "stderr",
     "output_type": "stream",
     "text": [
      "/var/folders/vp/7cb3bs4171vd6ywq0xgznpbh0000gn/T/ipykernel_58952/1563739533.py:6: UserWarning:\n",
      "\n",
      "Matplotlib is currently using module://matplotlib_inline.backend_inline, which is a non-GUI backend, so cannot show the figure.\n",
      "\n"
     ]
    },
    {
     "data": {
      "image/png": "[encoded data removed]",
      "text/plain": [
       "<Figure size 640x480 with 1 Axes>"
      ]
     },
     "metadata": {},
     "output_type": "display_data"
    }
   ],
   "source": [
    "fig = plt.figure()\n",
    "ax = fig.add_subplot()\n",
    "scatter = ax.scatter(projected_X[:,0], projected_X[:,1], c=ebola_genome_lab_data.to_numpy())\n",
    "ax.legend(handles=scatter.legend_elements()[0], labels=virus_display)\n",
    "ax.set_title(\"Isomap Lense\")\n",
    "fig.show()"
   ]
  },
  {
   "cell_type": "code",
   "execution_count": null,
   "metadata": {},
   "outputs": [
    {
     "ename": "AttributeError",
     "evalue": "type object 'DOMWidget' has no attribute '_ipython_display_'",
     "output_type": "error",
     "traceback": [
      "\u001b[0;31m---------------------------------------------------------------------------\u001b[0m",
      "\u001b[0;31mAttributeError\u001b[0m                            Traceback (most recent call last)",
      "File \u001b[0;32m~/Library/Python/3.9/lib/python/site-packages/IPython/core/formatters.py:920\u001b[0m, in \u001b[0;36mIPythonDisplayFormatter.__call__\u001b[0;34m(self, obj)\u001b[0m\n\u001b[1;32m    918\u001b[0m method \u001b[39m=\u001b[39m get_real_method(obj, \u001b[39mself\u001b[39m\u001b[39m.\u001b[39mprint_method)\n\u001b[1;32m    919\u001b[0m \u001b[39mif\u001b[39;00m method \u001b[39mis\u001b[39;00m \u001b[39mnot\u001b[39;00m \u001b[39mNone\u001b[39;00m:\n\u001b[0;32m--> 920\u001b[0m     method()\n\u001b[1;32m    921\u001b[0m     \u001b[39mreturn\u001b[39;00m \u001b[39mTrue\u001b[39;00m\n",
      "File \u001b[0;32m/usr/local/lib/python3.9/site-packages/plotly/basewidget.py:741\u001b[0m, in \u001b[0;36mBaseFigureWidget._ipython_display_\u001b[0;34m(self)\u001b[0m\n\u001b[1;32m    737\u001b[0m \u001b[39m\"\"\"\u001b[39;00m\n\u001b[1;32m    738\u001b[0m \u001b[39mHandle rich display of figures in ipython contexts\u001b[39;00m\n\u001b[1;32m    739\u001b[0m \u001b[39m\"\"\"\u001b[39;00m\n\u001b[1;32m    740\u001b[0m \u001b[39m# Override BaseFigure's display to make sure we display the widget version\u001b[39;00m\n\u001b[0;32m--> 741\u001b[0m widgets\u001b[39m.\u001b[39;49mDOMWidget\u001b[39m.\u001b[39;49m_ipython_display_(\u001b[39mself\u001b[39m)\n",
      "\u001b[0;31mAttributeError\u001b[0m: type object 'DOMWidget' has no attribute '_ipython_display_'"
     ]
    },
    {
     "data": {
      "application/vnd.plotly.v1+json": {
       "config": {
        "plotlyServerURL": "https://plot.ly"
       },
       "data": [
        {
         "hoverinfo": "none",
         "line": {
          "color": "rgb(180,180,180)",
          "width": 1.5
         },
         "mode": "lines",
         "type": "scatter",
         "uid": "10f6fda9-98f8-4b9d-81e1-4e35c0b436b8",
         "x": [],
         "y": []
        },
        {
         "hoverinfo": "text",
         "marker": {
          "color": [
           0.0196078431372549,
           0.11274509803921569,
           0.4754901960784314,
           0.8294117647058824,
           0.916955017301038,
           0.0588235294117647
          ],
          "colorbar": {
           "thickness": 20,
           "tickfont": {
            "size": 10
           },
           "ticklen": 4,
           "x": 1.01
          },
          "colorscale": [
           [
            0,
            "rgb(68, 1, 84)"
           ],
           [
            0.1,
            "rgb(72, 35, 116)"
           ],
           [
            0.2,
            "rgb(64, 67, 135)"
           ],
           [
            0.3,
            "rgb(52, 94, 141)"
           ],
           [
            0.4,
            "rgb(41, 120, 142)"
           ],
           [
            0.5,
            "rgb(32, 144, 140)"
           ],
           [
            0.6,
            "rgb(34, 167, 132)"
           ],
           [
            0.7,
            "rgb(68, 190, 112)"
           ],
           [
            0.8,
            "rgb(121, 209, 81)"
           ],
           [
            0.9,
            "rgb(189, 222, 38)"
           ],
           [
            1,
            "rgb(253, 231, 36)"
           ]
          ],
          "line": {
           "color": "rgb(200,200,200)",
           "width": 1
          },
          "opacity": 1,
          "showscale": true,
          "size": [
           6,
           6,
           15,
           6,
           9,
           6
          ]
         },
         "mode": "markers",
         "text": [
          "cube0_cluster0",
          "cube3_cluster0",
          "cube3_cluster1",
          "cube3_cluster2",
          "cube3_cluster3",
          "cube4_cluster0"
         ],
         "type": "scatter",
         "uid": "0e296c8c-5550-4a03-bb76-132c6d42feb5",
         "x": [
          -0.04822127496685586,
          1.2672156352120403,
          -1.4135816175586766,
          -1.3885963004928605,
          -0.09814470678908484,
          1.2422303174217777
         ],
         "y": [
          -1.821705438700404,
          -1.034743301758731,
          0.45553881788516976,
          -1.0780129854797271,
          1.2425009557229947,
          0.49880850086411527
         ]
        }
       ],
       "layout": {
        "annotations": [
         {
          "align": "left",
          "font": {
           "size": 12
          },
          "showarrow": false,
          "text": "<b>N_cubes:</b> 10 <b>Perc_overlap:</b> 0.1<br><b>Nodes:</b> 6 <b>Edges:</b> 0 <b>Total samples:</b> 100 <b>Unique_samples:</b> 100",
          "x": 0,
          "xanchor": "left",
          "xref": "paper",
          "y": -0.01,
          "yanchor": "top",
          "yref": "paper"
         }
        ],
        "autosize": false,
        "font": {
         "size": 12
        },
        "height": 500,
        "hovermode": "closest",
        "margin": {
         "b": 35,
         "l": 10,
         "r": 60,
         "t": 100
        },
        "plot_bgcolor": "rgba(240, 240, 240, 0.95)",
        "showlegend": false,
        "template": {
         "data": {
          "bar": [
           {
            "error_x": {
             "color": "#2a3f5f"
            },
            "error_y": {
             "color": "#2a3f5f"
            },
            "marker": {
             "line": {
              "color": "#E5ECF6",
              "width": 0.5
             },
             "pattern": {
              "fillmode": "overlay",
              "size": 10,
              "solidity": 0.2
             }
            },
            "type": "bar"
           }
          ],
          "barpolar": [
           {
            "marker": {
             "line": {
              "color": "#E5ECF6",
              "width": 0.5
             },
             "pattern": {
              "fillmode": "overlay",
              "size": 10,
              "solidity": 0.2
             }
            },
            "type": "barpolar"
           }
          ],
          "carpet": [
           {
            "aaxis": {
             "endlinecolor": "#2a3f5f",
             "gridcolor": "white",
             "linecolor": "white",
             "minorgridcolor": "white",
             "startlinecolor": "#2a3f5f"
            },
            "baxis": {
             "endlinecolor": "#2a3f5f",
             "gridcolor": "white",
             "linecolor": "white",
             "minorgridcolor": "white",
             "startlinecolor": "#2a3f5f"
            },
            "type": "carpet"
           }
          ],
          "choropleth": [
           {
            "colorbar": {
             "outlinewidth": 0,
             "ticks": ""
            },
            "type": "choropleth"
           }
          ],
          "contour": [
           {
            "colorbar": {
             "outlinewidth": 0,
             "ticks": ""
            },
            "colorscale": [
             [
              0,
              "#0d0887"
             ],
             [
              0.1111111111111111,
              "#46039f"
             ],
             [
              0.2222222222222222,
              "#7201a8"
             ],
             [
              0.3333333333333333,
              "#9c179e"
             ],
             [
              0.4444444444444444,
              "#bd3786"
             ],
             [
              0.5555555555555556,
              "#d8576b"
             ],
             [
              0.6666666666666666,
              "#ed7953"
             ],
             [
              0.7777777777777778,
              "#fb9f3a"
             ],
             [
              0.8888888888888888,
              "#fdca26"
             ],
             [
              1,
              "#f0f921"
             ]
            ],
            "type": "contour"
           }
          ],
          "contourcarpet": [
           {
            "colorbar": {
             "outlinewidth": 0,
             "ticks": ""
            },
            "type": "contourcarpet"
           }
          ],
          "heatmap": [
           {
            "colorbar": {
             "outlinewidth": 0,
             "ticks": ""
            },
            "colorscale": [
             [
              0,
              "#0d0887"
             ],
             [
              0.1111111111111111,
              "#46039f"
             ],
             [
              0.2222222222222222,
              "#7201a8"
             ],
             [
              0.3333333333333333,
              "#9c179e"
             ],
             [
              0.4444444444444444,
              "#bd3786"
             ],
             [
              0.5555555555555556,
              "#d8576b"
             ],
             [
              0.6666666666666666,
              "#ed7953"
             ],
             [
              0.7777777777777778,
              "#fb9f3a"
             ],
             [
              0.8888888888888888,
              "#fdca26"
             ],
             [
              1,
              "#f0f921"
             ]
            ],
            "type": "heatmap"
           }
          ],
          "heatmapgl": [
           {
            "colorbar": {
             "outlinewidth": 0,
             "ticks": ""
            },
            "colorscale": [
             [
              0,
              "#0d0887"
             ],
             [
              0.1111111111111111,
              "#46039f"
             ],
             [
              0.2222222222222222,
              "#7201a8"
             ],
             [
              0.3333333333333333,
              "#9c179e"
             ],
             [
              0.4444444444444444,
              "#bd3786"
             ],
             [
              0.5555555555555556,
              "#d8576b"
             ],
             [
              0.6666666666666666,
              "#ed7953"
             ],
             [
              0.7777777777777778,
              "#fb9f3a"
             ],
             [
              0.8888888888888888,
              "#fdca26"
             ],
             [
              1,
              "#f0f921"
             ]
            ],
            "type": "heatmapgl"
           }
          ],
          "histogram": [
           {
            "marker": {
             "pattern": {
              "fillmode": "overlay",
              "size": 10,
              "solidity": 0.2
             }
            },
            "type": "histogram"
           }
          ],
          "histogram2d": [
           {
            "colorbar": {
             "outlinewidth": 0,
             "ticks": ""
            },
            "colorscale": [
             [
              0,
              "#0d0887"
             ],
             [
              0.1111111111111111,
              "#46039f"
             ],
             [
              0.2222222222222222,
              "#7201a8"
             ],
             [
              0.3333333333333333,
              "#9c179e"
             ],
             [
              0.4444444444444444,
              "#bd3786"
             ],
             [
              0.5555555555555556,
              "#d8576b"
             ],
             [
              0.6666666666666666,
              "#ed7953"
             ],
             [
              0.7777777777777778,
              "#fb9f3a"
             ],
             [
              0.8888888888888888,
              "#fdca26"
             ],
             [
              1,
              "#f0f921"
             ]
            ],
            "type": "histogram2d"
           }
          ],
          "histogram2dcontour": [
           {
            "colorbar": {
             "outlinewidth": 0,
             "ticks": ""
            },
            "colorscale": [
             [
              0,
              "#0d0887"
             ],
             [
              0.1111111111111111,
              "#46039f"
             ],
             [
              0.2222222222222222,
              "#7201a8"
             ],
             [
              0.3333333333333333,
              "#9c179e"
             ],
             [
              0.4444444444444444,
              "#bd3786"
             ],
             [
              0.5555555555555556,
              "#d8576b"
             ],
             [
              0.6666666666666666,
              "#ed7953"
             ],
             [
              0.7777777777777778,
              "#fb9f3a"
             ],
             [
              0.8888888888888888,
              "#fdca26"
             ],
             [
              1,
              "#f0f921"
             ]
            ],
            "type": "histogram2dcontour"
           }
          ],
          "mesh3d": [
           {
            "colorbar": {
             "outlinewidth": 0,
             "ticks": ""
            },
            "type": "mesh3d"
           }
          ],
          "parcoords": [
           {
            "line": {
             "colorbar": {
              "outlinewidth": 0,
              "ticks": ""
             }
            },
            "type": "parcoords"
           }
          ],
          "pie": [
           {
            "automargin": true,
            "type": "pie"
           }
          ],
          "scatter": [
           {
            "fillpattern": {
             "fillmode": "overlay",
             "size": 10,
             "solidity": 0.2
            },
            "type": "scatter"
           }
          ],
          "scatter3d": [
           {
            "line": {
             "colorbar": {
              "outlinewidth": 0,
              "ticks": ""
             }
            },
            "marker": {
             "colorbar": {
              "outlinewidth": 0,
              "ticks": ""
             }
            },
            "type": "scatter3d"
           }
          ],
          "scattercarpet": [
           {
            "marker": {
             "colorbar": {
              "outlinewidth": 0,
              "ticks": ""
             }
            },
            "type": "scattercarpet"
           }
          ],
          "scattergeo": [
           {
            "marker": {
             "colorbar": {
              "outlinewidth": 0,
              "ticks": ""
             }
            },
            "type": "scattergeo"
           }
          ],
          "scattergl": [
           {
            "marker": {
             "colorbar": {
              "outlinewidth": 0,
              "ticks": ""
             }
            },
            "type": "scattergl"
           }
          ],
          "scattermapbox": [
           {
            "marker": {
             "colorbar": {
              "outlinewidth": 0,
              "ticks": ""
             }
            },
            "type": "scattermapbox"
           }
          ],
          "scatterpolar": [
           {
            "marker": {
             "colorbar": {
              "outlinewidth": 0,
              "ticks": ""
             }
            },
            "type": "scatterpolar"
           }
          ],
          "scatterpolargl": [
           {
            "marker": {
             "colorbar": {
              "outlinewidth": 0,
              "ticks": ""
             }
            },
            "type": "scatterpolargl"
           }
          ],
          "scatterternary": [
           {
            "marker": {
             "colorbar": {
              "outlinewidth": 0,
              "ticks": ""
             }
            },
            "type": "scatterternary"
           }
          ],
          "surface": [
           {
            "colorbar": {
             "outlinewidth": 0,
             "ticks": ""
            },
            "colorscale": [
             [
              0,
              "#0d0887"
             ],
             [
              0.1111111111111111,
              "#46039f"
             ],
             [
              0.2222222222222222,
              "#7201a8"
             ],
             [
              0.3333333333333333,
              "#9c179e"
             ],
             [
              0.4444444444444444,
              "#bd3786"
             ],
             [
              0.5555555555555556,
              "#d8576b"
             ],
             [
              0.6666666666666666,
              "#ed7953"
             ],
             [
              0.7777777777777778,
              "#fb9f3a"
             ],
             [
              0.8888888888888888,
              "#fdca26"
             ],
             [
              1,
              "#f0f921"
             ]
            ],
            "type": "surface"
           }
          ],
          "table": [
           {
            "cells": {
             "fill": {
              "color": "#EBF0F8"
             },
             "line": {
              "color": "white"
             }
            },
            "header": {
             "fill": {
              "color": "#C8D4E3"
             },
             "line": {
              "color": "white"
             }
            },
            "type": "table"
           }
          ]
         },
         "layout": {
          "annotationdefaults": {
           "arrowcolor": "#2a3f5f",
           "arrowhead": 0,
           "arrowwidth": 1
          },
          "autotypenumbers": "strict",
          "coloraxis": {
           "colorbar": {
            "outlinewidth": 0,
            "ticks": ""
           }
          },
          "colorscale": {
           "diverging": [
            [
             0,
             "#8e0152"
            ],
            [
             0.1,
             "#c51b7d"
            ],
            [
             0.2,
             "#de77ae"
            ],
            [
             0.3,
             "#f1b6da"
            ],
            [
             0.4,
             "#fde0ef"
            ],
            [
             0.5,
             "#f7f7f7"
            ],
            [
             0.6,
             "#e6f5d0"
            ],
            [
             0.7,
             "#b8e186"
            ],
            [
             0.8,
             "#7fbc41"
            ],
            [
             0.9,
             "#4d9221"
            ],
            [
             1,
             "#276419"
            ]
           ],
           "sequential": [
            [
             0,
             "#0d0887"
            ],
            [
             0.1111111111111111,
             "#46039f"
            ],
            [
             0.2222222222222222,
             "#7201a8"
            ],
            [
             0.3333333333333333,
             "#9c179e"
            ],
            [
             0.4444444444444444,
             "#bd3786"
            ],
            [
             0.5555555555555556,
             "#d8576b"
            ],
            [
             0.6666666666666666,
             "#ed7953"
            ],
            [
             0.7777777777777778,
             "#fb9f3a"
            ],
            [
             0.8888888888888888,
             "#fdca26"
            ],
            [
             1,
             "#f0f921"
            ]
           ],
           "sequentialminus": [
            [
             0,
             "#0d0887"
            ],
            [
             0.1111111111111111,
             "#46039f"
            ],
            [
             0.2222222222222222,
             "#7201a8"
            ],
            [
             0.3333333333333333,
             "#9c179e"
            ],
            [
             0.4444444444444444,
             "#bd3786"
            ],
            [
             0.5555555555555556,
             "#d8576b"
            ],
            [
             0.6666666666666666,
             "#ed7953"
            ],
            [
             0.7777777777777778,
             "#fb9f3a"
            ],
            [
             0.8888888888888888,
             "#fdca26"
            ],
            [
             1,
             "#f0f921"
            ]
           ]
          },
          "colorway": [
           "#636efa",
           "#EF553B",
           "#00cc96",
           "#ab63fa",
           "#FFA15A",
           "#19d3f3",
           "#FF6692",
           "#B6E880",
           "#FF97FF",
           "#FECB52"
          ],
          "font": {
           "color": "#2a3f5f"
          },
          "geo": {
           "bgcolor": "white",
           "lakecolor": "white",
           "landcolor": "#E5ECF6",
           "showlakes": true,
           "showland": true,
           "subunitcolor": "white"
          },
          "hoverlabel": {
           "align": "left"
          },
          "hovermode": "closest",
          "mapbox": {
           "style": "light"
          },
          "paper_bgcolor": "white",
          "plot_bgcolor": "#E5ECF6",
          "polar": {
           "angularaxis": {
            "gridcolor": "white",
            "linecolor": "white",
            "ticks": ""
           },
           "bgcolor": "#E5ECF6",
           "radialaxis": {
            "gridcolor": "white",
            "linecolor": "white",
            "ticks": ""
           }
          },
          "scene": {
           "xaxis": {
            "backgroundcolor": "#E5ECF6",
            "gridcolor": "white",
            "gridwidth": 2,
            "linecolor": "white",
            "showbackground": true,
            "ticks": "",
            "zerolinecolor": "white"
           },
           "yaxis": {
            "backgroundcolor": "#E5ECF6",
            "gridcolor": "white",
            "gridwidth": 2,
            "linecolor": "white",
            "showbackground": true,
            "ticks": "",
            "zerolinecolor": "white"
           },
           "zaxis": {
            "backgroundcolor": "#E5ECF6",
            "gridcolor": "white",
            "gridwidth": 2,
            "linecolor": "white",
            "showbackground": true,
            "ticks": "",
            "zerolinecolor": "white"
           }
          },
          "shapedefaults": {
           "line": {
            "color": "#2a3f5f"
           }
          },
          "ternary": {
           "aaxis": {
            "gridcolor": "white",
            "linecolor": "white",
            "ticks": ""
           },
           "baxis": {
            "gridcolor": "white",
            "linecolor": "white",
            "ticks": ""
           },
           "bgcolor": "#E5ECF6",
           "caxis": {
            "gridcolor": "white",
            "linecolor": "white",
            "ticks": ""
           }
          },
          "title": {
           "x": 0.05
          },
          "xaxis": {
           "automargin": true,
           "gridcolor": "white",
           "linecolor": "white",
           "ticks": "",
           "title": {
            "standoff": 15
           },
           "zerolinecolor": "white",
           "zerolinewidth": 2
          },
          "yaxis": {
           "automargin": true,
           "gridcolor": "white",
           "linecolor": "white",
           "ticks": "",
           "title": {
            "standoff": 15
           },
           "zerolinecolor": "white",
           "zerolinewidth": 2
          }
         }
        },
        "title": {
         "text": "Topological Network Representing Ebola Genome Data"
        },
        "width": 600,
        "xaxis": {
         "visible": false
        },
        "yaxis": {
         "visible": false
        }
       }
      },
      "text/html": [
       "<div>                        <script type=\"text/javascript\">window.PlotlyConfig = {MathJaxConfig: 'local'};</script>\n",
       "        <script src=\"https://cdn.plot.ly/plotly-2.16.1.min.js\"></script>                <div id=\"c3ec77ef-8ffc-4ee4-97c0-37d788e9955d\" class=\"plotly-graph-div\" style=\"height:500px; width:600px;\"></div>            <script type=\"text/javascript\">                                    window.PLOTLYENV=window.PLOTLYENV || {};                                    if (document.getElementById(\"c3ec77ef-8ffc-4ee4-97c0-37d788e9955d\")) {                    Plotly.newPlot(                        \"c3ec77ef-8ffc-4ee4-97c0-37d788e9955d\",                        [{\"hoverinfo\":\"none\",\"line\":{\"color\":\"rgb(180,180,180)\",\"width\":1.5},\"mode\":\"lines\",\"x\":[],\"y\":[],\"type\":\"scatter\",\"uid\":\"10f6fda9-98f8-4b9d-81e1-4e35c0b436b8\"},{\"hoverinfo\":\"text\",\"marker\":{\"color\":[0.0196078431372549,0.11274509803921569,0.4754901960784314,0.8294117647058824,0.916955017301038,0.0588235294117647],\"colorbar\":{\"thickness\":20,\"tickfont\":{\"size\":10},\"ticklen\":4,\"x\":1.01},\"colorscale\":[[0.0,\"rgb(68, 1, 84)\"],[0.1,\"rgb(72, 35, 116)\"],[0.2,\"rgb(64, 67, 135)\"],[0.3,\"rgb(52, 94, 141)\"],[0.4,\"rgb(41, 120, 142)\"],[0.5,\"rgb(32, 144, 140)\"],[0.6,\"rgb(34, 167, 132)\"],[0.7,\"rgb(68, 190, 112)\"],[0.8,\"rgb(121, 209, 81)\"],[0.9,\"rgb(189, 222, 38)\"],[1.0,\"rgb(253, 231, 36)\"]],\"line\":{\"color\":\"rgb(200,200,200)\",\"width\":1.0},\"opacity\":1.0,\"showscale\":true,\"size\":[6,6,15,6,9,6]},\"mode\":\"markers\",\"text\":[\"cube0_cluster0\",\"cube3_cluster0\",\"cube3_cluster1\",\"cube3_cluster2\",\"cube3_cluster3\",\"cube4_cluster0\"],\"x\":[-0.04822127496685586,1.2672156352120403,-1.4135816175586766,-1.3885963004928605,-0.09814470678908484,1.2422303174217777],\"y\":[-1.821705438700404,-1.034743301758731,0.45553881788516976,-1.0780129854797271,1.2425009557229947,0.49880850086411527],\"type\":\"scatter\",\"uid\":\"0e296c8c-5550-4a03-bb76-132c6d42feb5\"}],                        {\"annotations\":[{\"align\":\"left\",\"font\":{\"size\":12},\"showarrow\":false,\"text\":\"<b>N_cubes:</b> 10 <b>Perc_overlap:</b> 0.1<br><b>Nodes:</b> 6 <b>Edges:</b> 0 <b>Total samples:</b> 100 <b>Unique_samples:</b> 100\",\"x\":0,\"xanchor\":\"left\",\"xref\":\"paper\",\"y\":-0.01,\"yanchor\":\"top\",\"yref\":\"paper\"}],\"autosize\":false,\"font\":{\"size\":12},\"height\":500,\"hovermode\":\"closest\",\"margin\":{\"b\":35,\"l\":10,\"r\":60,\"t\":100},\"plot_bgcolor\":\"rgba(240, 240, 240, 0.95)\",\"showlegend\":false,\"title\":{\"text\":\"Topological Network Representing Ebola Genome Data\"},\"width\":600,\"xaxis\":{\"visible\":false},\"yaxis\":{\"visible\":false},\"template\":{\"data\":{\"barpolar\":[{\"marker\":{\"line\":{\"color\":\"#E5ECF6\",\"width\":0.5},\"pattern\":{\"fillmode\":\"overlay\",\"size\":10,\"solidity\":0.2}},\"type\":\"barpolar\"}],\"bar\":[{\"error_x\":{\"color\":\"#2a3f5f\"},\"error_y\":{\"color\":\"#2a3f5f\"},\"marker\":{\"line\":{\"color\":\"#E5ECF6\",\"width\":0.5},\"pattern\":{\"fillmode\":\"overlay\",\"size\":10,\"solidity\":0.2}},\"type\":\"bar\"}],\"carpet\":[{\"aaxis\":{\"endlinecolor\":\"#2a3f5f\",\"gridcolor\":\"white\",\"linecolor\":\"white\",\"minorgridcolor\":\"white\",\"startlinecolor\":\"#2a3f5f\"},\"baxis\":{\"endlinecolor\":\"#2a3f5f\",\"gridcolor\":\"white\",\"linecolor\":\"white\",\"minorgridcolor\":\"white\",\"startlinecolor\":\"#2a3f5f\"},\"type\":\"carpet\"}],\"choropleth\":[{\"colorbar\":{\"outlinewidth\":0,\"ticks\":\"\"},\"type\":\"choropleth\"}],\"contourcarpet\":[{\"colorbar\":{\"outlinewidth\":0,\"ticks\":\"\"},\"type\":\"contourcarpet\"}],\"contour\":[{\"colorbar\":{\"outlinewidth\":0,\"ticks\":\"\"},\"colorscale\":[[0.0,\"#0d0887\"],[0.1111111111111111,\"#46039f\"],[0.2222222222222222,\"#7201a8\"],[0.3333333333333333,\"#9c179e\"],[0.4444444444444444,\"#bd3786\"],[0.5555555555555556,\"#d8576b\"],[0.6666666666666666,\"#ed7953\"],[0.7777777777777778,\"#fb9f3a\"],[0.8888888888888888,\"#fdca26\"],[1.0,\"#f0f921\"]],\"type\":\"contour\"}],\"heatmapgl\":[{\"colorbar\":{\"outlinewidth\":0,\"ticks\":\"\"},\"colorscale\":[[0.0,\"#0d0887\"],[0.1111111111111111,\"#46039f\"],[0.2222222222222222,\"#7201a8\"],[0.3333333333333333,\"#9c179e\"],[0.4444444444444444,\"#bd3786\"],[0.5555555555555556,\"#d8576b\"],[0.6666666666666666,\"#ed7953\"],[0.7777777777777778,\"#fb9f3a\"],[0.8888888888888888,\"#fdca26\"],[1.0,\"#f0f921\"]],\"type\":\"heatmapgl\"}],\"heatmap\":[{\"colorbar\":{\"outlinewidth\":0,\"ticks\":\"\"},\"colorscale\":[[0.0,\"#0d0887\"],[0.1111111111111111,\"#46039f\"],[0.2222222222222222,\"#7201a8\"],[0.3333333333333333,\"#9c179e\"],[0.4444444444444444,\"#bd3786\"],[0.5555555555555556,\"#d8576b\"],[0.6666666666666666,\"#ed7953\"],[0.7777777777777778,\"#fb9f3a\"],[0.8888888888888888,\"#fdca26\"],[1.0,\"#f0f921\"]],\"type\":\"heatmap\"}],\"histogram2dcontour\":[{\"colorbar\":{\"outlinewidth\":0,\"ticks\":\"\"},\"colorscale\":[[0.0,\"#0d0887\"],[0.1111111111111111,\"#46039f\"],[0.2222222222222222,\"#7201a8\"],[0.3333333333333333,\"#9c179e\"],[0.4444444444444444,\"#bd3786\"],[0.5555555555555556,\"#d8576b\"],[0.6666666666666666,\"#ed7953\"],[0.7777777777777778,\"#fb9f3a\"],[0.8888888888888888,\"#fdca26\"],[1.0,\"#f0f921\"]],\"type\":\"histogram2dcontour\"}],\"histogram2d\":[{\"colorbar\":{\"outlinewidth\":0,\"ticks\":\"\"},\"colorscale\":[[0.0,\"#0d0887\"],[0.1111111111111111,\"#46039f\"],[0.2222222222222222,\"#7201a8\"],[0.3333333333333333,\"#9c179e\"],[0.4444444444444444,\"#bd3786\"],[0.5555555555555556,\"#d8576b\"],[0.6666666666666666,\"#ed7953\"],[0.7777777777777778,\"#fb9f3a\"],[0.8888888888888888,\"#fdca26\"],[1.0,\"#f0f921\"]],\"type\":\"histogram2d\"}],\"histogram\":[{\"marker\":{\"pattern\":{\"fillmode\":\"overlay\",\"size\":10,\"solidity\":0.2}},\"type\":\"histogram\"}],\"mesh3d\":[{\"colorbar\":{\"outlinewidth\":0,\"ticks\":\"\"},\"type\":\"mesh3d\"}],\"parcoords\":[{\"line\":{\"colorbar\":{\"outlinewidth\":0,\"ticks\":\"\"}},\"type\":\"parcoords\"}],\"pie\":[{\"automargin\":true,\"type\":\"pie\"}],\"scatter3d\":[{\"line\":{\"colorbar\":{\"outlinewidth\":0,\"ticks\":\"\"}},\"marker\":{\"colorbar\":{\"outlinewidth\":0,\"ticks\":\"\"}},\"type\":\"scatter3d\"}],\"scattercarpet\":[{\"marker\":{\"colorbar\":{\"outlinewidth\":0,\"ticks\":\"\"}},\"type\":\"scattercarpet\"}],\"scattergeo\":[{\"marker\":{\"colorbar\":{\"outlinewidth\":0,\"ticks\":\"\"}},\"type\":\"scattergeo\"}],\"scattergl\":[{\"marker\":{\"colorbar\":{\"outlinewidth\":0,\"ticks\":\"\"}},\"type\":\"scattergl\"}],\"scattermapbox\":[{\"marker\":{\"colorbar\":{\"outlinewidth\":0,\"ticks\":\"\"}},\"type\":\"scattermapbox\"}],\"scatterpolargl\":[{\"marker\":{\"colorbar\":{\"outlinewidth\":0,\"ticks\":\"\"}},\"type\":\"scatterpolargl\"}],\"scatterpolar\":[{\"marker\":{\"colorbar\":{\"outlinewidth\":0,\"ticks\":\"\"}},\"type\":\"scatterpolar\"}],\"scatter\":[{\"fillpattern\":{\"fillmode\":\"overlay\",\"size\":10,\"solidity\":0.2},\"type\":\"scatter\"}],\"scatterternary\":[{\"marker\":{\"colorbar\":{\"outlinewidth\":0,\"ticks\":\"\"}},\"type\":\"scatterternary\"}],\"surface\":[{\"colorbar\":{\"outlinewidth\":0,\"ticks\":\"\"},\"colorscale\":[[0.0,\"#0d0887\"],[0.1111111111111111,\"#46039f\"],[0.2222222222222222,\"#7201a8\"],[0.3333333333333333,\"#9c179e\"],[0.4444444444444444,\"#bd3786\"],[0.5555555555555556,\"#d8576b\"],[0.6666666666666666,\"#ed7953\"],[0.7777777777777778,\"#fb9f3a\"],[0.8888888888888888,\"#fdca26\"],[1.0,\"#f0f921\"]],\"type\":\"surface\"}],\"table\":[{\"cells\":{\"fill\":{\"color\":\"#EBF0F8\"},\"line\":{\"color\":\"white\"}},\"header\":{\"fill\":{\"color\":\"#C8D4E3\"},\"line\":{\"color\":\"white\"}},\"type\":\"table\"}]},\"layout\":{\"annotationdefaults\":{\"arrowcolor\":\"#2a3f5f\",\"arrowhead\":0,\"arrowwidth\":1},\"autotypenumbers\":\"strict\",\"coloraxis\":{\"colorbar\":{\"outlinewidth\":0,\"ticks\":\"\"}},\"colorscale\":{\"diverging\":[[0,\"#8e0152\"],[0.1,\"#c51b7d\"],[0.2,\"#de77ae\"],[0.3,\"#f1b6da\"],[0.4,\"#fde0ef\"],[0.5,\"#f7f7f7\"],[0.6,\"#e6f5d0\"],[0.7,\"#b8e186\"],[0.8,\"#7fbc41\"],[0.9,\"#4d9221\"],[1,\"#276419\"]],\"sequential\":[[0.0,\"#0d0887\"],[0.1111111111111111,\"#46039f\"],[0.2222222222222222,\"#7201a8\"],[0.3333333333333333,\"#9c179e\"],[0.4444444444444444,\"#bd3786\"],[0.5555555555555556,\"#d8576b\"],[0.6666666666666666,\"#ed7953\"],[0.7777777777777778,\"#fb9f3a\"],[0.8888888888888888,\"#fdca26\"],[1.0,\"#f0f921\"]],\"sequentialminus\":[[0.0,\"#0d0887\"],[0.1111111111111111,\"#46039f\"],[0.2222222222222222,\"#7201a8\"],[0.3333333333333333,\"#9c179e\"],[0.4444444444444444,\"#bd3786\"],[0.5555555555555556,\"#d8576b\"],[0.6666666666666666,\"#ed7953\"],[0.7777777777777778,\"#fb9f3a\"],[0.8888888888888888,\"#fdca26\"],[1.0,\"#f0f921\"]]},\"colorway\":[\"#636efa\",\"#EF553B\",\"#00cc96\",\"#ab63fa\",\"#FFA15A\",\"#19d3f3\",\"#FF6692\",\"#B6E880\",\"#FF97FF\",\"#FECB52\"],\"font\":{\"color\":\"#2a3f5f\"},\"geo\":{\"bgcolor\":\"white\",\"lakecolor\":\"white\",\"landcolor\":\"#E5ECF6\",\"showlakes\":true,\"showland\":true,\"subunitcolor\":\"white\"},\"hoverlabel\":{\"align\":\"left\"},\"hovermode\":\"closest\",\"mapbox\":{\"style\":\"light\"},\"paper_bgcolor\":\"white\",\"plot_bgcolor\":\"#E5ECF6\",\"polar\":{\"angularaxis\":{\"gridcolor\":\"white\",\"linecolor\":\"white\",\"ticks\":\"\"},\"bgcolor\":\"#E5ECF6\",\"radialaxis\":{\"gridcolor\":\"white\",\"linecolor\":\"white\",\"ticks\":\"\"}},\"scene\":{\"xaxis\":{\"backgroundcolor\":\"#E5ECF6\",\"gridcolor\":\"white\",\"gridwidth\":2,\"linecolor\":\"white\",\"showbackground\":true,\"ticks\":\"\",\"zerolinecolor\":\"white\"},\"yaxis\":{\"backgroundcolor\":\"#E5ECF6\",\"gridcolor\":\"white\",\"gridwidth\":2,\"linecolor\":\"white\",\"showbackground\":true,\"ticks\":\"\",\"zerolinecolor\":\"white\"},\"zaxis\":{\"backgroundcolor\":\"#E5ECF6\",\"gridcolor\":\"white\",\"gridwidth\":2,\"linecolor\":\"white\",\"showbackground\":true,\"ticks\":\"\",\"zerolinecolor\":\"white\"}},\"shapedefaults\":{\"line\":{\"color\":\"#2a3f5f\"}},\"ternary\":{\"aaxis\":{\"gridcolor\":\"white\",\"linecolor\":\"white\",\"ticks\":\"\"},\"baxis\":{\"gridcolor\":\"white\",\"linecolor\":\"white\",\"ticks\":\"\"},\"bgcolor\":\"#E5ECF6\",\"caxis\":{\"gridcolor\":\"white\",\"linecolor\":\"white\",\"ticks\":\"\"}},\"title\":{\"x\":0.05},\"xaxis\":{\"automargin\":true,\"gridcolor\":\"white\",\"linecolor\":\"white\",\"ticks\":\"\",\"title\":{\"standoff\":15},\"zerolinecolor\":\"white\",\"zerolinewidth\":2},\"yaxis\":{\"automargin\":true,\"gridcolor\":\"white\",\"linecolor\":\"white\",\"ticks\":\"\",\"title\":{\"standoff\":15},\"zerolinecolor\":\"white\",\"zerolinewidth\":2}}}},                        {\"responsive\": true}                    )                };                            </script>        </div>"
      ],
      "text/plain": [
       "FigureWidget({\n",
       "    'data': [{'hoverinfo': 'none',\n",
       "              'line': {'color': 'rgb(180,180,180)', 'width': 1.5},\n",
       "              'mode': 'lines',\n",
       "              'type': 'scatter',\n",
       "              'uid': '10f6fda9-98f8-4b9d-81e1-4e35c0b436b8',\n",
       "              'x': [],\n",
       "              'y': []},\n",
       "             {'hoverinfo': 'text',\n",
       "              'marker': {'color': [0.0196078431372549, 0.11274509803921569,\n",
       "                                   0.4754901960784314, 0.8294117647058824,\n",
       "                                   0.916955017301038, 0.0588235294117647],\n",
       "                         'colorbar': {'thickness': 20, 'tickfont': {'size': 10}, 'ticklen': 4, 'x': 1.01},\n",
       "                         'colorscale': [[0.0, 'rgb(68, 1, 84)'], [0.1, 'rgb(72,\n",
       "                                        35, 116)'], [0.2, 'rgb(64, 67, 135)'],\n",
       "                                        [0.3, 'rgb(52, 94, 141)'], [0.4, 'rgb(41,\n",
       "                                        120, 142)'], [0.5, 'rgb(32, 144, 140)'],\n",
       "                                        [0.6, 'rgb(34, 167, 132)'], [0.7, 'rgb(68,\n",
       "                                        190, 112)'], [0.8, 'rgb(121, 209, 81)'],\n",
       "                                        [0.9, 'rgb(189, 222, 38)'], [1.0, 'rgb(253,\n",
       "                                        231, 36)']],\n",
       "                         'line': {'color': 'rgb(200,200,200)', 'width': 1.0},\n",
       "                         'opacity': 1.0,\n",
       "                         'showscale': True,\n",
       "                         'size': [6, 6, 15, 6, 9, 6]},\n",
       "              'mode': 'markers',\n",
       "              'text': [cube0_cluster0, cube3_cluster0, cube3_cluster1,\n",
       "                       cube3_cluster2, cube3_cluster3, cube4_cluster0],\n",
       "              'type': 'scatter',\n",
       "              'uid': '0e296c8c-5550-4a03-bb76-132c6d42feb5',\n",
       "              'x': [-0.04822127496685586, 1.2672156352120403, -1.4135816175586766,\n",
       "                    -1.3885963004928605, -0.09814470678908484, 1.2422303174217777],\n",
       "              'y': [-1.821705438700404, -1.034743301758731, 0.45553881788516976,\n",
       "                    -1.0780129854797271, 1.2425009557229947, 0.49880850086411527]}],\n",
       "    'layout': {'annotations': [{'align': 'left',\n",
       "                                'font': {'size': 12},\n",
       "                                'showarrow': False,\n",
       "                                'text': ('<b>N_cubes:</b> 10 <b>Perc_ove' ... '100 <b>Unique_samples:</b> 100'),\n",
       "                                'x': 0,\n",
       "                                'xanchor': 'left',\n",
       "                                'xref': 'paper',\n",
       "                                'y': -0.01,\n",
       "                                'yanchor': 'top',\n",
       "                                'yref': 'paper'}],\n",
       "               'autosize': False,\n",
       "               'font': {'size': 12},\n",
       "               'height': 500,\n",
       "               'hovermode': 'closest',\n",
       "               'margin': {'b': 35, 'l': 10, 'r': 60, 't': 100},\n",
       "               'plot_bgcolor': 'rgba(240, 240, 240, 0.95)',\n",
       "               'showlegend': False,\n",
       "               'template': '...',\n",
       "               'title': {'text': 'Topological Network Representing Ebola Genome Data'},\n",
       "               'width': 600,\n",
       "               'xaxis': {'visible': False},\n",
       "               'yaxis': {'visible': False}}\n",
       "})"
      ]
     },
     "execution_count": 79,
     "metadata": {},
     "output_type": "execute_result"
    }
   ],
   "source": [
    "plotlyviz(simplicial_complex, title=\"Topological Network Representing Ebola Genome Data\", graph_layout='fr')"
   ]
  },
  {
   "cell_type": "code",
   "execution_count": null,
   "metadata": {},
   "outputs": [
    {
     "name": "stderr",
     "output_type": "stream",
     "text": [
      "/usr/local/lib/python3.9/site-packages/sklearn/cluster/_kmeans.py:1077: ConvergenceWarning:\n",
      "\n",
      "Number of distinct clusters (1) found smaller than n_clusters (2). Possibly due to duplicate points in X.\n",
      "\n",
      "/usr/local/lib/python3.9/site-packages/sklearn/cluster/_kmeans.py:1077: ConvergenceWarning:\n",
      "\n",
      "Number of distinct clusters (1) found smaller than n_clusters (2). Possibly due to duplicate points in X.\n",
      "\n"
     ]
    }
   ],
   "source": [
    "mapper = km.KeplerMapper()\n",
    "projected_X = mapper.fit_transform(X, projection=[Isomap()])\n",
    "simplicial_complex = mapper.map(projected_X, X, clusterer=KMeans(n_clusters=2))\n",
    "_ = mapper.visualize(simplicial_complex, path_html='viral_genome_graph_isomap_kmeans.html')"
   ]
  },
  {
   "cell_type": "code",
   "execution_count": null,
   "metadata": {},
   "outputs": [
    {
     "ename": "AttributeError",
     "evalue": "type object 'DOMWidget' has no attribute '_ipython_display_'",
     "output_type": "error",
     "traceback": [
      "\u001b[0;31m---------------------------------------------------------------------------\u001b[0m",
      "\u001b[0;31mAttributeError\u001b[0m                            Traceback (most recent call last)",
      "File \u001b[0;32m~/Library/Python/3.9/lib/python/site-packages/IPython/core/formatters.py:920\u001b[0m, in \u001b[0;36mIPythonDisplayFormatter.__call__\u001b[0;34m(self, obj)\u001b[0m\n\u001b[1;32m    918\u001b[0m method \u001b[39m=\u001b[39m get_real_method(obj, \u001b[39mself\u001b[39m\u001b[39m.\u001b[39mprint_method)\n\u001b[1;32m    919\u001b[0m \u001b[39mif\u001b[39;00m method \u001b[39mis\u001b[39;00m \u001b[39mnot\u001b[39;00m \u001b[39mNone\u001b[39;00m:\n\u001b[0;32m--> 920\u001b[0m     method()\n\u001b[1;32m    921\u001b[0m     \u001b[39mreturn\u001b[39;00m \u001b[39mTrue\u001b[39;00m\n",
      "File \u001b[0;32m/usr/local/lib/python3.9/site-packages/plotly/basewidget.py:741\u001b[0m, in \u001b[0;36mBaseFigureWidget._ipython_display_\u001b[0;34m(self)\u001b[0m\n\u001b[1;32m    737\u001b[0m \u001b[39m\"\"\"\u001b[39;00m\n\u001b[1;32m    738\u001b[0m \u001b[39mHandle rich display of figures in ipython contexts\u001b[39;00m\n\u001b[1;32m    739\u001b[0m \u001b[39m\"\"\"\u001b[39;00m\n\u001b[1;32m    740\u001b[0m \u001b[39m# Override BaseFigure's display to make sure we display the widget version\u001b[39;00m\n\u001b[0;32m--> 741\u001b[0m widgets\u001b[39m.\u001b[39;49mDOMWidget\u001b[39m.\u001b[39;49m_ipython_display_(\u001b[39mself\u001b[39m)\n",
      "\u001b[0;31mAttributeError\u001b[0m: type object 'DOMWidget' has no attribute '_ipython_display_'"
     ]
    },
    {
     "data": {
      "application/vnd.plotly.v1+json": {
       "config": {
        "plotlyServerURL": "https://plot.ly"
       },
       "data": [
        {
         "hoverinfo": "none",
         "line": {
          "color": "rgb(180,180,180)",
          "width": 1.5
         },
         "mode": "lines",
         "type": "scatter",
         "uid": "462069b6-34ac-4146-a0b6-241be7e82327",
         "x": [
          -0.8012043288779579,
          -1.6574408512602765,
          null
         ],
         "y": [
          0.1409780677150063,
          -0.06452051857019589,
          null
         ]
        },
        {
         "hoverinfo": "text",
         "marker": {
          "color": [
           0.014705882352941176,
           0.029411764705882353,
           0.014705882352941176,
           0.1519607843137255,
           0.4754901960784314,
           0.7289915966386553,
           0.04901960784313725,
           0.07352941176470588
          ],
          "colorbar": {
           "thickness": 20,
           "tickfont": {
            "size": 10
           },
           "ticklen": 4,
           "x": 1.01
          },
          "colorscale": [
           [
            0,
            "rgb(68, 1, 84)"
           ],
           [
            0.1,
            "rgb(72, 35, 116)"
           ],
           [
            0.2,
            "rgb(64, 67, 135)"
           ],
           [
            0.3,
            "rgb(52, 94, 141)"
           ],
           [
            0.4,
            "rgb(41, 120, 142)"
           ],
           [
            0.5,
            "rgb(32, 144, 140)"
           ],
           [
            0.6,
            "rgb(34, 167, 132)"
           ],
           [
            0.7,
            "rgb(68, 190, 112)"
           ],
           [
            0.8,
            "rgb(121, 209, 81)"
           ],
           [
            0.9,
            "rgb(189, 222, 38)"
           ],
           [
            1,
            "rgb(253, 231, 36)"
           ]
          ],
          "line": {
           "color": "rgb(200,200,200)",
           "width": 1
          },
          "opacity": 1,
          "showscale": true,
          "size": [
           6,
           3,
           6,
           6,
           15,
           12,
           6,
           6
          ]
         },
         "mode": "markers",
         "text": [
          "cube0_cluster0",
          "cube0_cluster1",
          "cube1_cluster0",
          "cube2_cluster0",
          "cube3_cluster0",
          "cube3_cluster1",
          "cube4_cluster0",
          "cube4_cluster1"
         ],
         "type": "scatter",
         "uid": "dad097e4-94f7-407d-bc45-eca9db13e115",
         "x": [
          -0.8012043288779579,
          -1.2321775520299023,
          -1.6574408512602765,
          1.572992423140192,
          -0.4291442841182706,
          1.91473443177716,
          0.3018532945203413,
          1.104823349769514
         ],
         "y": [
          0.1409780677150063,
          1.8067774216999468,
          -0.06452051857019589,
          1.4566643099240002,
          -1.5393496235765773,
          0.045918467477897254,
          2.1775148914205498,
          -1.1713138237652596
         ]
        }
       ],
       "layout": {
        "annotations": [
         {
          "align": "left",
          "font": {
           "size": 12
          },
          "showarrow": false,
          "text": "<b>N_cubes:</b> 10 <b>Perc_overlap:</b> 0.1<br><b>Nodes:</b> 8 <b>Edges:</b> 1 <b>Total samples:</b> 104 <b>Unique_samples:</b> 102",
          "x": 0,
          "xanchor": "left",
          "xref": "paper",
          "y": -0.01,
          "yanchor": "top",
          "yref": "paper"
         }
        ],
        "autosize": false,
        "font": {
         "size": 12
        },
        "height": 500,
        "hovermode": "closest",
        "margin": {
         "b": 35,
         "l": 10,
         "r": 60,
         "t": 100
        },
        "plot_bgcolor": "rgba(240, 240, 240, 0.95)",
        "showlegend": false,
        "template": {
         "data": {
          "bar": [
           {
            "error_x": {
             "color": "#2a3f5f"
            },
            "error_y": {
             "color": "#2a3f5f"
            },
            "marker": {
             "line": {
              "color": "#E5ECF6",
              "width": 0.5
             },
             "pattern": {
              "fillmode": "overlay",
              "size": 10,
              "solidity": 0.2
             }
            },
            "type": "bar"
           }
          ],
          "barpolar": [
           {
            "marker": {
             "line": {
              "color": "#E5ECF6",
              "width": 0.5
             },
             "pattern": {
              "fillmode": "overlay",
              "size": 10,
              "solidity": 0.2
             }
            },
            "type": "barpolar"
           }
          ],
          "carpet": [
           {
            "aaxis": {
             "endlinecolor": "#2a3f5f",
             "gridcolor": "white",
             "linecolor": "white",
             "minorgridcolor": "white",
             "startlinecolor": "#2a3f5f"
            },
            "baxis": {
             "endlinecolor": "#2a3f5f",
             "gridcolor": "white",
             "linecolor": "white",
             "minorgridcolor": "white",
             "startlinecolor": "#2a3f5f"
            },
            "type": "carpet"
           }
          ],
          "choropleth": [
           {
            "colorbar": {
             "outlinewidth": 0,
             "ticks": ""
            },
            "type": "choropleth"
           }
          ],
          "contour": [
           {
            "colorbar": {
             "outlinewidth": 0,
             "ticks": ""
            },
            "colorscale": [
             [
              0,
              "#0d0887"
             ],
             [
              0.1111111111111111,
              "#46039f"
             ],
             [
              0.2222222222222222,
              "#7201a8"
             ],
             [
              0.3333333333333333,
              "#9c179e"
             ],
             [
              0.4444444444444444,
              "#bd3786"
             ],
             [
              0.5555555555555556,
              "#d8576b"
             ],
             [
              0.6666666666666666,
              "#ed7953"
             ],
             [
              0.7777777777777778,
              "#fb9f3a"
             ],
             [
              0.8888888888888888,
              "#fdca26"
             ],
             [
              1,
              "#f0f921"
             ]
            ],
            "type": "contour"
           }
          ],
          "contourcarpet": [
           {
            "colorbar": {
             "outlinewidth": 0,
             "ticks": ""
            },
            "type": "contourcarpet"
           }
          ],
          "heatmap": [
           {
            "colorbar": {
             "outlinewidth": 0,
             "ticks": ""
            },
            "colorscale": [
             [
              0,
              "#0d0887"
             ],
             [
              0.1111111111111111,
              "#46039f"
             ],
             [
              0.2222222222222222,
              "#7201a8"
             ],
             [
              0.3333333333333333,
              "#9c179e"
             ],
             [
              0.4444444444444444,
              "#bd3786"
             ],
             [
              0.5555555555555556,
              "#d8576b"
             ],
             [
              0.6666666666666666,
              "#ed7953"
             ],
             [
              0.7777777777777778,
              "#fb9f3a"
             ],
             [
              0.8888888888888888,
              "#fdca26"
             ],
             [
              1,
              "#f0f921"
             ]
            ],
            "type": "heatmap"
           }
          ],
          "heatmapgl": [
           {
            "colorbar": {
             "outlinewidth": 0,
             "ticks": ""
            },
            "colorscale": [
             [
              0,
              "#0d0887"
             ],
             [
              0.1111111111111111,
              "#46039f"
             ],
             [
              0.2222222222222222,
              "#7201a8"
             ],
             [
              0.3333333333333333,
              "#9c179e"
             ],
             [
              0.4444444444444444,
              "#bd3786"
             ],
             [
              0.5555555555555556,
              "#d8576b"
             ],
             [
              0.6666666666666666,
              "#ed7953"
             ],
             [
              0.7777777777777778,
              "#fb9f3a"
             ],
             [
              0.8888888888888888,
              "#fdca26"
             ],
             [
              1,
              "#f0f921"
             ]
            ],
            "type": "heatmapgl"
           }
          ],
          "histogram": [
           {
            "marker": {
             "pattern": {
              "fillmode": "overlay",
              "size": 10,
              "solidity": 0.2
             }
            },
            "type": "histogram"
           }
          ],
          "histogram2d": [
           {
            "colorbar": {
             "outlinewidth": 0,
             "ticks": ""
            },
            "colorscale": [
             [
              0,
              "#0d0887"
             ],
             [
              0.1111111111111111,
              "#46039f"
             ],
             [
              0.2222222222222222,
              "#7201a8"
             ],
             [
              0.3333333333333333,
              "#9c179e"
             ],
             [
              0.4444444444444444,
              "#bd3786"
             ],
             [
              0.5555555555555556,
              "#d8576b"
             ],
             [
              0.6666666666666666,
              "#ed7953"
             ],
             [
              0.7777777777777778,
              "#fb9f3a"
             ],
             [
              0.8888888888888888,
              "#fdca26"
             ],
             [
              1,
              "#f0f921"
             ]
            ],
            "type": "histogram2d"
           }
          ],
          "histogram2dcontour": [
           {
            "colorbar": {
             "outlinewidth": 0,
             "ticks": ""
            },
            "colorscale": [
             [
              0,
              "#0d0887"
             ],
             [
              0.1111111111111111,
              "#46039f"
             ],
             [
              0.2222222222222222,
              "#7201a8"
             ],
             [
              0.3333333333333333,
              "#9c179e"
             ],
             [
              0.4444444444444444,
              "#bd3786"
             ],
             [
              0.5555555555555556,
              "#d8576b"
             ],
             [
              0.6666666666666666,
              "#ed7953"
             ],
             [
              0.7777777777777778,
              "#fb9f3a"
             ],
             [
              0.8888888888888888,
              "#fdca26"
             ],
             [
              1,
              "#f0f921"
             ]
            ],
            "type": "histogram2dcontour"
           }
          ],
          "mesh3d": [
           {
            "colorbar": {
             "outlinewidth": 0,
             "ticks": ""
            },
            "type": "mesh3d"
           }
          ],
          "parcoords": [
           {
            "line": {
             "colorbar": {
              "outlinewidth": 0,
              "ticks": ""
             }
            },
            "type": "parcoords"
           }
          ],
          "pie": [
           {
            "automargin": true,
            "type": "pie"
           }
          ],
          "scatter": [
           {
            "fillpattern": {
             "fillmode": "overlay",
             "size": 10,
             "solidity": 0.2
            },
            "type": "scatter"
           }
          ],
          "scatter3d": [
           {
            "line": {
             "colorbar": {
              "outlinewidth": 0,
              "ticks": ""
             }
            },
            "marker": {
             "colorbar": {
              "outlinewidth": 0,
              "ticks": ""
             }
            },
            "type": "scatter3d"
           }
          ],
          "scattercarpet": [
           {
            "marker": {
             "colorbar": {
              "outlinewidth": 0,
              "ticks": ""
             }
            },
            "type": "scattercarpet"
           }
          ],
          "scattergeo": [
           {
            "marker": {
             "colorbar": {
              "outlinewidth": 0,
              "ticks": ""
             }
            },
            "type": "scattergeo"
           }
          ],
          "scattergl": [
           {
            "marker": {
             "colorbar": {
              "outlinewidth": 0,
              "ticks": ""
             }
            },
            "type": "scattergl"
           }
          ],
          "scattermapbox": [
           {
            "marker": {
             "colorbar": {
              "outlinewidth": 0,
              "ticks": ""
             }
            },
            "type": "scattermapbox"
           }
          ],
          "scatterpolar": [
           {
            "marker": {
             "colorbar": {
              "outlinewidth": 0,
              "ticks": ""
             }
            },
            "type": "scatterpolar"
           }
          ],
          "scatterpolargl": [
           {
            "marker": {
             "colorbar": {
              "outlinewidth": 0,
              "ticks": ""
             }
            },
            "type": "scatterpolargl"
           }
          ],
          "scatterternary": [
           {
            "marker": {
             "colorbar": {
              "outlinewidth": 0,
              "ticks": ""
             }
            },
            "type": "scatterternary"
           }
          ],
          "surface": [
           {
            "colorbar": {
             "outlinewidth": 0,
             "ticks": ""
            },
            "colorscale": [
             [
              0,
              "#0d0887"
             ],
             [
              0.1111111111111111,
              "#46039f"
             ],
             [
              0.2222222222222222,
              "#7201a8"
             ],
             [
              0.3333333333333333,
              "#9c179e"
             ],
             [
              0.4444444444444444,
              "#bd3786"
             ],
             [
              0.5555555555555556,
              "#d8576b"
             ],
             [
              0.6666666666666666,
              "#ed7953"
             ],
             [
              0.7777777777777778,
              "#fb9f3a"
             ],
             [
              0.8888888888888888,
              "#fdca26"
             ],
             [
              1,
              "#f0f921"
             ]
            ],
            "type": "surface"
           }
          ],
          "table": [
           {
            "cells": {
             "fill": {
              "color": "#EBF0F8"
             },
             "line": {
              "color": "white"
             }
            },
            "header": {
             "fill": {
              "color": "#C8D4E3"
             },
             "line": {
              "color": "white"
             }
            },
            "type": "table"
           }
          ]
         },
         "layout": {
          "annotationdefaults": {
           "arrowcolor": "#2a3f5f",
           "arrowhead": 0,
           "arrowwidth": 1
          },
          "autotypenumbers": "strict",
          "coloraxis": {
           "colorbar": {
            "outlinewidth": 0,
            "ticks": ""
           }
          },
          "colorscale": {
           "diverging": [
            [
             0,
             "#8e0152"
            ],
            [
             0.1,
             "#c51b7d"
            ],
            [
             0.2,
             "#de77ae"
            ],
            [
             0.3,
             "#f1b6da"
            ],
            [
             0.4,
             "#fde0ef"
            ],
            [
             0.5,
             "#f7f7f7"
            ],
            [
             0.6,
             "#e6f5d0"
            ],
            [
             0.7,
             "#b8e186"
            ],
            [
             0.8,
             "#7fbc41"
            ],
            [
             0.9,
             "#4d9221"
            ],
            [
             1,
             "#276419"
            ]
           ],
           "sequential": [
            [
             0,
             "#0d0887"
            ],
            [
             0.1111111111111111,
             "#46039f"
            ],
            [
             0.2222222222222222,
             "#7201a8"
            ],
            [
             0.3333333333333333,
             "#9c179e"
            ],
            [
             0.4444444444444444,
             "#bd3786"
            ],
            [
             0.5555555555555556,
             "#d8576b"
            ],
            [
             0.6666666666666666,
             "#ed7953"
            ],
            [
             0.7777777777777778,
             "#fb9f3a"
            ],
            [
             0.8888888888888888,
             "#fdca26"
            ],
            [
             1,
             "#f0f921"
            ]
           ],
           "sequentialminus": [
            [
             0,
             "#0d0887"
            ],
            [
             0.1111111111111111,
             "#46039f"
            ],
            [
             0.2222222222222222,
             "#7201a8"
            ],
            [
             0.3333333333333333,
             "#9c179e"
            ],
            [
             0.4444444444444444,
             "#bd3786"
            ],
            [
             0.5555555555555556,
             "#d8576b"
            ],
            [
             0.6666666666666666,
             "#ed7953"
            ],
            [
             0.7777777777777778,
             "#fb9f3a"
            ],
            [
             0.8888888888888888,
             "#fdca26"
            ],
            [
             1,
             "#f0f921"
            ]
           ]
          },
          "colorway": [
           "#636efa",
           "#EF553B",
           "#00cc96",
           "#ab63fa",
           "#FFA15A",
           "#19d3f3",
           "#FF6692",
           "#B6E880",
           "#FF97FF",
           "#FECB52"
          ],
          "font": {
           "color": "#2a3f5f"
          },
          "geo": {
           "bgcolor": "white",
           "lakecolor": "white",
           "landcolor": "#E5ECF6",
           "showlakes": true,
           "showland": true,
           "subunitcolor": "white"
          },
          "hoverlabel": {
           "align": "left"
          },
          "hovermode": "closest",
          "mapbox": {
           "style": "light"
          },
          "paper_bgcolor": "white",
          "plot_bgcolor": "#E5ECF6",
          "polar": {
           "angularaxis": {
            "gridcolor": "white",
            "linecolor": "white",
            "ticks": ""
           },
           "bgcolor": "#E5ECF6",
           "radialaxis": {
            "gridcolor": "white",
            "linecolor": "white",
            "ticks": ""
           }
          },
          "scene": {
           "xaxis": {
            "backgroundcolor": "#E5ECF6",
            "gridcolor": "white",
            "gridwidth": 2,
            "linecolor": "white",
            "showbackground": true,
            "ticks": "",
            "zerolinecolor": "white"
           },
           "yaxis": {
            "backgroundcolor": "#E5ECF6",
            "gridcolor": "white",
            "gridwidth": 2,
            "linecolor": "white",
            "showbackground": true,
            "ticks": "",
            "zerolinecolor": "white"
           },
           "zaxis": {
            "backgroundcolor": "#E5ECF6",
            "gridcolor": "white",
            "gridwidth": 2,
            "linecolor": "white",
            "showbackground": true,
            "ticks": "",
            "zerolinecolor": "white"
           }
          },
          "shapedefaults": {
           "line": {
            "color": "#2a3f5f"
           }
          },
          "ternary": {
           "aaxis": {
            "gridcolor": "white",
            "linecolor": "white",
            "ticks": ""
           },
           "baxis": {
            "gridcolor": "white",
            "linecolor": "white",
            "ticks": ""
           },
           "bgcolor": "#E5ECF6",
           "caxis": {
            "gridcolor": "white",
            "linecolor": "white",
            "ticks": ""
           }
          },
          "title": {
           "x": 0.05
          },
          "xaxis": {
           "automargin": true,
           "gridcolor": "white",
           "linecolor": "white",
           "ticks": "",
           "title": {
            "standoff": 15
           },
           "zerolinecolor": "white",
           "zerolinewidth": 2
          },
          "yaxis": {
           "automargin": true,
           "gridcolor": "white",
           "linecolor": "white",
           "ticks": "",
           "title": {
            "standoff": 15
           },
           "zerolinecolor": "white",
           "zerolinewidth": 2
          }
         }
        },
        "title": {
         "text": "Topological Network Representing Ebola Genome Data"
        },
        "width": 600,
        "xaxis": {
         "visible": false
        },
        "yaxis": {
         "visible": false
        }
       }
      },
      "text/html": [
       "<div>                        <script type=\"text/javascript\">window.PlotlyConfig = {MathJaxConfig: 'local'};</script>\n",
       "        <script src=\"https://cdn.plot.ly/plotly-2.16.1.min.js\"></script>                <div id=\"a2cad47a-ba15-4b67-be67-2ea4dc18eafe\" class=\"plotly-graph-div\" style=\"height:500px; width:600px;\"></div>            <script type=\"text/javascript\">                                    window.PLOTLYENV=window.PLOTLYENV || {};                                    if (document.getElementById(\"a2cad47a-ba15-4b67-be67-2ea4dc18eafe\")) {                    Plotly.newPlot(                        \"a2cad47a-ba15-4b67-be67-2ea4dc18eafe\",                        [{\"hoverinfo\":\"none\",\"line\":{\"color\":\"rgb(180,180,180)\",\"width\":1.5},\"mode\":\"lines\",\"x\":[-0.8012043288779579,-1.6574408512602765,null],\"y\":[0.1409780677150063,-0.06452051857019589,null],\"type\":\"scatter\",\"uid\":\"462069b6-34ac-4146-a0b6-241be7e82327\"},{\"hoverinfo\":\"text\",\"marker\":{\"color\":[0.014705882352941176,0.029411764705882353,0.014705882352941176,0.1519607843137255,0.4754901960784314,0.7289915966386553,0.04901960784313725,0.07352941176470588],\"colorbar\":{\"thickness\":20,\"tickfont\":{\"size\":10},\"ticklen\":4,\"x\":1.01},\"colorscale\":[[0.0,\"rgb(68, 1, 84)\"],[0.1,\"rgb(72, 35, 116)\"],[0.2,\"rgb(64, 67, 135)\"],[0.3,\"rgb(52, 94, 141)\"],[0.4,\"rgb(41, 120, 142)\"],[0.5,\"rgb(32, 144, 140)\"],[0.6,\"rgb(34, 167, 132)\"],[0.7,\"rgb(68, 190, 112)\"],[0.8,\"rgb(121, 209, 81)\"],[0.9,\"rgb(189, 222, 38)\"],[1.0,\"rgb(253, 231, 36)\"]],\"line\":{\"color\":\"rgb(200,200,200)\",\"width\":1.0},\"opacity\":1.0,\"showscale\":true,\"size\":[6,3,6,6,15,12,6,6]},\"mode\":\"markers\",\"text\":[\"cube0_cluster0\",\"cube0_cluster1\",\"cube1_cluster0\",\"cube2_cluster0\",\"cube3_cluster0\",\"cube3_cluster1\",\"cube4_cluster0\",\"cube4_cluster1\"],\"x\":[-0.8012043288779579,-1.2321775520299023,-1.6574408512602765,1.572992423140192,-0.4291442841182706,1.91473443177716,0.3018532945203413,1.104823349769514],\"y\":[0.1409780677150063,1.8067774216999468,-0.06452051857019589,1.4566643099240002,-1.5393496235765773,0.045918467477897254,2.1775148914205498,-1.1713138237652596],\"type\":\"scatter\",\"uid\":\"dad097e4-94f7-407d-bc45-eca9db13e115\"}],                        {\"annotations\":[{\"align\":\"left\",\"font\":{\"size\":12},\"showarrow\":false,\"text\":\"<b>N_cubes:</b> 10 <b>Perc_overlap:</b> 0.1<br><b>Nodes:</b> 8 <b>Edges:</b> 1 <b>Total samples:</b> 104 <b>Unique_samples:</b> 102\",\"x\":0,\"xanchor\":\"left\",\"xref\":\"paper\",\"y\":-0.01,\"yanchor\":\"top\",\"yref\":\"paper\"}],\"autosize\":false,\"font\":{\"size\":12},\"height\":500,\"hovermode\":\"closest\",\"margin\":{\"b\":35,\"l\":10,\"r\":60,\"t\":100},\"plot_bgcolor\":\"rgba(240, 240, 240, 0.95)\",\"showlegend\":false,\"title\":{\"text\":\"Topological Network Representing Ebola Genome Data\"},\"width\":600,\"xaxis\":{\"visible\":false},\"yaxis\":{\"visible\":false},\"template\":{\"data\":{\"barpolar\":[{\"marker\":{\"line\":{\"color\":\"#E5ECF6\",\"width\":0.5},\"pattern\":{\"fillmode\":\"overlay\",\"size\":10,\"solidity\":0.2}},\"type\":\"barpolar\"}],\"bar\":[{\"error_x\":{\"color\":\"#2a3f5f\"},\"error_y\":{\"color\":\"#2a3f5f\"},\"marker\":{\"line\":{\"color\":\"#E5ECF6\",\"width\":0.5},\"pattern\":{\"fillmode\":\"overlay\",\"size\":10,\"solidity\":0.2}},\"type\":\"bar\"}],\"carpet\":[{\"aaxis\":{\"endlinecolor\":\"#2a3f5f\",\"gridcolor\":\"white\",\"linecolor\":\"white\",\"minorgridcolor\":\"white\",\"startlinecolor\":\"#2a3f5f\"},\"baxis\":{\"endlinecolor\":\"#2a3f5f\",\"gridcolor\":\"white\",\"linecolor\":\"white\",\"minorgridcolor\":\"white\",\"startlinecolor\":\"#2a3f5f\"},\"type\":\"carpet\"}],\"choropleth\":[{\"colorbar\":{\"outlinewidth\":0,\"ticks\":\"\"},\"type\":\"choropleth\"}],\"contourcarpet\":[{\"colorbar\":{\"outlinewidth\":0,\"ticks\":\"\"},\"type\":\"contourcarpet\"}],\"contour\":[{\"colorbar\":{\"outlinewidth\":0,\"ticks\":\"\"},\"colorscale\":[[0.0,\"#0d0887\"],[0.1111111111111111,\"#46039f\"],[0.2222222222222222,\"#7201a8\"],[0.3333333333333333,\"#9c179e\"],[0.4444444444444444,\"#bd3786\"],[0.5555555555555556,\"#d8576b\"],[0.6666666666666666,\"#ed7953\"],[0.7777777777777778,\"#fb9f3a\"],[0.8888888888888888,\"#fdca26\"],[1.0,\"#f0f921\"]],\"type\":\"contour\"}],\"heatmapgl\":[{\"colorbar\":{\"outlinewidth\":0,\"ticks\":\"\"},\"colorscale\":[[0.0,\"#0d0887\"],[0.1111111111111111,\"#46039f\"],[0.2222222222222222,\"#7201a8\"],[0.3333333333333333,\"#9c179e\"],[0.4444444444444444,\"#bd3786\"],[0.5555555555555556,\"#d8576b\"],[0.6666666666666666,\"#ed7953\"],[0.7777777777777778,\"#fb9f3a\"],[0.8888888888888888,\"#fdca26\"],[1.0,\"#f0f921\"]],\"type\":\"heatmapgl\"}],\"heatmap\":[{\"colorbar\":{\"outlinewidth\":0,\"ticks\":\"\"},\"colorscale\":[[0.0,\"#0d0887\"],[0.1111111111111111,\"#46039f\"],[0.2222222222222222,\"#7201a8\"],[0.3333333333333333,\"#9c179e\"],[0.4444444444444444,\"#bd3786\"],[0.5555555555555556,\"#d8576b\"],[0.6666666666666666,\"#ed7953\"],[0.7777777777777778,\"#fb9f3a\"],[0.8888888888888888,\"#fdca26\"],[1.0,\"#f0f921\"]],\"type\":\"heatmap\"}],\"histogram2dcontour\":[{\"colorbar\":{\"outlinewidth\":0,\"ticks\":\"\"},\"colorscale\":[[0.0,\"#0d0887\"],[0.1111111111111111,\"#46039f\"],[0.2222222222222222,\"#7201a8\"],[0.3333333333333333,\"#9c179e\"],[0.4444444444444444,\"#bd3786\"],[0.5555555555555556,\"#d8576b\"],[0.6666666666666666,\"#ed7953\"],[0.7777777777777778,\"#fb9f3a\"],[0.8888888888888888,\"#fdca26\"],[1.0,\"#f0f921\"]],\"type\":\"histogram2dcontour\"}],\"histogram2d\":[{\"colorbar\":{\"outlinewidth\":0,\"ticks\":\"\"},\"colorscale\":[[0.0,\"#0d0887\"],[0.1111111111111111,\"#46039f\"],[0.2222222222222222,\"#7201a8\"],[0.3333333333333333,\"#9c179e\"],[0.4444444444444444,\"#bd3786\"],[0.5555555555555556,\"#d8576b\"],[0.6666666666666666,\"#ed7953\"],[0.7777777777777778,\"#fb9f3a\"],[0.8888888888888888,\"#fdca26\"],[1.0,\"#f0f921\"]],\"type\":\"histogram2d\"}],\"histogram\":[{\"marker\":{\"pattern\":{\"fillmode\":\"overlay\",\"size\":10,\"solidity\":0.2}},\"type\":\"histogram\"}],\"mesh3d\":[{\"colorbar\":{\"outlinewidth\":0,\"ticks\":\"\"},\"type\":\"mesh3d\"}],\"parcoords\":[{\"line\":{\"colorbar\":{\"outlinewidth\":0,\"ticks\":\"\"}},\"type\":\"parcoords\"}],\"pie\":[{\"automargin\":true,\"type\":\"pie\"}],\"scatter3d\":[{\"line\":{\"colorbar\":{\"outlinewidth\":0,\"ticks\":\"\"}},\"marker\":{\"colorbar\":{\"outlinewidth\":0,\"ticks\":\"\"}},\"type\":\"scatter3d\"}],\"scattercarpet\":[{\"marker\":{\"colorbar\":{\"outlinewidth\":0,\"ticks\":\"\"}},\"type\":\"scattercarpet\"}],\"scattergeo\":[{\"marker\":{\"colorbar\":{\"outlinewidth\":0,\"ticks\":\"\"}},\"type\":\"scattergeo\"}],\"scattergl\":[{\"marker\":{\"colorbar\":{\"outlinewidth\":0,\"ticks\":\"\"}},\"type\":\"scattergl\"}],\"scattermapbox\":[{\"marker\":{\"colorbar\":{\"outlinewidth\":0,\"ticks\":\"\"}},\"type\":\"scattermapbox\"}],\"scatterpolargl\":[{\"marker\":{\"colorbar\":{\"outlinewidth\":0,\"ticks\":\"\"}},\"type\":\"scatterpolargl\"}],\"scatterpolar\":[{\"marker\":{\"colorbar\":{\"outlinewidth\":0,\"ticks\":\"\"}},\"type\":\"scatterpolar\"}],\"scatter\":[{\"fillpattern\":{\"fillmode\":\"overlay\",\"size\":10,\"solidity\":0.2},\"type\":\"scatter\"}],\"scatterternary\":[{\"marker\":{\"colorbar\":{\"outlinewidth\":0,\"ticks\":\"\"}},\"type\":\"scatterternary\"}],\"surface\":[{\"colorbar\":{\"outlinewidth\":0,\"ticks\":\"\"},\"colorscale\":[[0.0,\"#0d0887\"],[0.1111111111111111,\"#46039f\"],[0.2222222222222222,\"#7201a8\"],[0.3333333333333333,\"#9c179e\"],[0.4444444444444444,\"#bd3786\"],[0.5555555555555556,\"#d8576b\"],[0.6666666666666666,\"#ed7953\"],[0.7777777777777778,\"#fb9f3a\"],[0.8888888888888888,\"#fdca26\"],[1.0,\"#f0f921\"]],\"type\":\"surface\"}],\"table\":[{\"cells\":{\"fill\":{\"color\":\"#EBF0F8\"},\"line\":{\"color\":\"white\"}},\"header\":{\"fill\":{\"color\":\"#C8D4E3\"},\"line\":{\"color\":\"white\"}},\"type\":\"table\"}]},\"layout\":{\"annotationdefaults\":{\"arrowcolor\":\"#2a3f5f\",\"arrowhead\":0,\"arrowwidth\":1},\"autotypenumbers\":\"strict\",\"coloraxis\":{\"colorbar\":{\"outlinewidth\":0,\"ticks\":\"\"}},\"colorscale\":{\"diverging\":[[0,\"#8e0152\"],[0.1,\"#c51b7d\"],[0.2,\"#de77ae\"],[0.3,\"#f1b6da\"],[0.4,\"#fde0ef\"],[0.5,\"#f7f7f7\"],[0.6,\"#e6f5d0\"],[0.7,\"#b8e186\"],[0.8,\"#7fbc41\"],[0.9,\"#4d9221\"],[1,\"#276419\"]],\"sequential\":[[0.0,\"#0d0887\"],[0.1111111111111111,\"#46039f\"],[0.2222222222222222,\"#7201a8\"],[0.3333333333333333,\"#9c179e\"],[0.4444444444444444,\"#bd3786\"],[0.5555555555555556,\"#d8576b\"],[0.6666666666666666,\"#ed7953\"],[0.7777777777777778,\"#fb9f3a\"],[0.8888888888888888,\"#fdca26\"],[1.0,\"#f0f921\"]],\"sequentialminus\":[[0.0,\"#0d0887\"],[0.1111111111111111,\"#46039f\"],[0.2222222222222222,\"#7201a8\"],[0.3333333333333333,\"#9c179e\"],[0.4444444444444444,\"#bd3786\"],[0.5555555555555556,\"#d8576b\"],[0.6666666666666666,\"#ed7953\"],[0.7777777777777778,\"#fb9f3a\"],[0.8888888888888888,\"#fdca26\"],[1.0,\"#f0f921\"]]},\"colorway\":[\"#636efa\",\"#EF553B\",\"#00cc96\",\"#ab63fa\",\"#FFA15A\",\"#19d3f3\",\"#FF6692\",\"#B6E880\",\"#FF97FF\",\"#FECB52\"],\"font\":{\"color\":\"#2a3f5f\"},\"geo\":{\"bgcolor\":\"white\",\"lakecolor\":\"white\",\"landcolor\":\"#E5ECF6\",\"showlakes\":true,\"showland\":true,\"subunitcolor\":\"white\"},\"hoverlabel\":{\"align\":\"left\"},\"hovermode\":\"closest\",\"mapbox\":{\"style\":\"light\"},\"paper_bgcolor\":\"white\",\"plot_bgcolor\":\"#E5ECF6\",\"polar\":{\"angularaxis\":{\"gridcolor\":\"white\",\"linecolor\":\"white\",\"ticks\":\"\"},\"bgcolor\":\"#E5ECF6\",\"radialaxis\":{\"gridcolor\":\"white\",\"linecolor\":\"white\",\"ticks\":\"\"}},\"scene\":{\"xaxis\":{\"backgroundcolor\":\"#E5ECF6\",\"gridcolor\":\"white\",\"gridwidth\":2,\"linecolor\":\"white\",\"showbackground\":true,\"ticks\":\"\",\"zerolinecolor\":\"white\"},\"yaxis\":{\"backgroundcolor\":\"#E5ECF6\",\"gridcolor\":\"white\",\"gridwidth\":2,\"linecolor\":\"white\",\"showbackground\":true,\"ticks\":\"\",\"zerolinecolor\":\"white\"},\"zaxis\":{\"backgroundcolor\":\"#E5ECF6\",\"gridcolor\":\"white\",\"gridwidth\":2,\"linecolor\":\"white\",\"showbackground\":true,\"ticks\":\"\",\"zerolinecolor\":\"white\"}},\"shapedefaults\":{\"line\":{\"color\":\"#2a3f5f\"}},\"ternary\":{\"aaxis\":{\"gridcolor\":\"white\",\"linecolor\":\"white\",\"ticks\":\"\"},\"baxis\":{\"gridcolor\":\"white\",\"linecolor\":\"white\",\"ticks\":\"\"},\"bgcolor\":\"#E5ECF6\",\"caxis\":{\"gridcolor\":\"white\",\"linecolor\":\"white\",\"ticks\":\"\"}},\"title\":{\"x\":0.05},\"xaxis\":{\"automargin\":true,\"gridcolor\":\"white\",\"linecolor\":\"white\",\"ticks\":\"\",\"title\":{\"standoff\":15},\"zerolinecolor\":\"white\",\"zerolinewidth\":2},\"yaxis\":{\"automargin\":true,\"gridcolor\":\"white\",\"linecolor\":\"white\",\"ticks\":\"\",\"title\":{\"standoff\":15},\"zerolinecolor\":\"white\",\"zerolinewidth\":2}}}},                        {\"responsive\": true}                    )                };                            </script>        </div>"
      ],
      "text/plain": [
       "FigureWidget({\n",
       "    'data': [{'hoverinfo': 'none',\n",
       "              'line': {'color': 'rgb(180,180,180)', 'width': 1.5},\n",
       "              'mode': 'lines',\n",
       "              'type': 'scatter',\n",
       "              'uid': '462069b6-34ac-4146-a0b6-241be7e82327',\n",
       "              'x': [-0.8012043288779579, -1.6574408512602765, None],\n",
       "              'y': [0.1409780677150063, -0.06452051857019589, None]},\n",
       "             {'hoverinfo': 'text',\n",
       "              'marker': {'color': [0.014705882352941176, 0.029411764705882353,\n",
       "                                   0.014705882352941176, 0.1519607843137255,\n",
       "                                   0.4754901960784314, 0.7289915966386553,\n",
       "                                   0.04901960784313725, 0.07352941176470588],\n",
       "                         'colorbar': {'thickness': 20, 'tickfont': {'size': 10}, 'ticklen': 4, 'x': 1.01},\n",
       "                         'colorscale': [[0.0, 'rgb(68, 1, 84)'], [0.1, 'rgb(72,\n",
       "                                        35, 116)'], [0.2, 'rgb(64, 67, 135)'],\n",
       "                                        [0.3, 'rgb(52, 94, 141)'], [0.4, 'rgb(41,\n",
       "                                        120, 142)'], [0.5, 'rgb(32, 144, 140)'],\n",
       "                                        [0.6, 'rgb(34, 167, 132)'], [0.7, 'rgb(68,\n",
       "                                        190, 112)'], [0.8, 'rgb(121, 209, 81)'],\n",
       "                                        [0.9, 'rgb(189, 222, 38)'], [1.0, 'rgb(253,\n",
       "                                        231, 36)']],\n",
       "                         'line': {'color': 'rgb(200,200,200)', 'width': 1.0},\n",
       "                         'opacity': 1.0,\n",
       "                         'showscale': True,\n",
       "                         'size': [6, 3, 6, 6, 15, 12, 6, 6]},\n",
       "              'mode': 'markers',\n",
       "              'text': [cube0_cluster0, cube0_cluster1, cube1_cluster0,\n",
       "                       cube2_cluster0, cube3_cluster0, cube3_cluster1,\n",
       "                       cube4_cluster0, cube4_cluster1],\n",
       "              'type': 'scatter',\n",
       "              'uid': 'dad097e4-94f7-407d-bc45-eca9db13e115',\n",
       "              'x': [-0.8012043288779579, -1.2321775520299023, -1.6574408512602765,\n",
       "                    1.572992423140192, -0.4291442841182706, 1.91473443177716,\n",
       "                    0.3018532945203413, 1.104823349769514],\n",
       "              'y': [0.1409780677150063, 1.8067774216999468, -0.06452051857019589,\n",
       "                    1.4566643099240002, -1.5393496235765773, 0.045918467477897254,\n",
       "                    2.1775148914205498, -1.1713138237652596]}],\n",
       "    'layout': {'annotations': [{'align': 'left',\n",
       "                                'font': {'size': 12},\n",
       "                                'showarrow': False,\n",
       "                                'text': ('<b>N_cubes:</b> 10 <b>Perc_ove' ... '104 <b>Unique_samples:</b> 102'),\n",
       "                                'x': 0,\n",
       "                                'xanchor': 'left',\n",
       "                                'xref': 'paper',\n",
       "                                'y': -0.01,\n",
       "                                'yanchor': 'top',\n",
       "                                'yref': 'paper'}],\n",
       "               'autosize': False,\n",
       "               'font': {'size': 12},\n",
       "               'height': 500,\n",
       "               'hovermode': 'closest',\n",
       "               'margin': {'b': 35, 'l': 10, 'r': 60, 't': 100},\n",
       "               'plot_bgcolor': 'rgba(240, 240, 240, 0.95)',\n",
       "               'showlegend': False,\n",
       "               'template': '...',\n",
       "               'title': {'text': 'Topological Network Representing Ebola Genome Data'},\n",
       "               'width': 600,\n",
       "               'xaxis': {'visible': False},\n",
       "               'yaxis': {'visible': False}}\n",
       "})"
      ]
     },
     "execution_count": 81,
     "metadata": {},
     "output_type": "execute_result"
    }
   ],
   "source": [
    "plotlyviz(simplicial_complex, title=\"Topological Network Representing Ebola Genome Data\", graph_layout='fr')"
   ]
  },
  {
   "cell_type": "code",
   "execution_count": null,
   "metadata": {},
   "outputs": [
    {
     "data": {
      "text/plain": [
       "0.7320854603894876"
      ]
     },
     "execution_count": 85,
     "metadata": {},
     "output_type": "execute_result"
    }
   ],
   "source": [
    "max_distance = X.max()\n",
    "max_distance"
   ]
  },
  {
   "cell_type": "code",
   "execution_count": 17,
   "metadata": {},
   "outputs": [
    {
     "data": {
      "image/png": "[encoded data removed]",
      "text/plain": [
       "<Figure size 640x480 with 1 Axes>"
      ]
     },
     "metadata": {},
     "output_type": "display_data"
    },
    {
     "data": {
      "image/png": "[encoded data removed]",
      "text/plain": [
       "<Figure size 640x480 with 1 Axes>"
      ]
     },
     "metadata": {},
     "output_type": "display_data"
    }
   ],
   "source": [
    "rips_complex = gd.RipsComplex(distance_matrix=X)\n",
    "simplex_tree = rips_complex.create_simplex_tree(max_dimension=2)\n",
    "diagram = simplex_tree.persistence()\n",
    "\n",
    "gd.plot_persistence_barcode(diagram)\n",
    "gd.plot_persistence_diagram(diagram)\n",
    "plt.show()"
   ]
  },
  {
   "cell_type": "code",
   "execution_count": 18,
   "metadata": {},
   "outputs": [
    {
     "data": {
      "text/plain": [
       "[1, 0]"
      ]
     },
     "execution_count": 18,
     "metadata": {},
     "output_type": "execute_result"
    }
   ],
   "source": [
    "simplex_tree.betti_numbers()"
   ]
  },
  {
   "cell_type": "code",
   "execution_count": 19,
   "metadata": {},
   "outputs": [
    {
     "data": {
      "text/plain": [
       "array([[0.59829836, 0.59863868]])"
      ]
     },
     "execution_count": 19,
     "metadata": {},
     "output_type": "execute_result"
    }
   ],
   "source": [
    "simplex_tree.persistence_intervals_in_dimension(1)"
   ]
  },
  {
   "cell_type": "code",
   "execution_count": 20,
   "metadata": {},
   "outputs": [
    {
     "data": {
      "text/plain": [
       "[3, 1]"
      ]
     },
     "execution_count": 20,
     "metadata": {},
     "output_type": "execute_result"
    }
   ],
   "source": [
    "simplex_tree.persistent_betti_numbers(from_value=0.59829836, to_value=0.59863868)"
   ]
  },
  {
   "cell_type": "code",
   "execution_count": null,
   "metadata": {},
   "outputs": [],
   "source": [
    "filtration_target = None\n",
    "for simplex, filtration in simplex_tree.get_filtration():\n",
    "    if filtration >= 0.04135723 and filtration <= .04630117:\n",
    "        filtration_target = filtration\n",
    "        break\n",
    "\n",
    "for simplex, filtration in simplex_tree.get_filtration():\n",
    "    if filtration == filtration_target:\n",
    "        print(simplex)"
   ]
  },
  {
   "cell_type": "code",
   "execution_count": 27,
   "metadata": {},
   "outputs": [
    {
     "name": "stdout",
     "output_type": "stream",
     "text": [
      "[[-0.4573717   0.40922601]\n",
      " [-0.36063604  0.3074006 ]\n",
      " [-0.38518488  0.28904675]\n",
      " [-0.33644243  0.3226357 ]\n",
      " [ 0.4285273  -0.18219399]]\n"
     ]
    },
    {
     "name": "stderr",
     "output_type": "stream",
     "text": [
      "/usr/local/lib/python3.9/site-packages/sklearn/manifold/_mds.py:299: FutureWarning: The default value of `normalized_stress` will change to `'auto'` in version 1.4. To suppress this warning, manually set the value of `normalized_stress`.\n",
      "  warnings.warn(\n"
     ]
    }
   ],
   "source": [
    "mds = MDS(n_components=2, dissimilarity='precomputed')\n",
    "mds_embeddings = mds.fit_transform(X)\n",
    "print(mds_embeddings[:5])"
   ]
  },
  {
   "cell_type": "code",
   "execution_count": 28,
   "metadata": {},
   "outputs": [
    {
     "name": "stderr",
     "output_type": "stream",
     "text": [
      "/var/folders/vp/7cb3bs4171vd6ywq0xgznpbh0000gn/T/ipykernel_3078/3241110911.py:6: UserWarning: Matplotlib is currently using module://matplotlib_inline.backend_inline, which is a non-GUI backend, so cannot show the figure.\n",
      "  fig.show()\n"
     ]
    },
    {
     "data": {
      "image/png": "[encoded data removed]",
      "text/plain": [
       "<Figure size 640x480 with 1 Axes>"
      ]
     },
     "metadata": {},
     "output_type": "display_data"
    }
   ],
   "source": [
    "fig = plt.figure()\n",
    "ax = fig.add_subplot()\n",
    "scatter = ax.scatter(mds_embeddings[:,0], mds_embeddings[:,1], c=ebola_genome_lab_data.to_numpy())\n",
    "ax.legend(handles=scatter.legend_elements()[0], labels=virus_display)\n",
    "ax.set_title(\"MDS Embeddings\")\n",
    "fig.show()"
   ]
  },
  {
   "cell_type": "code",
   "execution_count": 73,
   "metadata": {},
   "outputs": [],
   "source": [
    "alpha_complex = gd.AlphaComplex(points=tsne_embeddings)\n",
    "simplex_tree = alpha_complex.create_simplex_tree()"
   ]
  },
  {
   "cell_type": "code",
   "execution_count": 74,
   "metadata": {},
   "outputs": [],
   "source": [
    "points = np.array([alpha_complex.get_point(i) for i in range(simplex_tree.num_vertices())])"
   ]
  },
  {
   "cell_type": "code",
   "execution_count": 75,
   "metadata": {},
   "outputs": [
    {
     "data": {
      "image/png": "[encoded data removed]",
      "text/plain": [
       "<Figure size 640x480 with 1 Axes>"
      ]
     },
     "metadata": {},
     "output_type": "display_data"
    },
    {
     "data": {
      "image/png": "[encoded data removed]",
      "text/plain": [
       "<Figure size 640x480 with 1 Axes>"
      ]
     },
     "metadata": {},
     "output_type": "display_data"
    }
   ],
   "source": [
    "diagram = simplex_tree.persistence()\n",
    "\n",
    "gd.plot_persistence_barcode(diagram)\n",
    "gd.plot_persistence_diagram(diagram)\n",
    "plt.show()"
   ]
  },
  {
   "cell_type": "code",
   "execution_count": 76,
   "metadata": {},
   "outputs": [
    {
     "data": {
      "text/plain": [
       "array([[2.07922568e-08, 2.18049859e-08],\n",
       "       [2.63985456e-07, 2.70145453e-07],\n",
       "       [3.00284185e-07, 3.02951275e-07],\n",
       "       [3.19877983e-05, 3.27797093e-05],\n",
       "       [2.52884071e-03, 2.53259890e-03],\n",
       "       [3.07922664e-03, 3.08032191e-03],\n",
       "       [3.26638729e-03, 3.26642229e-03],\n",
       "       [3.40276406e-02, 3.43568823e-02],\n",
       "       [3.68331033e-02, 4.43662148e-02],\n",
       "       [4.77491368e-02, 5.32874639e-02],\n",
       "       [7.02729728e-02, 7.31431397e-02],\n",
       "       [7.96077700e-02, 8.36761353e-02],\n",
       "       [1.22805219e-01, 1.27315593e-01],\n",
       "       [1.16959975e-01, 1.32624167e-01],\n",
       "       [1.35512039e-01, 1.38174925e-01],\n",
       "       [1.36656549e-01, 1.38973013e-01],\n",
       "       [1.39668889e-01, 1.40167045e-01],\n",
       "       [1.36360132e-01, 1.44911748e-01],\n",
       "       [1.46048552e-01, 1.46233066e-01],\n",
       "       [1.09211696e-01, 1.51618249e-01],\n",
       "       [1.46296114e-01, 1.54219283e-01],\n",
       "       [1.60708424e-01, 1.62756954e-01],\n",
       "       [1.33273434e-01, 1.63009940e-01],\n",
       "       [1.29223524e-01, 1.67941900e-01],\n",
       "       [1.10456527e-01, 1.73032275e-01],\n",
       "       [1.32665634e-01, 1.75226450e-01],\n",
       "       [1.72283105e-01, 1.75666296e-01],\n",
       "       [1.76722539e-01, 1.90217397e-01],\n",
       "       [1.91993393e-01, 1.92574643e-01],\n",
       "       [1.20546310e-01, 2.03941507e-01],\n",
       "       [1.89084709e-01, 2.10123438e-01],\n",
       "       [2.12478868e-01, 2.13676289e-01],\n",
       "       [2.22073794e-01, 2.22749362e-01],\n",
       "       [2.39444821e-01, 2.39933668e-01],\n",
       "       [1.44960735e-01, 2.41050358e-01],\n",
       "       [2.33735792e-01, 2.54586237e-01],\n",
       "       [2.35862890e-01, 2.59343660e-01],\n",
       "       [1.62099135e-01, 2.60769042e-01],\n",
       "       [2.79776672e-01, 2.83994668e-01],\n",
       "       [2.90267621e-01, 2.91104227e-01],\n",
       "       [2.72247853e-01, 2.91209976e-01],\n",
       "       [2.90573188e-01, 3.21283552e-01],\n",
       "       [2.75497419e-01, 3.21360580e-01],\n",
       "       [2.40831374e-01, 3.33077451e-01],\n",
       "       [2.12412206e-01, 3.46945887e-01],\n",
       "       [3.77888739e-01, 3.86651691e-01],\n",
       "       [2.85373601e-01, 3.92489602e-01],\n",
       "       [4.80436118e-01, 4.95772172e-01],\n",
       "       [3.73936383e-01, 5.04360743e-01],\n",
       "       [5.01266273e-01, 5.42298809e-01],\n",
       "       [6.45170708e-01, 6.45372045e-01],\n",
       "       [6.37519771e-01, 6.80150000e-01],\n",
       "       [4.52786280e-01, 7.18762596e-01],\n",
       "       [1.86276536e+00, 1.86335039e+00],\n",
       "       [2.67866948e+00, 2.71592593e+00],\n",
       "       [2.35477526e+00, 3.15668710e+00],\n",
       "       [1.72659443e+00, 3.50072941e+00]])"
      ]
     },
     "execution_count": 76,
     "metadata": {},
     "output_type": "execute_result"
    }
   ],
   "source": [
    "simplex_tree.persistence_intervals_in_dimension(1)"
   ]
  },
  {
   "cell_type": "code",
   "execution_count": 62,
   "metadata": {},
   "outputs": [
    {
     "data": {
      "text/plain": [
       "[1, 0]"
      ]
     },
     "execution_count": 62,
     "metadata": {},
     "output_type": "execute_result"
    }
   ],
   "source": [
    "simplex_tree.betti_numbers()"
   ]
  },
  {
   "cell_type": "code",
   "execution_count": 67,
   "metadata": {},
   "outputs": [
    {
     "data": {
      "text/plain": [
       "[1, 1]"
      ]
     },
     "execution_count": 67,
     "metadata": {},
     "output_type": "execute_result"
    }
   ],
   "source": [
    "simplex_tree.persistent_betti_numbers(from_value=12.3, to_value=12.4)"
   ]
  },
  {
   "cell_type": "code",
   "execution_count": 68,
   "metadata": {},
   "outputs": [
    {
     "data": {
      "text/plain": [
       "array([[  0,   1,   2],\n",
       "       [  0,   1,  10],\n",
       "       [  0,   2,  15],\n",
       "       [  0,   9,  12],\n",
       "       [  0,   9,  16],\n",
       "       [  0,  10,  12],\n",
       "       [  0,  15,  16],\n",
       "       [  1,   2,   3],\n",
       "       [  1,   3,  81],\n",
       "       [  2,   3,  15],\n",
       "       [  3,  15,  74],\n",
       "       [  3,  74,  75],\n",
       "       [  4,   5,   6],\n",
       "       [  4,   5,   7],\n",
       "       [  4,   6,   7],\n",
       "       [  5,   6,  77],\n",
       "       [  5,   7,   9],\n",
       "       [  5,   9,  16],\n",
       "       [  5,  16,  77],\n",
       "       [  6,   7,   8],\n",
       "       [  6,   8,  77],\n",
       "       [  7,   8,   9],\n",
       "       [  8,   9,  11],\n",
       "       [  8,  19,  77],\n",
       "       [  9,  11,  12],\n",
       "       [ 10,  12,  13],\n",
       "       [ 10,  13,  14],\n",
       "       [ 11,  12,  13],\n",
       "       [ 11,  13,  14],\n",
       "       [ 15,  16,  74],\n",
       "       [ 16,  48,  53],\n",
       "       [ 16,  48,  77],\n",
       "       [ 16,  53,  74],\n",
       "       [ 17,  24,  34],\n",
       "       [ 17,  24,  39],\n",
       "       [ 17,  25,  33],\n",
       "       [ 17,  25,  34],\n",
       "       [ 17,  30,  33],\n",
       "       [ 17,  30,  42],\n",
       "       [ 17,  39,  43],\n",
       "       [ 17,  42,  43],\n",
       "       [ 18,  20,  21],\n",
       "       [ 18,  20,  22],\n",
       "       [ 18,  21,  22],\n",
       "       [ 19,  27,  29],\n",
       "       [ 19,  27,  77],\n",
       "       [ 19,  28,  29],\n",
       "       [ 19,  28,  38],\n",
       "       [ 19,  38,  73],\n",
       "       [ 20,  21,  29],\n",
       "       [ 20,  22,  73],\n",
       "       [ 20,  29,  38],\n",
       "       [ 20,  38,  73],\n",
       "       [ 21,  22,  26],\n",
       "       [ 21,  26,  29],\n",
       "       [ 22,  26,  73],\n",
       "       [ 23,  24,  32],\n",
       "       [ 23,  24,  34],\n",
       "       [ 23,  31,  34],\n",
       "       [ 23,  31,  80],\n",
       "       [ 23,  32,  80],\n",
       "       [ 24,  32,  39],\n",
       "       [ 25,  33,  34],\n",
       "       [ 26,  27,  29],\n",
       "       [ 26,  27,  56],\n",
       "       [ 26,  56,  73],\n",
       "       [ 27,  31,  32],\n",
       "       [ 27,  31,  59],\n",
       "       [ 27,  32,  55],\n",
       "       [ 27,  55,  77],\n",
       "       [ 27,  56,  59],\n",
       "       [ 28,  29,  38],\n",
       "       [ 30,  33,  35],\n",
       "       [ 30,  35,  36],\n",
       "       [ 30,  36,  42],\n",
       "       [ 31,  32,  80],\n",
       "       [ 31,  34,  50],\n",
       "       [ 31,  50,  59],\n",
       "       [ 32,  39,  55],\n",
       "       [ 33,  34,  35],\n",
       "       [ 34,  35,  50],\n",
       "       [ 35,  36,  50],\n",
       "       [ 36,  37,  42],\n",
       "       [ 36,  37,  57],\n",
       "       [ 36,  50,  57],\n",
       "       [ 37,  40,  41],\n",
       "       [ 37,  40,  51],\n",
       "       [ 37,  41,  42],\n",
       "       [ 37,  51,  57],\n",
       "       [ 39,  43,  45],\n",
       "       [ 39,  45,  55],\n",
       "       [ 40,  41,  51],\n",
       "       [ 41,  42,  47],\n",
       "       [ 41,  47,  58],\n",
       "       [ 41,  51,  58],\n",
       "       [ 42,  43,  46],\n",
       "       [ 42,  46,  47],\n",
       "       [ 43,  44,  45],\n",
       "       [ 43,  44,  46],\n",
       "       [ 44,  45,  48],\n",
       "       [ 44,  46,  52],\n",
       "       [ 44,  48,  53],\n",
       "       [ 44,  52,  53],\n",
       "       [ 45,  48,  55],\n",
       "       [ 46,  47,  54],\n",
       "       [ 46,  52,  54],\n",
       "       [ 47,  49,  54],\n",
       "       [ 47,  49,  63],\n",
       "       [ 47,  58,  63],\n",
       "       [ 48,  55,  77],\n",
       "       [ 49,  54,  72],\n",
       "       [ 49,  63,  64],\n",
       "       [ 49,  64,  72],\n",
       "       [ 50,  57,  59],\n",
       "       [ 51,  57,  60],\n",
       "       [ 51,  58,  62],\n",
       "       [ 51,  60,  67],\n",
       "       [ 51,  62,  67],\n",
       "       [ 52,  53,  74],\n",
       "       [ 52,  54,  74],\n",
       "       [ 54,  72,  74],\n",
       "       [ 56,  59,  68],\n",
       "       [ 57,  59,  60],\n",
       "       [ 58,  62,  66],\n",
       "       [ 58,  63,  66],\n",
       "       [ 59,  60,  68],\n",
       "       [ 60,  67,  68],\n",
       "       [ 61,  63,  64],\n",
       "       [ 61,  63,  66],\n",
       "       [ 61,  64,  71],\n",
       "       [ 61,  66,  70],\n",
       "       [ 61,  70,  71],\n",
       "       [ 62,  66,  70],\n",
       "       [ 62,  67,  69],\n",
       "       [ 62,  69,  70],\n",
       "       [ 64,  71,  72],\n",
       "       [ 65,  67,  68],\n",
       "       [ 65,  67,  69],\n",
       "       [ 65,  69,  78],\n",
       "       [ 69,  70,  78],\n",
       "       [ 70,  71,  76],\n",
       "       [ 70,  76,  78],\n",
       "       [ 71,  72,  79],\n",
       "       [ 71,  76,  79],\n",
       "       [ 72,  74,  75],\n",
       "       [ 72,  75,  79],\n",
       "       [ 76,  78,  79],\n",
       "       [ 81,  83,  86],\n",
       "       [ 81,  83,  93],\n",
       "       [ 82,  83,  84],\n",
       "       [ 82,  83,  99],\n",
       "       [ 82,  84,  93],\n",
       "       [ 82,  88,  95],\n",
       "       [ 82,  88,  99],\n",
       "       [ 82,  91,  93],\n",
       "       [ 82,  91,  95],\n",
       "       [ 83,  84,  93],\n",
       "       [ 83,  86,  99],\n",
       "       [ 85,  90, 102],\n",
       "       [ 86,  89,  99],\n",
       "       [ 87,  90,  92],\n",
       "       [ 87,  92,  97],\n",
       "       [ 88,  92,  97],\n",
       "       [ 88,  92,  99],\n",
       "       [ 88,  94,  95],\n",
       "       [ 88,  94,  97],\n",
       "       [ 89,  96, 100],\n",
       "       [ 89,  99, 101],\n",
       "       [ 89, 100, 101],\n",
       "       [ 90,  92, 102],\n",
       "       [ 91,  94,  95],\n",
       "       [ 91,  94,  98],\n",
       "       [ 91,  97,  98],\n",
       "       [ 92,  99, 102],\n",
       "       [ 94,  97,  98],\n",
       "       [ 96, 100, 101],\n",
       "       [ 96, 101, 102],\n",
       "       [ 99, 101, 102]])"
      ]
     },
     "execution_count": 68,
     "metadata": {},
     "output_type": "execute_result"
    }
   ],
   "source": [
    "triangles = np.array([s[0] for s in simplex_tree.get_skeleton(2) if len(s[0])==3 and s[1] <= 12.4])\n",
    "triangles"
   ]
  },
  {
   "cell_type": "code",
   "execution_count": 28,
   "metadata": {},
   "outputs": [],
   "source": [
    "import networkx as nx\n",
    "import itertools\n",
    "\n",
    "def draw_2d_simplicial_complex(simplices, pos=None, return_pos=False, ax = None):\n",
    "    \"\"\"\n",
    "    Draw a simplicial complex up to dimension 2 from a list of simplices, as in [1].\n",
    "        \n",
    "        Args\n",
    "        ----\n",
    "        simplices: list of lists of integers\n",
    "            List of simplices to draw. Sub-simplices are not needed (only maximal).\n",
    "            For example, the 2-simplex [1,2,3] will automatically generate the three\n",
    "            1-simplices [1,2],[2,3],[1,3] and the three 0-simplices [1],[2],[3].\n",
    "            When a higher order simplex is entered only its sub-simplices\n",
    "            up to D=2 will be drawn.\n",
    "        \n",
    "        pos: dict (default=None)\n",
    "            If passed, this dictionary of positions d:(x,y) is used for placing the 0-simplices.\n",
    "            The standard nx spring layour is used otherwise.\n",
    "           \n",
    "        ax: matplotlib.pyplot.axes (default=None)\n",
    "        \n",
    "        return_pos: dict (default=False)\n",
    "            If True returns the dictionary of positions for the 0-simplices.\n",
    "            \n",
    "        References\n",
    "        ----------    \n",
    "        .. [1] I. Iacopini, G. Petri, A. Barrat & V. Latora (2019)\n",
    "               \"Simplicial Models of Social Contagion\".\n",
    "               Nature communications, 10(1), 2485.\n",
    "    \"\"\"\n",
    "\n",
    "    \n",
    "    #List of 0-simplices\n",
    "    nodes =list(set(itertools.chain(*simplices)))\n",
    "    \n",
    "    #List of 1-simplices\n",
    "    edges = list(set(itertools.chain(*[[tuple(sorted((i, j))) for i, j in itertools.combinations(simplex, 2)] for simplex in simplices])))\n",
    "\n",
    "    #List of 2-simplices\n",
    "    triangles = list(set(itertools.chain(*[[tuple(sorted((i, j, k))) for i, j, k in itertools.combinations(simplex, 3)] for simplex in simplices])))\n",
    "    \n",
    "    if ax is None: ax = plt.gca()\n",
    "    ax.set_xlim([-1.1, 1.1])      \n",
    "    ax.set_ylim([-1.1, 1.1])\n",
    "    ax.get_xaxis().set_ticks([])  \n",
    "    ax.get_yaxis().set_ticks([])\n",
    "    ax.axis('off')\n",
    "       \n",
    "    if pos is None:\n",
    "        # Creating a networkx Graph from the edgelist\n",
    "        G = nx.Graph()\n",
    "        G.add_edges_from(edges)\n",
    "        # Creating a dictionary for the position of the nodes\n",
    "        pos = nx.spring_layout(G)\n",
    "        \n",
    "    # Drawing the edges\n",
    "    for i, j in edges:\n",
    "        (x0, y0) = pos[i]\n",
    "        (x1, y1) = pos[j]\n",
    "        line = plt.Line2D([ x0, x1 ], [y0, y1 ],color = 'black', zorder = 1, lw=0.7)\n",
    "        ax.add_line(line);\n",
    "    \n",
    "    # Filling in the triangles\n",
    "    for i, j, k in triangles:\n",
    "        (x0, y0) = pos[i]\n",
    "        (x1, y1) = pos[j]\n",
    "        (x2, y2) = pos[k]\n",
    "        tri = plt.Polygon([ [ x0, y0 ], [ x1, y1 ], [ x2, y2 ] ],\n",
    "                          edgecolor = 'black', facecolor = plt.cm.Blues(0.6),\n",
    "                          zorder = 2, alpha=0.4, lw=0.5)\n",
    "        ax.add_patch(tri);\n",
    "\n",
    "    # Drawing the nodes \n",
    "    for i in nodes:\n",
    "        (x, y) = pos[i]\n",
    "        circ = plt.Circle([ x, y ], radius = 0.02, zorder = 3, lw=0.5,\n",
    "                          edgecolor = 'Black', facecolor = u'#ff7f0e')\n",
    "        ax.add_patch(circ);\n",
    "\n",
    "    if return_pos: return pos"
   ]
  },
  {
   "cell_type": "code",
   "execution_count": 70,
   "metadata": {},
   "outputs": [
    {
     "name": "stderr",
     "output_type": "stream",
     "text": [
      "/var/folders/vp/7cb3bs4171vd6ywq0xgznpbh0000gn/T/ipykernel_51211/613329327.py:8: UserWarning:\n",
      "\n",
      "Matplotlib is currently using module://matplotlib_inline.backend_inline, which is a non-GUI backend, so cannot show the figure.\n",
      "\n"
     ]
    },
    {
     "data": {
      "image/png": "[encoded data removed]",
      "text/plain": [
       "<Figure size 640x480 with 1 Axes>"
      ]
     },
     "metadata": {},
     "output_type": "display_data"
    }
   ],
   "source": [
    "from mpl_toolkits.mplot3d import Axes3D\n",
    "import matplotlib.pyplot as plt\n",
    "fig = plt.figure()\n",
    "ax = fig.gca()\n",
    "ax.triplot(points[:,0], points[:,1], triangles, 'go-')\n",
    "ax.set_title(\"Simplicial Complex of Ebola Genome Data ($\\epsilon$=0.06)\")\n",
    "ax.annotate(r\"$\\beta_0=1,\\beta_1=1$\", xy=(50,50), xycoords='axes points')\n",
    "fig.show()"
   ]
  },
  {
   "cell_type": "code",
   "execution_count": 22,
   "metadata": {},
   "outputs": [
    {
     "data": {
      "image/png": "[encoded data removed]",
      "text/plain": [
       "<Figure size 640x480 with 1 Axes>"
      ]
     },
     "metadata": {},
     "output_type": "display_data"
    }
   ],
   "source": [
    "from scipy.cluster.hierarchy import dendrogram\n",
    "from sklearn.cluster import AgglomerativeClustering\n",
    "\n",
    "\n",
    "def plot_dendrogram(model, **kwargs):\n",
    "    # Create linkage matrix and then plot the dendrogram\n",
    "\n",
    "    # create the counts of samples under each node\n",
    "    counts = np.zeros(model.children_.shape[0])\n",
    "    n_samples = len(model.labels_)\n",
    "    for i, merge in enumerate(model.children_):\n",
    "        current_count = 0\n",
    "        for child_idx in merge:\n",
    "            if child_idx < n_samples:\n",
    "                current_count += 1  # leaf node\n",
    "            else:\n",
    "                current_count += counts[child_idx - n_samples]\n",
    "        counts[i] = current_count\n",
    "\n",
    "    linkage_matrix = np.column_stack(\n",
    "        [model.children_, model.distances_, counts]\n",
    "    ).astype(float)\n",
    "\n",
    "    # Plot the corresponding dendrogram\n",
    "    dendrogram(linkage_matrix, **kwargs)\n",
    "\n",
    "\n",
    "model = AgglomerativeClustering(distance_threshold=0, n_clusters=None, metric='precomputed', linkage='average')\n",
    "model = model.fit(X)\n",
    "plt.title(\"Hierarchical Clustering of Virus Genome Data\")\n",
    "# plot the top three levels of the dendrogram\n",
    "plot_dendrogram(model, truncate_mode=\"level\", p=2)\n",
    "plt.xlabel(\"Number of points in node (or index of point if no parenthesis).\")\n",
    "plt.show()"
   ]
  },
  {
   "cell_type": "code",
   "execution_count": null,
   "metadata": {},
   "outputs": [],
   "source": []
  }
 ],
 "metadata": {
  "kernelspec": {
   "display_name": "Python 3.9.8 64-bit",
   "language": "python",
   "name": "python3"
  },
  "language_info": {
   "codemirror_mode": {
    "name": "ipython",
    "version": 3
   },
   "file_extension": ".py",
   "mimetype": "text/x-python",
   "name": "python",
   "nbconvert_exporter": "python",
   "pygments_lexer": "ipython3",
   "version": "3.9.8"
  },
  "orig_nbformat": 4,
  "vscode": {
   "interpreter": {
    "hash": "aee8b7b246df8f9039afb4144a1f6fd8d2ca17a180786b69acc140d282b71a49"
   }
  }
 },
 "nbformat": 4,
 "nbformat_minor": 2
}
